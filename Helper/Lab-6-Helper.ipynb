{
 "cells": [
  {
   "cell_type": "markdown",
   "metadata": {
    "id": "L2n4e3NKacEy"
   },
   "source": [
    "<a href='https://www.darshan.ac.in/'> <img src='https://www.darshan.ac.in/Content/media/DU_Logo.svg' width=\"250\" height=\"300\"/></a>\n",
    "<pre>\n",
    "<center><b><h1>Python Programming - 2101CS405</b></center>\n",
    "<center><b><h1>Lab - 6</b></center>    \n",
    "<pre>"
   ]
  },
  {
   "cell_type": "markdown",
   "metadata": {
    "id": "IEuvkJjAacE0"
   },
   "source": [
    "# Tuples, dictionary, set"
   ]
  },
  {
   "cell_type": "code",
   "execution_count": 3,
   "metadata": {
    "id": "8By5u7WQg1Tg"
   },
   "outputs": [
    {
     "name": "stdout",
     "output_type": "stream",
     "text": [
      "Enter Key : 2\n",
      "Enter Value : hi\n",
      "Enter Key : 3\n",
      "Enter Value : bye\n",
      "{'2': 'hi', '3': 'bye'}\n"
     ]
    }
   ],
   "source": [
    "# cretae custom dictionary\n",
    "my_dict = {}\n",
    "n = 2\n",
    "for i in range(n):\n",
    "    a = input(\"Enter Key : \")\n",
    "    my_dict[a] = input(\"Enter Value : \")\n",
    "print(my_dict)"
   ]
  },
  {
   "cell_type": "code",
   "execution_count": 1,
   "metadata": {},
   "outputs": [
    {
     "name": "stdout",
     "output_type": "stream",
     "text": [
      "Key :  3  Value :  x\n",
      "Key :  5  Value :  a\n",
      "Key :  1  Value :  z\n",
      "Key :  4  Value :  b\n",
      "Key :  2  Value :  y\n"
     ]
    }
   ],
   "source": [
    "# looping through dictionary\n",
    "my_dict = {3: 'x', 5: 'a', 1: 'z', 4: 'b', 2: 'y'}\n",
    "for i in my_dict:\n",
    "    print(\"Key : \", i , \" Value : \", my_dict[i] )"
   ]
  },
  {
   "cell_type": "code",
   "execution_count": 9,
   "metadata": {},
   "outputs": [
    {
     "name": "stdout",
     "output_type": "stream",
     "text": [
      "Found val at key :  4\n",
      "Val Not Found\n"
     ]
    }
   ],
   "source": [
    "# finding a value in dictionary\n",
    "my_dict = {3: 'x', 5: 'a', 1: 'z', 4: 'b', 2: 'y'}\n",
    "\n",
    "def find_val(find_val):\n",
    "    global my_dict\n",
    "    for i in my_dict:\n",
    "        if(my_dict[i] == find_val):\n",
    "            print(\"Found val at key : \", i)\n",
    "            break\n",
    "    else:\n",
    "        print(\"Val Not Found\")\n",
    "        \n",
    "find_val('b')\n",
    "find_val('f')\n",
    "\n"
   ]
  },
  {
   "cell_type": "code",
   "execution_count": 10,
   "metadata": {},
   "outputs": [
    {
     "name": "stdout",
     "output_type": "stream",
     "text": [
      "Key Exists\n",
      "No key found\n"
     ]
    }
   ],
   "source": [
    "# check if a key is there or not in a dictionary\n",
    "my_dict = {3: 'x', 5: 'a', 1: 'z', 4: 'b', 2: 'y'}\n",
    "\n",
    "def find_key(find_key):\n",
    "    global my_dict\n",
    "    if find_key in my_dict:\n",
    "        print(\"Key Exists\")\n",
    "    else:\n",
    "        print(\"No key found\")\n",
    "\n",
    "find_key(2) \n",
    "find_key('2')"
   ]
  },
  {
   "cell_type": "markdown",
   "metadata": {
    "id": "DzI2g-45acE0"
   },
   "source": [
    "# A"
   ]
  },
  {
   "cell_type": "markdown",
   "metadata": {
    "id": "oRvJWdRFacE1"
   },
   "source": [
    "### 01) WAP to sort python dictionary by key or value."
   ]
  },
  {
   "cell_type": "code",
   "execution_count": 11,
   "metadata": {
    "colab": {
     "base_uri": "https://localhost:8080/"
    },
    "executionInfo": {
     "elapsed": 1160,
     "status": "ok",
     "timestamp": 1705931181381,
     "user": {
      "displayName": "Tej Patel",
      "userId": "04032777318747107215"
     },
     "user_tz": -330
    },
    "id": "P3j8SHGNacE1",
    "outputId": "98c1c4ab-335e-478d-fd83-2eaa067c80bf"
   },
   "outputs": [
    {
     "name": "stdout",
     "output_type": "stream",
     "text": [
      "{1: 'z', 2: 'y', 3: 'x', 4: 'b', 5: 'a'}\n",
      "['a', 'b', 'x', 'y', 'z']\n"
     ]
    }
   ],
   "source": [
    "d= {}\n",
    "for i in range(5):\n",
    "    i=int(input(\"Enter Key : \"))\n",
    "    d[i]=input(\"Enter Value : \")\n",
    "    \n",
    "key=list(d.keys())\n",
    "key.sort()\n",
    "k_d={}\n",
    "for i in key:\n",
    "    k_d[i]=d[i]\n",
    "print(k_d)\n"
   ]
  },
  {
   "cell_type": "markdown",
   "metadata": {
    "id": "mMLPyMi5acE1"
   },
   "source": [
    "### 02) WAP to merge two dictionaries given by user."
   ]
  },
  {
   "cell_type": "markdown",
   "metadata": {},
   "source": []
  },
  {
   "cell_type": "code",
   "execution_count": 22,
   "metadata": {},
   "outputs": [
    {
     "name": "stdout",
     "output_type": "stream",
     "text": [
      "dictionary-1\n"
     ]
    },
    {
     "name": "stdin",
     "output_type": "stream",
     "text": [
      "Enter Key :  a\n",
      "Enter Value :  1\n",
      "Enter Key :  b\n",
      "Enter Value :  2\n",
      "Enter Key :  c\n",
      "Enter Value :  3\n"
     ]
    },
    {
     "name": "stdout",
     "output_type": "stream",
     "text": [
      "dictionary-2\n"
     ]
    },
    {
     "name": "stdin",
     "output_type": "stream",
     "text": [
      "Enter Key :  d\n",
      "Enter Value :  4\n",
      "Enter Key :  e\n",
      "Enter Value :  5\n",
      "Enter Key :  f\n",
      "Enter Value :  6\n"
     ]
    },
    {
     "name": "stdout",
     "output_type": "stream",
     "text": [
      "Dictionary-1 :  {'a': 1, 'b': 2, 'c': 3}\n",
      "Dictionary-2 :  {'d': 4, 'e': 5, 'f': 6}\n",
      "Merged Dictionary :  {'a': 1, 'b': 2, 'c': 3, 'd': 4, 'e': 5, 'f': 6}\n"
     ]
    }
   ],
   "source": [
    "d1= {}\n",
    "print(\"dictionary-1\")\n",
    "for i in range(3):\n",
    "    i=input(\"Enter Key : \")\n",
    "    d1[i]=int(input(\"Enter Value : \"))\n",
    "\n",
    "d2={}\n",
    "print(\"dictionary-2\")\n",
    "for i in range(3):\n",
    "    i=input(\"Enter Key : \")\n",
    "    d2[i]=int(input(\"Enter Value : \"))\n",
    "\n",
    "d3=(d1|d2)\n",
    "print(\"Dictionary-1 : \",d1)\n",
    "print(\"Dictionary-2 : \",d2)\n",
    "print(\"Merged Dictionary : \",d3)"
   ]
  },
  {
   "cell_type": "markdown",
   "metadata": {
    "id": "5AImqCgGacE2"
   },
   "source": [
    "### 03) WAP to find tuples that have all elements divisible by K from a list of tuples."
   ]
  },
  {
   "cell_type": "code",
   "execution_count": 29,
   "metadata": {
    "colab": {
     "base_uri": "https://localhost:8080/"
    },
    "executionInfo": {
     "elapsed": 421,
     "status": "ok",
     "timestamp": 1705931599896,
     "user": {
      "displayName": "Tej Patel",
      "userId": "04032777318747107215"
     },
     "user_tz": -330
    },
    "id": "HHotF0v_acE2",
    "outputId": "5c4a2c74-8792-45de-c87c-0d6f6d3f7e3c"
   },
   "outputs": [
    {
     "name": "stdin",
     "output_type": "stream",
     "text": [
      "Enter number :  1\n",
      "Enter number :  2\n",
      "Enter number :  3\n",
      "Enter number :  4\n",
      "Enter number :  5\n",
      "Enter number :  6\n",
      "Enter number :  7\n",
      "Enter number :  8\n",
      "Enter number :  9\n",
      "Enter number :  10\n",
      "Enter Divisor :  1\n"
     ]
    },
    {
     "name": "stdout",
     "output_type": "stream",
     "text": [
      "[(1, 2), (3, 4), (5, 6), (7, 8), (9, 10)]\n"
     ]
    }
   ],
   "source": [
    "list=[]\n",
    "temp=[]\n",
    "\n",
    "for i in range(5):\n",
    "    for j in range(2):\n",
    "        temp.append(int(input(\"Enter number : \")))\n",
    "    list.append(tuple(temp))\n",
    "    temp.clear()\n",
    "\n",
    "new_list=[]\n",
    "d=int(input(\"Enter Divisor : \"))\n",
    "f=True\n",
    "for i in list:\n",
    "    for j in i:\n",
    "        if j%d!=0:\n",
    "            f=False\n",
    "    if(f):\n",
    "        new_list.append(i)\n",
    "    flag=True\n",
    "\n",
    "print(new_list)"
   ]
  },
  {
   "cell_type": "markdown",
   "metadata": {
    "id": "kNGjSwE3acE2"
   },
   "source": [
    "### 04) WAP to find Tuples with positive elements in List of tuples."
   ]
  },
  {
   "cell_type": "code",
   "execution_count": 33,
   "metadata": {
    "colab": {
     "base_uri": "https://localhost:8080/"
    },
    "executionInfo": {
     "elapsed": 432,
     "status": "ok",
     "timestamp": 1705931660495,
     "user": {
      "displayName": "Tej Patel",
      "userId": "04032777318747107215"
     },
     "user_tz": -330
    },
    "id": "libV1_wkacE2",
    "outputId": "1afdd8d2-e040-4bd9-b263-e664007c5fd1"
   },
   "outputs": [
    {
     "name": "stdin",
     "output_type": "stream",
     "text": [
      "Enter number :  1\n",
      "Enter number :  2\n",
      "Enter number :  3\n",
      "Enter number :  -4\n",
      "Enter number :  5\n",
      "Enter number :  6\n",
      "Enter number :  -7\n",
      "Enter number :  -8\n",
      "Enter number :  9\n",
      "Enter number :  10\n"
     ]
    },
    {
     "name": "stdout",
     "output_type": "stream",
     "text": [
      "[(1, 2), (5, 6), (9, 10)]\n"
     ]
    }
   ],
   "source": [
    "list=[]\n",
    "temp=[]\n",
    "\n",
    "for i in range(5):\n",
    "    for j in range(2):\n",
    "        temp.append(int(input(\"Enter number : \")))\n",
    "    list.append(tuple(temp))\n",
    "    temp.clear()\n",
    "\n",
    "new_list=[]\n",
    "f=True\n",
    "for i in list:\n",
    "    for j in i:\n",
    "        if j<0:\n",
    "            f=False\n",
    "    if(f):\n",
    "        new_list.append(i)\n",
    "    f=True\n",
    "\n",
    "print(new_list)"
   ]
  },
  {
   "cell_type": "markdown",
   "metadata": {
    "id": "J2xzeHfSacE3"
   },
   "source": [
    "### 05) WAP which perform union of two sets."
   ]
  },
  {
   "cell_type": "markdown",
   "metadata": {
    "colab": {
     "base_uri": "https://localhost:8080/"
    },
    "executionInfo": {
     "elapsed": 533,
     "status": "ok",
     "timestamp": 1705931729355,
     "user": {
      "displayName": "Tej Patel",
      "userId": "04032777318747107215"
     },
     "user_tz": -330
    },
    "id": "3y79pYxkacE3",
    "outputId": "7f2dc816-d3b8-447b-88fc-a124b6eaafe9"
   },
   "source": [
    "s1=set()\n",
    "s2=set()\n",
    "n=int(input(\"Enter length of set-1 : \"))\n",
    "for i in range(0,n):\n",
    "    s1.add(int(input(\"Enter element : \")))\n",
    "n1=int(input(\"Enter length of set-2 : \"))\n",
    "for i in range(0,1):\n",
    "    s2.add(int(input(\"Enter element : \")))\n",
    "\n",
    "print(s1.union(s2))"
   ]
  },
  {
   "cell_type": "code",
   "execution_count": 36,
   "metadata": {},
   "outputs": [
    {
     "name": "stdin",
     "output_type": "stream",
     "text": [
      "Enter length of set-1 :  5\n",
      "Enter element :  1\n",
      "Enter element :  2\n",
      "Enter element :  3\n",
      "Enter element :  4\n",
      "Enter element :  5\n",
      "Enter length of set-2 :  5\n",
      "Enter element :  3\n",
      "Enter element :  4\n",
      "Enter element :  5\n",
      "Enter element :  6\n",
      "Enter element :  7\n"
     ]
    },
    {
     "name": "stdout",
     "output_type": "stream",
     "text": [
      "{1, 2, 3, 4, 5, 6, 7}\n"
     ]
    }
   ],
   "source": [
    "s1=set()\n",
    "s2=set()\n",
    "n=int(input(\"Enter length of set-1 : \"))\n",
    "for i in range(0,n):\n",
    "    s1.add(int(input(\"Enter element : \")))\n",
    "n1=int(input(\"Enter length of set-2 : \"))\n",
    "for i in range(0,n1):\n",
    "    s2.add(int(input(\"Enter element : \")))\n",
    "\n",
    "print(s1.union(s2))"
   ]
  },
  {
   "cell_type": "markdown",
   "metadata": {
    "id": "mrhAYJAKacE3"
   },
   "source": [
    "# B"
   ]
  },
  {
   "cell_type": "markdown",
   "metadata": {
    "id": "tF2YrUZ0acE3"
   },
   "source": [
    "### 01) WAP to convert binary tuple into integer."
   ]
  },
  {
   "cell_type": "markdown",
   "metadata": {
    "id": "5dyAy0pad03M"
   },
   "source": [
    "<img src=\"https://media.geeksforgeeks.org/wp-content/uploads/20211220193034/binary2.PNG\">"
   ]
  },
  {
   "cell_type": "code",
   "execution_count": 12,
   "metadata": {},
   "outputs": [
    {
     "name": "stdout",
     "output_type": "stream",
     "text": [
      "5\n",
      "4\n",
      "3\n",
      "2\n",
      "1\n"
     ]
    }
   ],
   "source": [
    "n = 5\n",
    "for i in range(5):\n",
    "    print(n-i)"
   ]
  },
  {
   "cell_type": "code",
   "execution_count": 15,
   "metadata": {
    "colab": {
     "base_uri": "https://localhost:8080/"
    },
    "executionInfo": {
     "elapsed": 6,
     "status": "ok",
     "timestamp": 1705931823761,
     "user": {
      "displayName": "Tej Patel",
      "userId": "04032777318747107215"
     },
     "user_tz": -330
    },
    "id": "kpMB4HC8acE3",
    "outputId": "a61a5d36-94eb-4378-fc0d-ae158b49009b"
   },
   "outputs": [
    {
     "name": "stdout",
     "output_type": "stream",
     "text": [
      "Original tuple: (1, 0, 1, 0, 1)\n",
      "Integer: 21\n"
     ]
    }
   ],
   "source": []
  },
  {
   "cell_type": "markdown",
   "metadata": {
    "id": "T36eCyrOacE4"
   },
   "source": [
    "### 02) WAP to count frequency in list by dictionary."
   ]
  },
  {
   "cell_type": "markdown",
   "metadata": {
    "colab": {
     "base_uri": "https://localhost:8080/"
    },
    "executionInfo": {
     "elapsed": 425,
     "status": "ok",
     "timestamp": 1705932030300,
     "user": {
      "displayName": "Tej Patel",
      "userId": "04032777318747107215"
     },
     "user_tz": -330
    },
    "id": "zMlxOGmyacE4",
    "outputId": "4b1e2d8a-167f-483c-f2c5-0d79049fb37d"
   },
   "source": []
  },
  {
   "cell_type": "code",
   "execution_count": 44,
   "metadata": {},
   "outputs": [
    {
     "ename": "TypeError",
     "evalue": "'dict' object is not callable",
     "output_type": "error",
     "traceback": [
      "\u001b[1;31m---------------------------------------------------------------------------\u001b[0m",
      "\u001b[1;31mTypeError\u001b[0m                                 Traceback (most recent call last)",
      "Cell \u001b[1;32mIn[44], line 2\u001b[0m\n\u001b[0;32m      1\u001b[0m \u001b[38;5;28mlist\u001b[39m\u001b[38;5;241m=\u001b[39m[]\n\u001b[1;32m----> 2\u001b[0m Dict\u001b[38;5;241m=\u001b[39m\u001b[38;5;28;43mdict\u001b[39;49m\u001b[43m(\u001b[49m\u001b[43m)\u001b[49m\n\u001b[0;32m      3\u001b[0m n\u001b[38;5;241m=\u001b[39m\u001b[38;5;28mint\u001b[39m(\u001b[38;5;28minput\u001b[39m(\u001b[38;5;124m\"\u001b[39m\u001b[38;5;124mEnter length of set-1 : \u001b[39m\u001b[38;5;124m\"\u001b[39m))\n\u001b[0;32m      4\u001b[0m \u001b[38;5;28;01mfor\u001b[39;00m i \u001b[38;5;129;01min\u001b[39;00m \u001b[38;5;28mrange\u001b[39m(\u001b[38;5;241m0\u001b[39m,n):\n",
      "\u001b[1;31mTypeError\u001b[0m: 'dict' object is not callable"
     ]
    }
   ],
   "source": [
    "list=[]\n",
    "Dict=dict()\n",
    "n=int(input(\"Enter length of set-1 : \"))\n",
    "for i in range(0,n):\n",
    "    list.append(int(input(\"Enter element : \")))\n",
    "\n",
    "for i in list:\n",
    "    count=list.count(i)\n",
    "    Dict[i]=count\n",
    "\n",
    "print(Dict)"
   ]
  },
  {
   "cell_type": "markdown",
   "metadata": {
    "id": "8ppOXcImacE4"
   },
   "source": [
    "### 03) WAP to remove all the duplicate words from the list using dictionary."
   ]
  },
  {
   "cell_type": "code",
   "execution_count": 45,
   "metadata": {
    "colab": {
     "base_uri": "https://localhost:8080/"
    },
    "executionInfo": {
     "elapsed": 432,
     "status": "ok",
     "timestamp": 1705932434055,
     "user": {
      "displayName": "Tej Patel",
      "userId": "04032777318747107215"
     },
     "user_tz": -330
    },
    "id": "3gQJNASGacE4",
    "outputId": "89afc49a-f780-4fd3-bf5c-b79941a4eb7b"
   },
   "outputs": [
    {
     "ename": "TypeError",
     "evalue": "'dict' object is not callable",
     "output_type": "error",
     "traceback": [
      "\u001b[1;31m---------------------------------------------------------------------------\u001b[0m",
      "\u001b[1;31mTypeError\u001b[0m                                 Traceback (most recent call last)",
      "Cell \u001b[1;32mIn[45], line 2\u001b[0m\n\u001b[0;32m      1\u001b[0m List\u001b[38;5;241m=\u001b[39m[]\n\u001b[1;32m----> 2\u001b[0m Dict\u001b[38;5;241m=\u001b[39m\u001b[38;5;28;43mdict\u001b[39;49m\u001b[43m(\u001b[49m\u001b[43m)\u001b[49m\n\u001b[0;32m      4\u001b[0m \u001b[38;5;28;01mfor\u001b[39;00m i \u001b[38;5;129;01min\u001b[39;00m \u001b[38;5;28mrange\u001b[39m(\u001b[38;5;241m10\u001b[39m):\n\u001b[0;32m      5\u001b[0m     List\u001b[38;5;241m.\u001b[39mappend((\u001b[38;5;28minput\u001b[39m()))  \n",
      "\u001b[1;31mTypeError\u001b[0m: 'dict' object is not callable"
     ]
    }
   ],
   "source": [
    "List=[]\n",
    "Dict=dict()\n",
    "\n",
    "for i in range(10):\n",
    "    List.append((input()))  \n",
    "for i in List: \n",
    "    c=List.count(i)\n",
    "    Dict[i]=c\n",
    "List=list(set(List))\n",
    "\n",
    "print(List)\n",
    "print(Dict)"
   ]
  }
 ],
 "metadata": {
  "colab": {
   "provenance": []
  },
  "kernelspec": {
   "display_name": "Python 3 (ipykernel)",
   "language": "python",
   "name": "python3"
  },
  "language_info": {
   "codemirror_mode": {
    "name": "ipython",
    "version": 3
   },
   "file_extension": ".py",
   "mimetype": "text/x-python",
   "name": "python",
   "nbconvert_exporter": "python",
   "pygments_lexer": "ipython3",
   "version": "3.12.1"
  }
 },
 "nbformat": 4,
 "nbformat_minor": 4
}
