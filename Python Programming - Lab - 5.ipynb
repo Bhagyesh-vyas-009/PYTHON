{
 "cells": [
  {
   "cell_type": "markdown",
   "metadata": {},
   "source": [
    "\n",
    "<a href='https://www.darshan.ac.in/'> <img src='https://www.darshan.ac.in/Content/media/DU_Logo.svg' width=\"250\" height=\"300\"/></a>\n",
    "<pre>\n",
    "<center><b><h1>Python Programming - 2101CS405</b></center>\n",
    "<center><b><h1>Lab - 5</b></center>    \n",
    "<pre>"
   ]
  },
  {
   "cell_type": "markdown",
   "metadata": {},
   "source": [
    "### Name : Vyas Bhagyesh Y¶\n",
    "### Enrollment No : 23010101662\n",
    "### Roll No :23010101662"
   ]
  },
  {
   "cell_type": "markdown",
   "metadata": {},
   "source": [
    "# list"
   ]
  },
  {
   "cell_type": "markdown",
   "metadata": {},
   "source": [
    "### 01) WAP to find sum of all the elements in List."
   ]
  },
  {
   "cell_type": "code",
   "execution_count": 3,
   "metadata": {},
   "outputs": [
    {
     "name": "stdin",
     "output_type": "stream",
     "text": [
      "Enter Size of List :  5\n",
      "Enter Elment :  1\n",
      "Enter Elment :  2\n",
      "Enter Elment :  3\n",
      "Enter Elment :  4\n",
      "Enter Elment :  5\n"
     ]
    },
    {
     "name": "stdout",
     "output_type": "stream",
     "text": [
      "Sum of all elements =  15\n"
     ]
    }
   ],
   "source": [
    "n=int(input(\"Enter Size of List : \"))\n",
    "list=[int(input(\"Enter Elment : \")) for i in range(1,n+1)]\n",
    "sum=0\n",
    "for i in list:\n",
    "    sum+=i\n",
    "print(\"Sum of all elements = \",sum)"
   ]
  },
  {
   "cell_type": "markdown",
   "metadata": {},
   "source": [
    "### 02) WAP to find largest element in a List."
   ]
  },
  {
   "cell_type": "code",
   "execution_count": 14,
   "metadata": {},
   "outputs": [
    {
     "name": "stdin",
     "output_type": "stream",
     "text": [
      "Enter size of List :  5\n",
      "Enter element :  12\n",
      "Enter element :  3\n",
      "Enter element :  45\n",
      "Enter element :  6\n",
      "Enter element :  2\n"
     ]
    },
    {
     "name": "stdout",
     "output_type": "stream",
     "text": [
      "Max =  45\n"
     ]
    }
   ],
   "source": [
    "n=int(input(\"Enter size of List : \"))\n",
    "li2 = [int(input(\"Enter element : \")) for i in range(1,n+1)]\n",
    "\n",
    "max1=li2[0]\n",
    "for i in li2:\n",
    "    if i>max1:\n",
    "        max1=i\n",
    "print(\"Max = \",max1)"
   ]
  },
  {
   "cell_type": "markdown",
   "metadata": {},
   "source": [
    "### 03) WAP to split the List into two and append the first part to the end."
   ]
  },
  {
   "cell_type": "code",
   "execution_count": 8,
   "metadata": {},
   "outputs": [
    {
     "name": "stdin",
     "output_type": "stream",
     "text": [
      "Enter size of List :  5\n",
      "Enter element :  1\n",
      "Enter element :  2\n",
      "Enter element :  3\n",
      "Enter element :  4\n",
      "Enter element :  5\n"
     ]
    },
    {
     "name": "stdout",
     "output_type": "stream",
     "text": [
      "Original List ::  [1, 2, 3, 4, 5]\n",
      "[3, 4, 5, 1, 2]\n"
     ]
    }
   ],
   "source": [
    "n=int(input(\"Enter size of List : \"))\n",
    "li3 = [int(input(\"Enter element : \")) for i in range(1,n+1)]\n",
    "\n",
    "position = int(len(li3)/2)\n",
    "print(\"Original List :: \",li3)\n",
    "y=[]\n",
    "x = li3[:position]\n",
    "y = li3[position:]\n",
    "y.extend(x)\n",
    "print(y)"
   ]
  },
  {
   "cell_type": "markdown",
   "metadata": {},
   "source": [
    "### 04) WAP to interchange first and last elements in list entered by a user."
   ]
  },
  {
   "cell_type": "code",
   "execution_count": 3,
   "metadata": {},
   "outputs": [
    {
     "name": "stdin",
     "output_type": "stream",
     "text": [
      "Enter size of list :  5\n",
      "Enter element :  1\n",
      "Enter element :  2\n",
      "Enter element :  3\n",
      "Enter element :  4\n",
      "Enter element :  5\n"
     ]
    },
    {
     "name": "stdout",
     "output_type": "stream",
     "text": [
      "Original List ::  [1, 2, 3, 4, 5]\n",
      "NEw List ::  [5, 2, 3, 4, 1]\n"
     ]
    }
   ],
   "source": [
    "n=int(input(\"Enter size of list : \"))\n",
    "a=[int(input(\"Enter element : \")) for i in range(1,n+1)]\n",
    "\n",
    "print(\"Original List :: \",a)\n",
    "\n",
    "a[-1],a[0]=a[0],a[-1]\n",
    "\n",
    "print(\"NEw List :: \",a)"
   ]
  },
  {
   "cell_type": "markdown",
   "metadata": {},
   "source": [
    "### 05) WAP to interchange the elements on two positions entered by a user."
   ]
  },
  {
   "cell_type": "code",
   "execution_count": 22,
   "metadata": {},
   "outputs": [
    {
     "name": "stdin",
     "output_type": "stream",
     "text": [
      "Enter size of list :  5\n",
      "Enter element :  1\n",
      "Enter element :  2\n",
      "Enter element :  3\n",
      "Enter element :  4\n",
      "Enter element :  5\n",
      "Enter position-1 :  2\n",
      "Enter position-2 :  3\n"
     ]
    },
    {
     "name": "stdout",
     "output_type": "stream",
     "text": [
      "Original list :  [1, 2, 3, 4, 5]\n",
      "List after interchange : [1, 3, 2, 4, 5]\n"
     ]
    }
   ],
   "source": [
    "n=int(input(\"Enter size of list : \"))\n",
    "l2=[int(input(\"Enter element : \")) for i in range(1,n+1)]\n",
    "p1=int(input(\"Enter position-1 : \"))\n",
    "p2=int(input(\"Enter position-2 : \"))\n",
    "\n",
    "print(\"Original list : \",l2)\n",
    "l2[p1-1], l2[p2-1] = l2[p2-1],l2[p1-1]\n",
    "\n",
    "print(\"List after interchange :\",l2)"
   ]
  },
  {
   "cell_type": "markdown",
   "metadata": {},
   "source": [
    "### 06) WAP to reverses the list entered by user."
   ]
  },
  {
   "cell_type": "code",
   "execution_count": 5,
   "metadata": {},
   "outputs": [
    {
     "name": "stdin",
     "output_type": "stream",
     "text": [
      "Enter size of List :  5\n",
      "Enter Element :  1\n",
      "Enter Element :  2\n",
      "Enter Element :  3\n",
      "Enter Element :  4\n",
      "Enter Element :  5\n"
     ]
    },
    {
     "name": "stdout",
     "output_type": "stream",
     "text": [
      "Original List ::  [1, 2, 3, 4, 5]\n",
      "Reversed List ::  [5, 4, 3, 2, 1]\n"
     ]
    }
   ],
   "source": [
    "n=int(input(\"Enter size of List : \"))\n",
    "l3=[int(input(\"Enter Element : \")) for i in range(1,n+1)]\n",
    "\n",
    "print(\"Original List :: \",l3)\n",
    "l3=l3[::-1]\n",
    "\n",
    "print(\"Reversed List :: \",l3)"
   ]
  },
  {
   "cell_type": "markdown",
   "metadata": {},
   "source": [
    "### 07) Python program to remove multiple elements from a list using list comprehension"
   ]
  },
  {
   "cell_type": "code",
   "execution_count": 21,
   "metadata": {},
   "outputs": [
    {
     "name": "stdin",
     "output_type": "stream",
     "text": [
      "Enter size of List :  5\n",
      "Enter element :  1\n",
      "Enter element :  2\n",
      "Enter element :  3\n",
      "Enter element :  4\n",
      "Enter element :  5\n"
     ]
    },
    {
     "name": "stdout",
     "output_type": "stream",
     "text": [
      "New List :  [3, 4, 5]\n"
     ]
    }
   ],
   "source": [
    "n=int(input(\"Enter size of List : \"))\n",
    "li3 = [int(input(\"Enter element : \")) for i in range(1,n+1)]\n",
    "\n",
    "remove=[1,2]\n",
    "\n",
    "li3=[i for i in li3 if i not in remove]\n",
    "\n",
    "print(\"New List : \",li3)"
   ]
  },
  {
   "cell_type": "markdown",
   "metadata": {},
   "source": [
    "### 08) Create a list from the specified start to end index of another list."
   ]
  },
  {
   "cell_type": "code",
   "execution_count": 4,
   "metadata": {},
   "outputs": [
    {
     "name": "stdin",
     "output_type": "stream",
     "text": [
      "Enter Start Index :  2\n",
      "Enter End Index :  5\n"
     ]
    },
    {
     "name": "stdout",
     "output_type": "stream",
     "text": [
      "New List ::  [3, 4, 5]\n"
     ]
    }
   ],
   "source": [
    "l8=[1,2,3,4,5,6,7,8,9,10]\n",
    "start=int(input(\"Enter Start Index : \"))\n",
    "end=int(input(\"Enter End Index : \"))\n",
    "\n",
    "l81=[]\n",
    "l81=l8[start:end:]\n",
    "\n",
    "print(\"New List :: \",l81)"
   ]
  },
  {
   "cell_type": "markdown",
   "metadata": {},
   "source": [
    "### 09) Input comma separated elements, convert into list and print."
   ]
  },
  {
   "cell_type": "code",
   "execution_count": 32,
   "metadata": {},
   "outputs": [
    {
     "name": "stdin",
     "output_type": "stream",
     "text": [
      "Enter comma separeted number ::  455,78,9,04,34,56,22,111\n"
     ]
    },
    {
     "name": "stdout",
     "output_type": "stream",
     "text": [
      "String ::  455,78,9,04,34,56,22,111\n",
      "List ::  ['455', '78', '9', '04', '34', '56', '22', '111']\n"
     ]
    }
   ],
   "source": [
    "str=input(\"Enter comma separeted number :: \")\n",
    "print(\"String :: \",str)\n",
    "l9=str.split(\",\")\n",
    "print(\"List :: \",l9)"
   ]
  },
  {
   "cell_type": "markdown",
   "metadata": {},
   "source": [
    "### 01) WAP to count Even and Odd numbers in a List."
   ]
  },
  {
   "cell_type": "code",
   "execution_count": 27,
   "metadata": {},
   "outputs": [
    {
     "name": "stdin",
     "output_type": "stream",
     "text": [
      "Enter size of List :  10\n",
      "Enter Element :  1\n",
      "Enter Element :  2\n",
      "Enter Element :  3\n",
      "Enter Element :  4\n",
      "Enter Element :  5\n",
      "Enter Element :  6\n",
      "Enter Element :  7\n",
      "Enter Element :  8\n",
      "Enter Element :  9\n",
      "Enter Element :  10\n"
     ]
    },
    {
     "name": "stdout",
     "output_type": "stream",
     "text": [
      "EVEN COUNT ::  5\n",
      "ODD COUNT ::  5\n"
     ]
    }
   ],
   "source": [
    "n=int(input(\"Enter size of List : \"))\n",
    "l4=[int(input(\"Enter Element : \")) for i in range(1,n+1)]\n",
    "ec=0\n",
    "oc=0\n",
    "for i in l4:\n",
    "    if i%2==0:\n",
    "        ec+=1\n",
    "    else:\n",
    "        oc+=1\n",
    "\n",
    "print(\"EVEN COUNT :: \",ec)\n",
    "print(\"ODD COUNT :: \",oc)"
   ]
  },
  {
   "cell_type": "markdown",
   "metadata": {},
   "source": [
    "### 02) Python program to find N largest and smallest elements from the list"
   ]
  },
  {
   "cell_type": "code",
   "execution_count": 3,
   "metadata": {},
   "outputs": [
    {
     "name": "stdin",
     "output_type": "stream",
     "text": [
      "Enter size of List :  5\n",
      "Enter Element :  1\n",
      "Enter Element :  2\n",
      "Enter Element :  3\n",
      "Enter Element :  4\n",
      "Enter Element :  5\n",
      "Enter n :  3\n"
     ]
    },
    {
     "name": "stdout",
     "output_type": "stream",
     "text": [
      "Original List :  [1, 2, 3, 4, 5]\n",
      "Smallest elements are =>  [1, 2, 3]\n",
      "Largest elements are =>  [5, 4, 3]\n"
     ]
    }
   ],
   "source": [
    "length=int(input(\"Enter size of List : \"))\n",
    "l4=[int(input(\"Enter Element : \")) for i in range(1,length+1)]\n",
    "n=int(input(\"Enter n : \"))\n",
    "min_list=[]\n",
    "max_list=[]\n",
    "l4=sorted(l4)\n",
    "print(\"Original List : \",l4)\n",
    "\n",
    "print(\"Smallest elements are => \",l4[:n])\n",
    "print(\"Largest elements are => \",l4[:-n-1:-1])"
   ]
  },
  {
   "cell_type": "markdown",
   "metadata": {},
   "source": [
    "### 03) WAP to print duplicates from a list of integers"
   ]
  },
  {
   "cell_type": "code",
   "execution_count": 36,
   "metadata": {},
   "outputs": [
    {
     "name": "stdin",
     "output_type": "stream",
     "text": [
      "Enter size of List :  10\n",
      "Enter Element :  1\n",
      "Enter Element :  2\n",
      "Enter Element :  3\n",
      "Enter Element :  2\n",
      "Enter Element :  3\n",
      "Enter Element :  4\n",
      "Enter Element :  5\n",
      "Enter Element :  6\n",
      "Enter Element :  7\n",
      "Enter Element :  7\n"
     ]
    },
    {
     "name": "stdout",
     "output_type": "stream",
     "text": [
      "List of Duplicate =  [2, 3, 7]\n"
     ]
    }
   ],
   "source": [
    "n=int(input(\"Enter size of List : \"))\n",
    "l6=[int(input(\"Enter Element : \")) for i in range(1,n+1)]\n",
    "new_list=[]\n",
    "for i in range(0, len(l6)):    \n",
    "    for j in range(i+1, len(l6)):    \n",
    "        if(l6[i] == l6[j]):    \n",
    "            new_list.append(l6[j])\n",
    "print(\"List of Duplicate = \" ,new_list)"
   ]
  }
 ],
 "metadata": {
  "kernelspec": {
   "display_name": "Python 3 (ipykernel)",
   "language": "python",
   "name": "python3"
  },
  "language_info": {
   "codemirror_mode": {
    "name": "ipython",
    "version": 3
   },
   "file_extension": ".py",
   "mimetype": "text/x-python",
   "name": "python",
   "nbconvert_exporter": "python",
   "pygments_lexer": "ipython3",
   "version": "3.12.1"
  }
 },
 "nbformat": 4,
 "nbformat_minor": 4
}
