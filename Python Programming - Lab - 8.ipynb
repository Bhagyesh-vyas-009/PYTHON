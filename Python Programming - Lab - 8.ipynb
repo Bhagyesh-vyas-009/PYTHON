{
 "cells": [
  {
   "cell_type": "markdown",
   "metadata": {},
   "source": [
    "<a href='https://www.darshan.ac.in/'> <img src='https://www.darshan.ac.in/Content/media/DU_Logo.svg' width=\"250\" height=\"300\"/></a>\n",
    "<pre>\n",
    "<center><b><h1>Python Programming - 2101CS405</b></center>\n",
    "<center><b><h1>Lab - 8</b></center>    \n",
    "<pre>"
   ]
  },
  {
   "cell_type": "markdown",
   "metadata": {},
   "source": [
    "### Name :Vyas Bhagyesh Y.¶\n",
    "### Enrollment No : 23010101662\n",
    "### Roll N0 : 23010101662"
   ]
  },
  {
   "cell_type": "markdown",
   "metadata": {},
   "source": [
    "# File handling"
   ]
  },
  {
   "cell_type": "markdown",
   "metadata": {},
   "source": [
    "# A"
   ]
  },
  {
   "cell_type": "markdown",
   "metadata": {},
   "source": [
    "### 01) WAP to read entire file named abc.txt"
   ]
  },
  {
   "cell_type": "code",
   "execution_count": 1,
   "metadata": {},
   "outputs": [
    {
     "name": "stdout",
     "output_type": "stream",
     "text": [
      "Lorem ipsum dolor sit amet, consectetur adipiscing elit, sed do eiusmod tempor incididunt ut labore et dolore magna aliqua. Tristique sollicitudin nibh sit amet. Euismod elementum nisi quis eleifend quam adipiscing vitae. Feugiat in fermentum posuere urna nec tincidunt praesent. Sit amet consectetur adipiscing elit pellentesque habitant. Ut placerat orci nulla pellentesque dignissim. Laoreet id donec ultrices tincidunt arcu non sodales neque. Rhoncus dolor purus non enim. Cursus eget nunc scelerisque viverra. Scelerisque eu ultrices vitae auctor eu augue. Potenti nullam ac tortor vitae purus faucibus. Porttitor massa id neque aliquam vestibulum morbi blandit cursus risus. Dolor morbi non arcu risus quis varius. Lacus vestibulum sed arcu non odio euismod lacinia. Lobortis feugiat vivamus at augue eget arcu dictum varius. Fames ac turpis egestas maecenas. In nisl nisi scelerisque eu ultrices vitae auctor eu. Eget nunc scelerisque viverra mauris. Urna porttitor rhoncus dolor purus.\n"
     ]
    }
   ],
   "source": [
    "f= open(\"abc1.txt\",\"r\")\n",
    "print(f.read())\n",
    "f.close()"
   ]
  },
  {
   "cell_type": "markdown",
   "metadata": {},
   "source": [
    "### 02) WAP to print program it self on console."
   ]
  },
  {
   "cell_type": "code",
   "execution_count": 7,
   "metadata": {},
   "outputs": [
    {
     "data": {
      "text/plain": [
       "'def add(a,b):print(a+b)'"
      ]
     },
     "execution_count": 7,
     "metadata": {},
     "output_type": "execute_result"
    }
   ],
   "source": [
    "f=open(\"demo.py\",\"r\")\n",
    "f.read()"
   ]
  },
  {
   "cell_type": "markdown",
   "metadata": {},
   "source": [
    "### 03) WAP to read first 5 lines from the file named abc.txt"
   ]
  },
  {
   "cell_type": "code",
   "execution_count": 9,
   "metadata": {},
   "outputs": [
    {
     "name": "stdout",
     "output_type": "stream",
     "text": [
      "Lorem ipsum dolor sit amet, consectetur adipiscing elit, sed do eiusmod tempor incididunt ut labore et dolore magna aliqua.\n",
      "\n",
      "Tristique sollicitudin nibh sit amet. Euismod elementum nisi quis eleifend quam adipiscing vitae. \n",
      "\n",
      "Feugiat in fermentum posuere urna nec tincidunt praesent. \n",
      "\n",
      "Sit amet consectetur adipiscing elit pellentesque habitant. Ut placerat orci nulla pellentesque dignissim. \n",
      "\n",
      "Laoreet id donec ultrices tincidunt arcu non sodales neque. \n",
      "\n"
     ]
    }
   ],
   "source": [
    "f= open(\"abc.txt\",\"r\")\n",
    "# f.seek(0)\n",
    "for i in range(5):\n",
    "    print(f.readline())\n",
    "f.close() "
   ]
  },
  {
   "cell_type": "markdown",
   "metadata": {},
   "source": [
    "### 04) WAP to find the longest word in a file named abc.txt"
   ]
  },
  {
   "cell_type": "code",
   "execution_count": 10,
   "metadata": {},
   "outputs": [
    {
     "name": "stdout",
     "output_type": "stream",
     "text": [
      "sollicitudin\n"
     ]
    }
   ],
   "source": [
    "file = open(\"abc.txt\",\"r\")\n",
    "words = file.read().split()\n",
    "print(max(words,key=len))"
   ]
  },
  {
   "cell_type": "markdown",
   "metadata": {},
   "source": [
    "### 05) WAP to find the size of the file named abc.txt"
   ]
  },
  {
   "cell_type": "code",
   "execution_count": 4,
   "metadata": {},
   "outputs": [
    {
     "name": "stdout",
     "output_type": "stream",
     "text": [
      "993\n"
     ]
    }
   ],
   "source": [
    "f= open(\"abc.txt\",\"r\")\n",
    "f.seek(0)\n",
    "print(len(f.read()))"
   ]
  },
  {
   "cell_type": "markdown",
   "metadata": {},
   "source": [
    "### 06) WAP to implement search function to search specific occurance of word in a given text file."
   ]
  },
  {
   "cell_type": "code",
   "execution_count": 18,
   "metadata": {},
   "outputs": [
    {
     "name": "stdin",
     "output_type": "stream",
     "text": [
      "Enter word :  Lorem\n"
     ]
    },
    {
     "name": "stdout",
     "output_type": "stream",
     "text": [
      "1 time occurance\n"
     ]
    }
   ],
   "source": [
    "f= open(\"abc.txt\",\"r\")\n",
    "f.seek(0)\n",
    "l1=f.read().split(\" \")\n",
    "str1=input(\"Enter word : \")\n",
    "wc=0\n",
    "wc=l1.count(str1)\n",
    "\n",
    "if wc==0:\n",
    "    print(\"Word does not Exist\")\n",
    "else:\n",
    "    print(wc,\"time occurance\")"
   ]
  },
  {
   "cell_type": "markdown",
   "metadata": {},
   "source": [
    "# B"
   ]
  },
  {
   "cell_type": "markdown",
   "metadata": {},
   "source": [
    "### 01) WAP to write first 100 prime numbers to a file named primenumbers.txt \n",
    "(Note: each number should be in new line)"
   ]
  },
  {
   "cell_type": "code",
   "execution_count": 6,
   "metadata": {},
   "outputs": [],
   "source": [
    "file = open(\"Prime Numbers.txt\", \"w\")\n",
    "for i in range(2, 101):\n",
    "    for j in range(2, i//2+1):\n",
    "        if i % j == 0:\n",
    "            break\n",
    "    else:\n",
    "        file.write(str(i)+'\\n')\n",
    "file.close()"
   ]
  },
  {
   "cell_type": "markdown",
   "metadata": {},
   "source": [
    "### 02) WAP to merge two files and write it in a new file."
   ]
  },
  {
   "cell_type": "code",
   "execution_count": 7,
   "metadata": {},
   "outputs": [
    {
     "data": {
      "text/plain": [
       "'Lorem ipsum dolor sit amet, consectetur adipiscing elit, sed do eiusmod tempor incididunt ut labore et dolore magna aliqua. Tristique sollicitudin nibh sit amet. Euismod elementum nisi quis eleifend quam adipiscing vitae. Feugiat in fermentum posuere urna nec tincidunt praesent. Sit amet consectetur adipiscing elit pellentesque habitant. Ut placerat orci nulla pellentesque dignissim. Laoreet id donec ultrices tincidunt arcu non sodales neque. Rhoncus dolor purus non enim. Cursus eget nunc scelerisque viverra. Scelerisque eu ultrices vitae auctor eu augue. Potenti nullam ac tortor vitae purus faucibus. Porttitor massa id neque aliquam vestibulum morbi blandit cursus risus. Dolor morbi non arcu risus quis varius. Lacus vestibulum sed arcu non odio euismod lacinia. Lobortis feugiat vivamus at augue eget arcu dictum varius. Fames ac turpis egestas maecenas. In nisl nisi scelerisque eu ultrices vitae auctor eu. Eget nunc scelerisque viverra mauris. Urna porttitor rhoncus dolor purus.\\nI am Bhagyesh Vyas'"
      ]
     },
     "execution_count": 7,
     "metadata": {},
     "output_type": "execute_result"
    }
   ],
   "source": [
    "d1=d2=\"\"\n",
    "f=open(\"abc.txt\",\"r\")\n",
    "d1+=f.read();\n",
    "f1=open(\"hello.txt\",\"r\")\n",
    "d2+=f1.read();\n",
    "d1+=\"\\n\"\n",
    "d1+=d2\n",
    "f3=open(\"output.txt\",\"w+\")\n",
    "f3.write(d1)\n",
    "f3=open(\"output.txt\",\"r\")\n",
    "f3.read()"
   ]
  },
  {
   "cell_type": "markdown",
   "metadata": {},
   "source": [
    "### 03) WAP to encrypt a text file."
   ]
  },
  {
   "cell_type": "code",
   "execution_count": 2,
   "metadata": {},
   "outputs": [
    {
     "name": "stdin",
     "output_type": "stream",
     "text": [
      "Enter Word :  bhagyesh\n",
      "Enter Key :  3\n"
     ]
    }
   ],
   "source": [
    "word = input(\"Enter Word : \")\n",
    "key = int(input(\"Enter Key : \"))\n",
    "encoded = \"\"\n",
    "with open(\"encrypt.txt\", \"w\") as encrypt:\n",
    "    for i in word:\n",
    "        asciii = ord(i)+key\n",
    "        if i.islower():\n",
    "            encoded +=chr((asciii//123)*97+asciii % (123))\n",
    "        else:\n",
    "            encoded = encoded + chr((asciii//91)*65+asciii % (91))\n",
    "    encrypt.write(encoded)"
   ]
  },
  {
   "cell_type": "markdown",
   "metadata": {},
   "source": [
    "### 04) WAP to decrypt a previously encrypted file."
   ]
  },
  {
   "cell_type": "code",
   "execution_count": 3,
   "metadata": {},
   "outputs": [
    {
     "name": "stdin",
     "output_type": "stream",
     "text": [
      "Enter Key :  3\n"
     ]
    }
   ],
   "source": [
    "key = int(input(\"Enter Key : \"))\n",
    "decoded = \"\"\n",
    "with open(\"decrypt.txt\", \"w\") as decrypt:\n",
    "    with open(\"encrypt.txt\", \"r\") as encrypt:\n",
    "        for i in encrypt.read():\n",
    "            asc = ord(i)-key\n",
    "            if (i.islower() and asc < 97) or (i.isupper() and asc < 65):\n",
    "                asc = 26+asc\n",
    "            decoded = decoded + chr(asc)\n",
    "        decrypt.write(decoded)"
   ]
  },
  {
   "cell_type": "markdown",
   "metadata": {},
   "source": [
    "### 05) WAP to remove a word from text file."
   ]
  },
  {
   "cell_type": "code",
   "execution_count": 23,
   "metadata": {},
   "outputs": [
    {
     "name": "stdout",
     "output_type": "stream",
     "text": [
      "Original List :  ['Lorem', 'ipsum', 'dolor', 'sit', 'amet,', 'consectetur', 'adipiscing', 'elit,', 'sed', 'do', 'eiusmod', 'tempor', 'incididunt', 'ut', 'labore', 'et', 'dolore', 'magna', 'aliqua.', 'Tristique', 'sollicitudin', 'nibh', 'sit', 'amet.']\n"
     ]
    },
    {
     "name": "stdin",
     "output_type": "stream",
     "text": [
      "Enter word to remove from file :  sit\n"
     ]
    },
    {
     "name": "stdout",
     "output_type": "stream",
     "text": [
      "List after removal of word :  ['Lorem', 'ipsum', 'dolor', 'amet,', 'consectetur', 'adipiscing', 'elit,', 'sed', 'do', 'eiusmod', 'tempor', 'incididunt', 'ut', 'labore', 'et', 'dolore', 'magna', 'aliqua.', 'Tristique', 'sollicitudin', 'nibh', 'sit', 'amet.']\n"
     ]
    }
   ],
   "source": [
    "f=open(\"abc1.txt\",\"r\")\n",
    "list=f.read().split()\n",
    "print(\"Original List : \",list)\n",
    "word=input(\"Enter word to remove from file : \")\n",
    "list.remove(word)\n",
    "print(\"List after removal of word : \",list)\n"
   ]
  }
 ],
 "metadata": {
  "kernelspec": {
   "display_name": "Python 3 (ipykernel)",
   "language": "python",
   "name": "python3"
  },
  "language_info": {
   "codemirror_mode": {
    "name": "ipython",
    "version": 3
   },
   "file_extension": ".py",
   "mimetype": "text/x-python",
   "name": "python",
   "nbconvert_exporter": "python",
   "pygments_lexer": "ipython3",
   "version": "3.12.1"
  }
 },
 "nbformat": 4,
 "nbformat_minor": 4
}
