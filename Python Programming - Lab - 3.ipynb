{
 "cells": [
  {
   "cell_type": "markdown",
   "metadata": {},
   "source": [
    "\n",
    "<a href='https://www.darshan.ac.in/'> <img src='https://www.darshan.ac.in/Content/media/DU_Logo.svg' width=\"250\" height=\"300\"/></a>\n",
    "<pre>\n",
    "<center><b><h1>Python Programming - 2101CS405</b></center>\n",
    "<center><b><h1>Lab - 3</b></center>    \n",
    "<pre>"
   ]
  },
  {
   "cell_type": "code",
   "execution_count": null,
   "metadata": {},
   "outputs": [],
   "source": []
  },
  {
   "cell_type": "code",
   "execution_count": null,
   "metadata": {},
   "outputs": [],
   "source": [
    "Name : VYAS BHAGYESH Y.\n",
    "Roll no : 23010101662\n",
    "Enrollment No : 23010101662"
   ]
  },
  {
   "cell_type": "markdown",
   "metadata": {},
   "source": [
    "# for and while loop"
   ]
  },
  {
   "cell_type": "markdown",
   "metadata": {},
   "source": [
    "### 01) WAP to print 1 to 10"
   ]
  },
  {
   "cell_type": "code",
   "execution_count": 4,
   "metadata": {},
   "outputs": [
    {
     "name": "stdout",
     "output_type": "stream",
     "text": [
      "1 2 3 4 5 6 7 8 9 10 "
     ]
    }
   ],
   "source": [
    "for i in range (1,11):\n",
    "    print(i,end=\" \")"
   ]
  },
  {
   "cell_type": "code",
   "execution_count": 2,
   "metadata": {},
   "outputs": [
    {
     "name": "stdout",
     "output_type": "stream",
     "text": [
      "1 2 3 4 5 6 7 8 9 10 "
     ]
    }
   ],
   "source": [
    "i=1;\n",
    "while i<=10:\n",
    "    print(i,end=\" \")\n",
    "    i+=1\n",
    "    if i>10:\n",
    "        break;"
   ]
  },
  {
   "cell_type": "markdown",
   "metadata": {},
   "source": [
    "### 02) WAP to print 1 to n"
   ]
  },
  {
   "cell_type": "code",
   "execution_count": 6,
   "metadata": {},
   "outputs": [
    {
     "name": "stdin",
     "output_type": "stream",
     "text": [
      "Enter n :  50\n"
     ]
    },
    {
     "name": "stdout",
     "output_type": "stream",
     "text": [
      "1 2 3 4 5 6 7 8 9 10 11 12 13 14 15 16 17 18 19 20 21 22 23 24 25 26 27 28 29 30 31 32 33 34 35 36 37 38 39 40 41 42 43 44 45 46 47 48 49 50 "
     ]
    }
   ],
   "source": [
    "n=int(input(\"Enter n : \"))\n",
    "\n",
    "for i in range (0,n):\n",
    "    print(i+1,end=\" \")"
   ]
  },
  {
   "cell_type": "code",
   "execution_count": 7,
   "metadata": {},
   "outputs": [
    {
     "name": "stdin",
     "output_type": "stream",
     "text": [
      "Enter n :  50\n"
     ]
    },
    {
     "name": "stdout",
     "output_type": "stream",
     "text": [
      "1 2 3 4 5 6 7 8 9 10 11 12 13 14 15 16 17 18 19 20 21 22 23 24 25 26 27 28 29 30 31 32 33 34 35 36 37 38 39 40 41 42 43 44 45 46 47 48 49 50 "
     ]
    }
   ],
   "source": [
    "n=int(input(\"Enter n : \"))\n",
    "i=0;\n",
    "while i<n:\n",
    "    print(i+1,end=\" \")\n",
    "    i+=1\n",
    "    if i>n:\n",
    "        break;"
   ]
  },
  {
   "cell_type": "markdown",
   "metadata": {},
   "source": [
    "### 03) WAP to print odd numbers between 1 to n"
   ]
  },
  {
   "cell_type": "code",
   "execution_count": 9,
   "metadata": {},
   "outputs": [
    {
     "name": "stdin",
     "output_type": "stream",
     "text": [
      "Enter n :  10\n"
     ]
    },
    {
     "name": "stdout",
     "output_type": "stream",
     "text": [
      "1 3 5 7 9 "
     ]
    }
   ],
   "source": [
    "n=int(input(\"Enter n : \"))\n",
    "for i in range(0,n,2):\n",
    "    print(i+1,end=\" \")"
   ]
  },
  {
   "cell_type": "code",
   "execution_count": 11,
   "metadata": {},
   "outputs": [
    {
     "name": "stdin",
     "output_type": "stream",
     "text": [
      "Enter n :  50\n"
     ]
    },
    {
     "name": "stdout",
     "output_type": "stream",
     "text": [
      "1 3 5 7 9 11 13 15 17 19 21 23 25 27 29 31 33 35 37 39 41 43 45 47 49 "
     ]
    }
   ],
   "source": [
    "n=int(input(\"Enter n : \"))\n",
    "i=0;\n",
    "while i<n:\n",
    "    print(i+1,end=\" \")\n",
    "    i+=2;\n",
    "    if i>n:\n",
    "        break;"
   ]
  },
  {
   "cell_type": "markdown",
   "metadata": {},
   "source": [
    "### 04) WAP to print numbers between two given numbers which is divisible by 2 but not divisible by 3"
   ]
  },
  {
   "cell_type": "code",
   "execution_count": 17,
   "metadata": {},
   "outputs": [
    {
     "name": "stdin",
     "output_type": "stream",
     "text": [
      "Enter n1 :  1\n",
      "Enter n2 :  50\n"
     ]
    },
    {
     "name": "stdout",
     "output_type": "stream",
     "text": [
      "2 4 8 10 14 16 20 22 26 28 32 34 38 40 44 46 50 "
     ]
    }
   ],
   "source": [
    "n1=int(input(\"Enter n1 : \"))\n",
    "n2=int(input(\"Enter n2 : \"))\n",
    "\n",
    "for i in range(n1,n2+1):\n",
    "    if(i%2==0 and i%3!=0):\n",
    "        print(i,end=\" \")"
   ]
  },
  {
   "cell_type": "code",
   "execution_count": 15,
   "metadata": {},
   "outputs": [
    {
     "name": "stdin",
     "output_type": "stream",
     "text": [
      "Enter n1 :  1\n",
      "Enter n2 :  50\n"
     ]
    },
    {
     "name": "stdout",
     "output_type": "stream",
     "text": [
      "2 4 8 10 14 16 20 22 26 28 32 34 38 40 44 46 50 "
     ]
    }
   ],
   "source": [
    "n1=int(input(\"Enter n1 : \"))\n",
    "n2=int(input(\"Enter n2 : \"))\n",
    "i=n1;\n",
    "while i<=n2:\n",
    "    if (i%2==0 and i%3!=0):\n",
    "        print(i,end=\" \")\n",
    "    i+=1;"
   ]
  },
  {
   "cell_type": "markdown",
   "metadata": {},
   "source": [
    " 05) WAP to print sum of 1 to n numbers"
   ]
  },
  {
   "cell_type": "code",
   "execution_count": 28,
   "metadata": {},
   "outputs": [
    {
     "name": "stdin",
     "output_type": "stream",
     "text": [
      "Enter n :  8\n"
     ]
    },
    {
     "name": "stdout",
     "output_type": "stream",
     "text": [
      "Sum of n =  36\n"
     ]
    }
   ],
   "source": [
    "n=int(input(\"Enter n : \"))\n",
    "sum=0\n",
    "for i in range(1,n+1):\n",
    "    sum=sum+i\n",
    "    i=i+1;   \n",
    "print(\"Sum of n = \",sum)"
   ]
  },
  {
   "cell_type": "code",
   "execution_count": 31,
   "metadata": {},
   "outputs": [
    {
     "name": "stdin",
     "output_type": "stream",
     "text": [
      "Enter n :  5\n"
     ]
    },
    {
     "name": "stdout",
     "output_type": "stream",
     "text": [
      "Sum of n =  15\n"
     ]
    }
   ],
   "source": [
    "n=int(input(\"Enter n : \"))\n",
    "sum=0\n",
    "i=0;\n",
    "while i<n:\n",
    "    i+=1;\n",
    "    sum=sum+i;\n",
    "print(\"Sum of n = \",sum)"
   ]
  },
  {
   "cell_type": "code",
   "execution_count": null,
   "metadata": {},
   "outputs": [],
   "source": [
    "06) WAP to print sum of series 1 + 4 + 9 + 16 + 25 + 36 + ...n"
   ]
  },
  {
   "cell_type": "code",
   "execution_count": 26,
   "metadata": {},
   "outputs": [
    {
     "name": "stdin",
     "output_type": "stream",
     "text": [
      "Enter n :  5\n"
     ]
    },
    {
     "name": "stdout",
     "output_type": "stream",
     "text": [
      "55\n"
     ]
    }
   ],
   "source": [
    "n=int(input(\"Enter n : \"))\n",
    "sum=0;\n",
    "for i in range(1,n+1):\n",
    "    sum+=i**2;\n",
    "print(sum)"
   ]
  },
  {
   "cell_type": "code",
   "execution_count": 27,
   "metadata": {},
   "outputs": [
    {
     "name": "stdout",
     "output_type": "stream",
     "text": [
      "55\n"
     ]
    }
   ],
   "source": [
    "sum=0\n",
    "i=1\n",
    "while i<=n:\n",
    "    sum+=i**2\n",
    "    i+=1\n",
    "print(sum)"
   ]
  },
  {
   "cell_type": "markdown",
   "metadata": {},
   "source": [
    "### 07) WAP to print sum of series 1 – 2 + 3 – 4 + 5 – 6 + 7 ... n"
   ]
  },
  {
   "cell_type": "code",
   "execution_count": 59,
   "metadata": {},
   "outputs": [
    {
     "name": "stdin",
     "output_type": "stream",
     "text": [
      "Enter n :  5\n"
     ]
    },
    {
     "name": "stdout",
     "output_type": "stream",
     "text": [
      "3\n"
     ]
    }
   ],
   "source": [
    "n=int(input(\"Enter n : \"))\n",
    "sum=0;\n",
    "for i in range(1,n+1):\n",
    "    if i%2==0:\n",
    "        sum-=i\n",
    "    else:\n",
    "        sum+=i;\n",
    "print(sum)"
   ]
  },
  {
   "cell_type": "code",
   "execution_count": 1,
   "metadata": {},
   "outputs": [
    {
     "name": "stdin",
     "output_type": "stream",
     "text": [
      "Enter n :  5\n"
     ]
    },
    {
     "name": "stdout",
     "output_type": "stream",
     "text": [
      "3\n"
     ]
    }
   ],
   "source": [
    "n=int(input(\"Enter n : \"))\n",
    "i=1\n",
    "sum=0\n",
    "while i<=n:\n",
    "    if i%2==0:\n",
    "        sum-=i\n",
    "    else:\n",
    "        sum+=i;\n",
    "    i+=1\n",
    "print(sum)"
   ]
  },
  {
   "cell_type": "markdown",
   "metadata": {},
   "source": [
    "### 08) WAP to print multiplication table of given number."
   ]
  },
  {
   "cell_type": "code",
   "execution_count": 24,
   "metadata": {},
   "outputs": [
    {
     "name": "stdin",
     "output_type": "stream",
     "text": [
      "Enter n :  5\n"
     ]
    },
    {
     "name": "stdout",
     "output_type": "stream",
     "text": [
      "5  *  1  =  5\n",
      "5  *  2  =  10\n",
      "5  *  3  =  15\n",
      "5  *  4  =  20\n",
      "5  *  5  =  25\n",
      "5  *  6  =  30\n",
      "5  *  7  =  35\n",
      "5  *  8  =  40\n",
      "5  *  9  =  45\n",
      "5  *  10  =  50\n"
     ]
    }
   ],
   "source": [
    "n=int(input(\"Enter n : \"))\n",
    "\n",
    "for i in range(1,11):\n",
    "    print(n,\" * \",i,\" = \",n*i)"
   ]
  },
  {
   "cell_type": "code",
   "execution_count": 19,
   "metadata": {},
   "outputs": [
    {
     "name": "stdin",
     "output_type": "stream",
     "text": [
      "Enter n :  15\n"
     ]
    },
    {
     "name": "stdout",
     "output_type": "stream",
     "text": [
      "15  *  1  =  15\n",
      "15  *  2  =  30\n",
      "15  *  3  =  45\n",
      "15  *  4  =  60\n",
      "15  *  5  =  75\n",
      "15  *  6  =  90\n",
      "15  *  7  =  105\n",
      "15  *  8  =  120\n",
      "15  *  9  =  135\n",
      "15  *  10  =  150\n"
     ]
    }
   ],
   "source": [
    "n=int(input(\"Enter n : \"))\n",
    "i=1\n",
    "\n",
    "while i<=10:\n",
    "    print(n,\" * \",i,\" = \",n*i)\n",
    "    i+=1"
   ]
  },
  {
   "cell_type": "markdown",
   "metadata": {},
   "source": [
    "### 09) WAP to find factorial of the given number"
   ]
  },
  {
   "cell_type": "code",
   "execution_count": 75,
   "metadata": {},
   "outputs": [
    {
     "name": "stdin",
     "output_type": "stream",
     "text": [
      "Enter number  :  5\n"
     ]
    },
    {
     "name": "stdout",
     "output_type": "stream",
     "text": [
      "Factorial of 5 = 120\n"
     ]
    }
   ],
   "source": [
    "n=int(input(\"Enter number  : \"))\n",
    "f=1\n",
    "for i in range(1,n+1):\n",
    "    f=f*i\n",
    "print(\"Factorial of\",n,\"=\",f)"
   ]
  },
  {
   "cell_type": "code",
   "execution_count": 25,
   "metadata": {},
   "outputs": [
    {
     "name": "stdin",
     "output_type": "stream",
     "text": [
      "Enter number  :  6\n"
     ]
    },
    {
     "name": "stdout",
     "output_type": "stream",
     "text": [
      "Factorial of 6 = 720\n"
     ]
    }
   ],
   "source": [
    "n=int(input(\"Enter number  : \"))\n",
    "f=1\n",
    "i=1\n",
    "while i<=n:\n",
    "    f=f*i\n",
    "    i+=1\n",
    "print(\"Factorial of\",n,\"=\",f)"
   ]
  },
  {
   "cell_type": "markdown",
   "metadata": {},
   "source": [
    "### 10) WAP to find factors of the given number"
   ]
  },
  {
   "cell_type": "code",
   "execution_count": 49,
   "metadata": {},
   "outputs": [
    {
     "name": "stdin",
     "output_type": "stream",
     "text": [
      "Enter number  :  10\n"
     ]
    },
    {
     "name": "stdout",
     "output_type": "stream",
     "text": [
      "Factors of 10 = 1 2 5 10 "
     ]
    }
   ],
   "source": [
    "n=int(input(\"Enter number  : \"))\n",
    "print(\"Factors of\",n ,\"=\",end=\" \")\n",
    "for i in range(1,n+1):\n",
    "    if n%i==0:\n",
    "        print(i,end=\" \")   "
   ]
  },
  {
   "cell_type": "code",
   "execution_count": 50,
   "metadata": {},
   "outputs": [
    {
     "name": "stdin",
     "output_type": "stream",
     "text": [
      "Enter number  :  60\n"
     ]
    },
    {
     "name": "stdout",
     "output_type": "stream",
     "text": [
      "Factors of 60 = 1 2 3 4 5 6 10 12 15 20 30 60 "
     ]
    }
   ],
   "source": [
    "n=int(input(\"Enter number  : \"))\n",
    "print(\"Factors of\",n ,\"=\",end=\" \")\n",
    "i=1\n",
    "while i<=n:\n",
    "    if n%i==0:\n",
    "          print(i,end=\" \")\n",
    "    i+=1"
   ]
  },
  {
   "cell_type": "markdown",
   "metadata": {},
   "source": [
    "### 11) WAP to find whether the given number is prime or not."
   ]
  },
  {
   "cell_type": "code",
   "execution_count": 10,
   "metadata": {},
   "outputs": [
    {
     "name": "stdin",
     "output_type": "stream",
     "text": [
      "Enter number  :  10\n"
     ]
    },
    {
     "name": "stdout",
     "output_type": "stream",
     "text": [
      "10  is not prime\n"
     ]
    }
   ],
   "source": [
    "n=int(input(\"Enter number  : \"))\n",
    "for i in range(2,n+1):\n",
    "    if n%i==0:\n",
    "        print(n,\" is not prime\");\n",
    "        break;\n",
    "    else:\n",
    "        print(n,\" is prime\");\n",
    "        break;"
   ]
  },
  {
   "cell_type": "code",
   "execution_count": 53,
   "metadata": {},
   "outputs": [
    {
     "name": "stdin",
     "output_type": "stream",
     "text": [
      "Enter number  :  103\n"
     ]
    },
    {
     "name": "stdout",
     "output_type": "stream",
     "text": [
      "103  is prime\n"
     ]
    }
   ],
   "source": [
    "n=int(input(\"Enter number  : \"))\n",
    "i=2\n",
    "while i<n:\n",
    "    if n%i==0:\n",
    "        print(n,\" is not prime\");\n",
    "        break;\n",
    "    else:\n",
    "        print(n,\" is prime\");\n",
    "        break;\n",
    "    i+=1"
   ]
  },
  {
   "cell_type": "markdown",
   "metadata": {},
   "source": [
    "### 12) WAP to print sum of digits of given number"
   ]
  },
  {
   "cell_type": "code",
   "execution_count": 42,
   "metadata": {},
   "outputs": [
    {
     "name": "stdin",
     "output_type": "stream",
     "text": [
      "Enter number :  123\n"
     ]
    },
    {
     "name": "stdout",
     "output_type": "stream",
     "text": [
      "Sum of digit of 123  =  6\n"
     ]
    }
   ],
   "source": [
    "n=int(input(\"Enter number : \"))\n",
    "sum=0\n",
    "tmp=n\n",
    "for i in range(1,tmp):\n",
    "    if tmp>0:\n",
    "        ri=tmp%10;\n",
    "        sum=sum+ri;\n",
    "        tmp=tmp//10;\n",
    "    else:\n",
    "        break;\n",
    "print(\"Sum of digit of\",n ,\" = \",sum)"
   ]
  },
  {
   "cell_type": "code",
   "execution_count": 43,
   "metadata": {},
   "outputs": [
    {
     "name": "stdin",
     "output_type": "stream",
     "text": [
      "Enter number :  12345\n"
     ]
    },
    {
     "name": "stdout",
     "output_type": "stream",
     "text": [
      "Sum of digit of 12345  =  15\n"
     ]
    }
   ],
   "source": [
    "n=int(input(\"Enter number : \"))\n",
    "sum=0\n",
    "tmp=n\n",
    "while tmp>0:\n",
    "    ri=tmp%10;\n",
    "    sum=sum+ri;\n",
    "    tmp=tmp//10;\n",
    "print(\"Sum of digit of\",n ,\" = \",sum)"
   ]
  },
  {
   "cell_type": "markdown",
   "metadata": {},
   "source": [
    "### 13) WAP to check whether the given number is palindrome or not"
   ]
  },
  {
   "cell_type": "code",
   "execution_count": 54,
   "metadata": {},
   "outputs": [
    {
     "name": "stdin",
     "output_type": "stream",
     "text": [
      "Enter number :  123\n"
     ]
    },
    {
     "name": "stdout",
     "output_type": "stream",
     "text": [
      "123  is not Palindrome\n"
     ]
    }
   ],
   "source": [
    "n=int(input(\"Enter number : \"))\n",
    "rv=0\n",
    "tmp=n\n",
    "for i in range(1,n):\n",
    "    if tmp>0:\n",
    "        ri=tmp%10;\n",
    "        rv=rv*10+ri;\n",
    "        tmp=tmp//10;\n",
    "if(n==rv):\n",
    "    print(n,\" is Palindrome\")\n",
    "else:\n",
    "    print(n,\" is not Palindrome\")"
   ]
  },
  {
   "cell_type": "code",
   "execution_count": 55,
   "metadata": {},
   "outputs": [
    {
     "name": "stdin",
     "output_type": "stream",
     "text": [
      "Enter number :  121\n"
     ]
    },
    {
     "name": "stdout",
     "output_type": "stream",
     "text": [
      "121  is Palindrome\n"
     ]
    }
   ],
   "source": [
    "n=int(input(\"Enter number : \"))\n",
    "rv1=0\n",
    "tmp1=n\n",
    "\n",
    "while tmp1>0:\n",
    "    ri1=tmp1%10;\n",
    "    rv1=rv1*10+ri1;\n",
    "    tmp1=tmp1//10;\n",
    "if(n==rv1):\n",
    "    print(n,\" is Palindrome\")\n",
    "else:\n",
    "    print(n,\" is not Palindrome\")"
   ]
  },
  {
   "cell_type": "markdown",
   "metadata": {},
   "source": [
    "### 01) WAP to check whether the given number is Armstrong or not."
   ]
  },
  {
   "cell_type": "code",
   "execution_count": 2,
   "metadata": {},
   "outputs": [
    {
     "name": "stdin",
     "output_type": "stream",
     "text": [
      "Enter number :  153\n"
     ]
    },
    {
     "name": "stdout",
     "output_type": "stream",
     "text": [
      "153  is Armstrong\n"
     ]
    }
   ],
   "source": [
    "n=int(input(\"Enter number : \"))\n",
    "rv=0\n",
    "tmp=n\n",
    "pow=len(str(n))\n",
    "\n",
    "while tmp>0:\n",
    "    ri=tmp%10;\n",
    "    rv+=ri**pow;\n",
    "    tmp=tmp//10;\n",
    "if(n==rv):\n",
    "    print(n,\" is Armstrong\")\n",
    "else:\n",
    "    print(n,\" is not Armstrong\")"
   ]
  },
  {
   "cell_type": "code",
   "execution_count": 6,
   "metadata": {},
   "outputs": [
    {
     "name": "stdin",
     "output_type": "stream",
     "text": [
      "Enter number :  102\n"
     ]
    },
    {
     "name": "stdout",
     "output_type": "stream",
     "text": [
      "102  is not Armstrong\n"
     ]
    }
   ],
   "source": [
    "n=int(input(\"Enter number : \"))\n",
    "rv=0\n",
    "tmp=n\n",
    "pow=len(str(n))\n",
    "\n",
    "for i in range(1,n+1):\n",
    "    if tmp>0:\n",
    "        ri=tmp%10;\n",
    "        rv+=ri**pow;\n",
    "        tmp=tmp//10;\n",
    "if(n==rv):\n",
    "    print(n,\" is Armstrong\")\n",
    "else:\n",
    "    print(n,\" is not Armstrong\")"
   ]
  },
  {
   "cell_type": "markdown",
   "metadata": {},
   "source": [
    "### 02) WAP to find out prime numbers between given two numbers."
   ]
  },
  {
   "cell_type": "code",
   "execution_count": 9,
   "metadata": {},
   "outputs": [
    {
     "name": "stdin",
     "output_type": "stream",
     "text": [
      "Enter start number :  1\n",
      "Enter end number :  50\n"
     ]
    },
    {
     "name": "stdout",
     "output_type": "stream",
     "text": [
      "1 2 3 5 7 11 13 17 19 23 29 31 37 41 43 47 "
     ]
    }
   ],
   "source": [
    "n1=int(input(\"Enter start number : \"))\n",
    "n2=int(input(\"Enter end number : \"))\n",
    "\n",
    "for j in range(n1,n2+1):\n",
    "    if j>=1:\n",
    "        for i in range(2,j):\n",
    "            if(j%i==0):\n",
    "                break;\n",
    "        else:\n",
    "            print(j,end=\" \")"
   ]
  },
  {
   "cell_type": "markdown",
   "metadata": {},
   "source": [
    "### 03) WAP to calculate x^y without using any function."
   ]
  },
  {
   "cell_type": "code",
   "execution_count": 13,
   "metadata": {},
   "outputs": [
    {
     "name": "stdin",
     "output_type": "stream",
     "text": [
      "Enter x :  2\n",
      "Enter y :  3\n"
     ]
    },
    {
     "name": "stdout",
     "output_type": "stream",
     "text": [
      "2  ^  3  =  8\n"
     ]
    }
   ],
   "source": [
    "x=int(input(\"Enter x : \"))\n",
    "y=int(input(\"Enter y : \"))\n",
    "ans=1\n",
    "for i in range(y):\n",
    "    ans=ans*x;\n",
    "print(x,\" ^ \",y,\" = \",ans)"
   ]
  },
  {
   "cell_type": "code",
   "execution_count": 18,
   "metadata": {},
   "outputs": [
    {
     "name": "stdin",
     "output_type": "stream",
     "text": [
      "Enter x :  7\n",
      "Enter y :  3\n"
     ]
    },
    {
     "name": "stdout",
     "output_type": "stream",
     "text": [
      "7  ^  3  =  343\n"
     ]
    }
   ],
   "source": [
    "x=int(input(\"Enter x : \"))\n",
    "y=int(input(\"Enter y : \"))\n",
    "ans=1\n",
    "i=1\n",
    "while i<=y:\n",
    "    ans=ans*x;\n",
    "    i+=1\n",
    "print(x,\" ^ \",y,\" = \",ans)"
   ]
  },
  {
   "cell_type": "markdown",
   "metadata": {},
   "source": [
    "### 04) WAP to check whether the given number is perfect or not.\n",
    "[Sum of factors including 1 excluding number itself]"
   ]
  },
  {
   "cell_type": "code",
   "execution_count": 7,
   "metadata": {},
   "outputs": [
    {
     "name": "stdin",
     "output_type": "stream",
     "text": [
      "Enter Number :  6\n"
     ]
    },
    {
     "name": "stdout",
     "output_type": "stream",
     "text": [
      "6  is a perfect number\n"
     ]
    }
   ],
   "source": [
    "n=int(input(\"Enter Number : \"))\n",
    "sum=0\n",
    "for i in range(1,n):\n",
    "    if n%i==0:\n",
    "        sum+=i;\n",
    "\n",
    "if(sum==n):  \n",
    "    print(n,\" is a perfect number\")  \n",
    "else:  \n",
    "    print(n,\" is not a perfect number\")  "
   ]
  },
  {
   "cell_type": "code",
   "execution_count": 8,
   "metadata": {},
   "outputs": [
    {
     "name": "stdin",
     "output_type": "stream",
     "text": [
      "Enter Number :  128\n"
     ]
    },
    {
     "name": "stdout",
     "output_type": "stream",
     "text": [
      "128  is a not  perfect number\n"
     ]
    }
   ],
   "source": [
    "n=int(input(\"Enter Number : \"))\n",
    "sum=0\n",
    "i=1;\n",
    "while i<n:\n",
    "    if n%i==0:\n",
    "        sum+=i;\n",
    "    i+=1;\n",
    "if(sum==n):  \n",
    "    print(n,\" is a perfect number\") \n",
    "else:  \n",
    "    print(n,\" is a not  perfect number\") "
   ]
  },
  {
   "cell_type": "code",
   "execution_count": null,
   "metadata": {},
   "outputs": [],
   "source": [
    "05) WAP to find the sum of 1 + (1+2) + (1+2+3) + (1+2+3+4)+...+(1+2+3+4+....+n)"
   ]
  },
  {
   "cell_type": "code",
   "execution_count": 4,
   "metadata": {},
   "outputs": [
    {
     "name": "stdin",
     "output_type": "stream",
     "text": [
      "enter n :  5\n"
     ]
    },
    {
     "name": "stdout",
     "output_type": "stream",
     "text": [
      "35\n"
     ]
    }
   ],
   "source": [
    "n=int(input(\"enter n : \"))\n",
    "total_sum = 0\n",
    "current_sum = 0\n",
    "\n",
    "for i in range(1, n+1):\n",
    "        current_sum += i\n",
    "        total_sum += current_sum\n",
    "\n",
    "print(total_sum)"
   ]
  },
  {
   "cell_type": "markdown",
   "metadata": {},
   "source": [
    "### 06) WAP to print Multiplication Table up to n"
   ]
  },
  {
   "cell_type": "code",
   "execution_count": 12,
   "metadata": {},
   "outputs": [
    {
     "name": "stdin",
     "output_type": "stream",
     "text": [
      "Enter number :  15\n"
     ]
    },
    {
     "name": "stdout",
     "output_type": "stream",
     "text": [
      "1\t2\t3\t4\t5\t6\t7\t8\t9\t10\t11\t12\t13\t14\t15\t\n",
      "2\t4\t6\t8\t10\t12\t14\t16\t18\t20\t22\t24\t26\t28\t30\t\n",
      "3\t6\t9\t12\t15\t18\t21\t24\t27\t30\t33\t36\t39\t42\t45\t\n",
      "4\t8\t12\t16\t20\t24\t28\t32\t36\t40\t44\t48\t52\t56\t60\t\n",
      "5\t10\t15\t20\t25\t30\t35\t40\t45\t50\t55\t60\t65\t70\t75\t\n",
      "6\t12\t18\t24\t30\t36\t42\t48\t54\t60\t66\t72\t78\t84\t90\t\n",
      "7\t14\t21\t28\t35\t42\t49\t56\t63\t70\t77\t84\t91\t98\t105\t\n",
      "8\t16\t24\t32\t40\t48\t56\t64\t72\t80\t88\t96\t104\t112\t120\t\n",
      "9\t18\t27\t36\t45\t54\t63\t72\t81\t90\t99\t108\t117\t126\t135\t\n",
      "10\t20\t30\t40\t50\t60\t70\t80\t90\t100\t110\t120\t130\t140\t150\t\n",
      "11\t22\t33\t44\t55\t66\t77\t88\t99\t110\t121\t132\t143\t154\t165\t\n",
      "12\t24\t36\t48\t60\t72\t84\t96\t108\t120\t132\t144\t156\t168\t180\t\n",
      "13\t26\t39\t52\t65\t78\t91\t104\t117\t130\t143\t156\t169\t182\t195\t\n",
      "14\t28\t42\t56\t70\t84\t98\t112\t126\t140\t154\t168\t182\t196\t210\t\n",
      "15\t30\t45\t60\t75\t90\t105\t120\t135\t150\t165\t180\t195\t210\t225\t\n"
     ]
    }
   ],
   "source": [
    "n1=int(input(\"Enter number : \"));\n",
    "i = 1\n",
    "while i <= n1:\n",
    "    j = 1\n",
    "    while j <= n1:\n",
    "        print(i * j, end='\\t')\n",
    "        j += 1\n",
    "    print()\n",
    "    i += 1"
   ]
  }
 ],
 "metadata": {
  "kernelspec": {
   "display_name": "Python 3 (ipykernel)",
   "language": "python",
   "name": "python3"
  },
  "language_info": {
   "codemirror_mode": {
    "name": "ipython",
    "version": 3
   },
   "file_extension": ".py",
   "mimetype": "text/x-python",
   "name": "python",
   "nbconvert_exporter": "python",
   "pygments_lexer": "ipython3",
   "version": "3.12.1"
  }
 },
 "nbformat": 4,
 "nbformat_minor": 4
}
