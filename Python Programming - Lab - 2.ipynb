{
 "cells": [
  {
   "cell_type": "markdown",
   "metadata": {},
   "source": [
    "\n",
    "<a href='https://www.darshan.ac.in/'> <img src='https://www.darshan.ac.in/Content/media/DU_Logo.svg' width=\"250\" height=\"300\"/></a>\n",
    "<pre>\n",
    "<center><b><h1>Python Programming - 2101CS405</b></center>\n",
    "<center><b><h1>Lab - 2</b></center>    \n",
    "<pre>"
   ]
  },
  {
   "cell_type": "code",
   "execution_count": null,
   "metadata": {},
   "outputs": [],
   "source": [
    "Name : VYAS BHAGYESH Y.\n",
    "Roll no : 23010101662\n",
    "Enrollment No : 23010101662"
   ]
  },
  {
   "cell_type": "markdown",
   "metadata": {
    "jp-MarkdownHeadingCollapsed": true
   },
   "source": [
    "if..else.."
   ]
  },
  {
   "cell_type": "markdown",
   "metadata": {},
   "source": [
    "### 01) WAP to check whether the given number is positive or negative."
   ]
  },
  {
   "cell_type": "code",
   "execution_count": 7,
   "metadata": {},
   "outputs": [
    {
     "name": "stdin",
     "output_type": "stream",
     "text": [
      "Enter Number :  10\n"
     ]
    },
    {
     "name": "stdout",
     "output_type": "stream",
     "text": [
      "Number is positive\n"
     ]
    }
   ],
   "source": [
    "n=int(input(\"Enter Number : \"));\n",
    "\n",
    "if n<=0 :\n",
    "    ifn==0 :\n",
    "        print(\"Number is zero\");\n",
    "else :\n",
    "        print(\"Number is negative\");\n",
    "else :\n",
    "    print(\"Number is positive\")"
   ]
  },
  {
   "cell_type": "markdown",
   "metadata": {},
   "source": [
    "### 02) WAP to check whether the given number is odd or even"
   ]
  },
  {
   "cell_type": "code",
   "execution_count": 11,
   "metadata": {},
   "outputs": [
    {
     "name": "stdin",
     "output_type": "stream",
     "text": [
      "Enter Number :  7\n"
     ]
    },
    {
     "name": "stdout",
     "output_type": "stream",
     "text": [
      "Number is odd\n"
     ]
    }
   ],
   "source": [
    "n=int(input(\"Enter Number : \"));\n",
    "\n",
    "if n%2==0 :\n",
    "    print(\"Number is even\");\n",
    "else :\n",
    "    print(\"Number is odd\");"
   ]
  },
  {
   "cell_type": "markdown",
   "metadata": {},
   "source": [
    "### 03) WAP to find out largest number from given two numbers using simple if and ternary operator."
   ]
  },
  {
   "cell_type": "code",
   "execution_count": 13,
   "metadata": {},
   "outputs": [
    {
     "name": "stdin",
     "output_type": "stream",
     "text": [
      "Enter Number-1 :  2\n",
      "Enter Number-2 :  10\n"
     ]
    },
    {
     "name": "stdout",
     "output_type": "stream",
     "text": [
      "10 is greater\n"
     ]
    }
   ],
   "source": [
    "n1=int(input(\"Enter Number-1 : \"));\n",
    "n2=int(input(\"Enter Number-2 : \"));\n",
    "\n",
    "if n1>n2 :\n",
    "    print(n1,\"is greater\");\n",
    "else :\n",
    "    print(n2,\"is greater\"); "
   ]
  },
  {
   "cell_type": "code",
   "execution_count": 18,
   "metadata": {},
   "outputs": [
    {
     "name": "stdin",
     "output_type": "stream",
     "text": [
      "Enter Number-1 :  10\n",
      "Enter Number-2 :  2\n"
     ]
    },
    {
     "name": "stdout",
     "output_type": "stream",
     "text": [
      "Max =  10\n"
     ]
    }
   ],
   "source": [
    "n1=int(input(\"Enter Number-1 : \"));\n",
    "n2=int(input(\"Enter Number-2 : \"));\n",
    "max=n1 if n1>n2 else n2\n",
    "print(\"Max = \",max);"
   ]
  },
  {
   "cell_type": "markdown",
   "metadata": {},
   "source": [
    " 04) WAP to find out largest number from given three numbers."
   ]
  },
  {
   "cell_type": "code",
   "execution_count": 49,
   "metadata": {},
   "outputs": [
    {
     "name": "stdin",
     "output_type": "stream",
     "text": [
      "Enter Number-1 :  10\n",
      "Enter Number-2 :  20\n",
      "Enter Number-3 :  20\n"
     ]
    },
    {
     "name": "stdout",
     "output_type": "stream",
     "text": [
      "20 is Largest from given numbers\n"
     ]
    }
   ],
   "source": [
    "n1=int(input(\"Enter Number-1 : \"))\n",
    "n2=int(input(\"Enter Number-2 : \"))\n",
    "n3=int(input(\"Enter Number-3 : \"))\n",
    "\n",
    "if n1>=n2 and n1>=n3:\n",
    "    print(n1,\"is Largest from given numbers\");\n",
    "elif n2>=n3:\n",
    "    print(n2,\"is Largest from given numbers\");\n",
    "else:\n",
    "    print(n3,\"is Largest from given numbers\");\n",
    "    "
   ]
  },
  {
   "cell_type": "markdown",
   "metadata": {},
   "source": [
    "05) WAP to check whether the given year is leap year or not.\n",
    "[If a year can be divisible by 4 but not divisible by 100 then it is leap year but if it is divisible by 400 then it is leap year]"
   ]
  },
  {
   "cell_type": "code",
   "execution_count": 29,
   "metadata": {},
   "outputs": [
    {
     "name": "stdin",
     "output_type": "stream",
     "text": [
      "Enter Year :  2024\n"
     ]
    },
    {
     "name": "stdout",
     "output_type": "stream",
     "text": [
      "2024 is leap year\n"
     ]
    }
   ],
   "source": [
    "y=int(input(\"Enter Year : \"))\n",
    "if y%4==0 and y%100!=0 or y%400==0:\n",
    "    print(y,\"is leap year\");\n",
    "else :\n",
    "    print(y,\"is not leap year\");"
   ]
  },
  {
   "cell_type": "markdown",
   "metadata": {},
   "source": [
    "### 06) WAP in python to display the name of the day according to the number given by the user"
   ]
  },
  {
   "cell_type": "code",
   "execution_count": 30,
   "metadata": {},
   "outputs": [
    {
     "name": "stdin",
     "output_type": "stream",
     "text": [
      "Enter Day number :  3\n"
     ]
    },
    {
     "name": "stdout",
     "output_type": "stream",
     "text": [
      "Wednesday\n"
     ]
    }
   ],
   "source": [
    "n=int(input(\"Enter Day number : \"))\n",
    "\n",
    "if n==1 :\n",
    "    print(\"Monday\");\n",
    "elif n==2 :\n",
    "    print(\"Tuesday\");\n",
    "elif n==3 :\n",
    "    print(\"Wednesday\");\n",
    "elif n==4 :\n",
    "    print(\"Thursday\");\n",
    "elif n==5 :\n",
    "    print(\"Friday\");\n",
    "elif n==6 :\n",
    "    print(\"Saturday\");\n",
    "elif n==7 :\n",
    "    print(\"Sunday\");\n",
    "else :\n",
    "    print(\"Invalid Input\");\n",
    "    \n"
   ]
  },
  {
   "cell_type": "markdown",
   "metadata": {},
   "source": [
    "### 07) WAP to implement simple calculator which performs (add,sub,mul,div) of two no. based on user input."
   ]
  },
  {
   "cell_type": "code",
   "execution_count": 31,
   "metadata": {},
   "outputs": [
    {
     "name": "stdin",
     "output_type": "stream",
     "text": [
      "Enter Number-1 :  -1\n",
      "Enter Number-2 :  -1\n",
      "Enter operator like (+,-,-,/) :  +\n"
     ]
    },
    {
     "name": "stdout",
     "output_type": "stream",
     "text": [
      "Addition =  -2\n"
     ]
    }
   ],
   "source": [
    "n1=int(input(\"Enter Number-1 : \"));\n",
    "n2=int(input(\"Enter Number-2 : \"));\n",
    "op=input(\"Enter operator like (+,-,-,/) : \");\n",
    "\n",
    "if op=='+':\n",
    "    print(\"Addition = \",n1+n2);\n",
    "elif op=='-':\n",
    "    print(\"Subtraction = \",n1-n2);\n",
    "elif op=='*':\n",
    "    print(\"Multiplication = \",n1*n2);\n",
    "elif op=='/':\n",
    "    print(\"Division = \",n1/n2);\n",
    "else :\n",
    "    print(\"Invalid Operator\");\n"
   ]
  },
  {
   "cell_type": "markdown",
   "metadata": {},
   "source": [
    "### 08) WAP to calculate electricity bill based on following criteria. Which takes the unit from the user.\n",
    "a. First 1 to 50 units – Rs. 2.60/unit</br>\n",
    "b. Next 50 to 100 units – Rs. 3.25/unit</br>\n",
    "c. Next 100 to 200 units – Rs. 5.26/unit</br>\n",
    "d. above 200 units – Rs. 8.45/unit"
   ]
  },
  {
   "cell_type": "code",
   "execution_count": 32,
   "metadata": {},
   "outputs": [
    {
     "name": "stdin",
     "output_type": "stream",
     "text": [
      "Enter Integer Number :  70\n"
     ]
    },
    {
     "name": "stdout",
     "output_type": "stream",
     "text": [
      "Rs.  325.0\n"
     ]
    }
   ],
   "source": [
    "unit=int(input(\"Enter Integer Number : \"))\n",
    "rs=0;\n",
    "a=unit;\n",
    "\n",
    "if unit<=50:\n",
    "    rs+=((unit+50)-unit)*2.60\n",
    "if unit>50:\n",
    "    rs+=((unit+100)-unit)*3.25\n",
    "if unit>100:\n",
    "    rs+=((unit+200)-unit)*5.26\n",
    "if unit>200:\n",
    "    rs+=(unit-200)*8.45\n",
    "\n",
    "print(\"Rs. \" ,rs);"
   ]
  },
  {
   "cell_type": "markdown",
   "metadata": {},
   "source": [
    "### 01) WAP to read marks of five subjects. Calculate percentage and print class accordingly. \n",
    "Fail below 35 </br>\n",
    "Pass Class between 35 to 45 </br>\n",
    "Second Class</br>\n",
    "between 45 to 60</br>\n",
    "First Class between 60 to 70</br> \n",
    "Distinction if more than 70"
   ]
  },
  {
   "cell_type": "code",
   "execution_count": 34,
   "metadata": {},
   "outputs": [
    {
     "name": "stdin",
     "output_type": "stream",
     "text": [
      "Enter Mark-1 :  35\n",
      "Enter Mark-2 :  90\n",
      "Enter Mark-3 :  87\n",
      "Enter Mark-4 :  69\n",
      "Enter Mark-5 :  56\n"
     ]
    },
    {
     "name": "stdout",
     "output_type": "stream",
     "text": [
      "Distinction\n"
     ]
    }
   ],
   "source": [
    "m1=int(input(\"Enter Mark-1 : \"))\n",
    "m2=int(input(\"Enter Mark-2 : \"))\n",
    "m3=int(input(\"Enter Mark-3 : \"))\n",
    "m4=int(input(\"Enter Mark-4 : \"))\n",
    "m5=int(input(\"Enter Mark-5 : \"))\n",
    "\n",
    "total=m1+m2+m3+m4+m5\n",
    "\n",
    "per=total/5\n",
    "\n",
    "if per>=70:\n",
    "    print(\"Distinction\")\n",
    "elif per>=60 and per<70:\n",
    "    print(\"First Class\")\n",
    "elif per>=45 and per<60:\n",
    "    print(\"Second Class\")\n",
    "elif per>=35 and per<45:\n",
    "    print(\"Pass Class\")\n",
    "else:\n",
    "    print(\"Fail\")"
   ]
  },
  {
   "cell_type": "markdown",
   "metadata": {},
   "source": [
    "### 02) WAP to find out the Maximum and Minimum number from given 4 numbers."
   ]
  },
  {
   "cell_type": "code",
   "execution_count": 35,
   "metadata": {},
   "outputs": [
    {
     "name": "stdin",
     "output_type": "stream",
     "text": [
      "Enter Number-1 :  10\n",
      "Enter Number-2 :  503\n",
      "Enter Number-3 :  2\n",
      "Enter Number-4 :  1\n"
     ]
    },
    {
     "name": "stdout",
     "output_type": "stream",
     "text": [
      "503  is Maximum\n",
      "1  is Minimum\n"
     ]
    }
   ],
   "source": [
    "n1=int(input(\"Enter Number-1 : \"))\n",
    "n2=int(input(\"Enter Number-2 : \"))\n",
    "n3=int(input(\"Enter Number-3 : \"))\n",
    "n4=int(input(\"Enter Number-4 : \"))\n",
    "\n",
    "if n1>n2 and n1>n3 and n1>n4:\n",
    "    print(n1, \" is Maximum\")\n",
    "    if n2<n3 and n2<n4:\n",
    "        print(n2, \" is Minimum\")\n",
    "    elif n3<n4:\n",
    "        print(n3, \" is Minimum\")\n",
    "    else:\n",
    "        print(n4, \" is Minimum\")\n",
    "\n",
    "elif n2>n3 and n2>n4:\n",
    "    print(n2, \" is Maximum\")\n",
    "    if n1<n3 and n1<n4:\n",
    "        print(n2, \" is Minimum\")\n",
    "    elif n3<n4:\n",
    "        print(n3, \" is Minimum\")\n",
    "    else:\n",
    "        print(n4, \" is Minimum\")\n",
    "\n",
    "elif n3>n4:\n",
    "    print(n3, \" is Maximum\")\n",
    "    if n1<n2 and n1<n4:\n",
    "        print(n1, \" is Minimum\")\n",
    "    elif n2<n4:\n",
    "        print(n2, \" is Minimum\")\n",
    "    else:\n",
    "        print(n4, \" is Minimum\")\n",
    "else:\n",
    "    print(n4, \" is Maximum\")\n",
    "    if n1<n2 and n1<n3:\n",
    "        print(n1, \" is Minimum\")\n",
    "    elif n2<n3:\n",
    "        print(n2, \" is Minimum\")\n",
    "    else:\n",
    "        print(n3, \" is Minimum\")"
   ]
  },
  {
   "cell_type": "markdown",
   "metadata": {},
   "source": [
    "### 03) WAP to input an integer number and check the last digit of number is even or odd."
   ]
  },
  {
   "cell_type": "code",
   "execution_count": 41,
   "metadata": {},
   "outputs": [
    {
     "name": "stdin",
     "output_type": "stream",
     "text": [
      "Enter Number :  222\n"
     ]
    },
    {
     "name": "stdout",
     "output_type": "stream",
     "text": [
      "Last digit is even\n"
     ]
    }
   ],
   "source": [
    "n=int(input(\"Enter Number : \"))\n",
    "ri=n%10;\n",
    "\n",
    "if ri%2==0 :\n",
    "    print(\"Last digit is even\");\n",
    "else :\n",
    "    print(\"Last digit is odd\");"
   ]
  },
  {
   "cell_type": "markdown",
   "metadata": {},
   "source": [
    "### 04) WAP to determine the roots of the equation ax2+bx+c=0."
   ]
  },
  {
   "cell_type": "code",
   "execution_count": 1,
   "metadata": {},
   "outputs": [
    {
     "name": "stdin",
     "output_type": "stream",
     "text": [
      "Enter value of a:  10\n",
      "Enter value of b:  2\n",
      "Enter value of c:  4\n"
     ]
    },
    {
     "name": "stdout",
     "output_type": "stream",
     "text": [
      "roots: (-10.000000000000004-62.44997998398398j) and (-9.999999999999996+62.44997998398398j)\n"
     ]
    }
   ],
   "source": [
    "a = int(input(\"Enter value of a: \"))\n",
    "b = int(input(\"Enter value of b: \"))\n",
    "c = int(input(\"Enter value of c: \"))\n",
    "d = (b*b) - 4*a*c\n",
    "xm = (-b - d**0.5)/2*a\n",
    "xp = (-b + d**0.5)/2*a\n",
    "print(f\"roots: {xm} and {xp}\")"
   ]
  }
 ],
 "metadata": {
  "kernelspec": {
   "display_name": "Python 3 (ipykernel)",
   "language": "python",
   "name": "python3"
  },
  "language_info": {
   "codemirror_mode": {
    "name": "ipython",
    "version": 3
   },
   "file_extension": ".py",
   "mimetype": "text/x-python",
   "name": "python",
   "nbconvert_exporter": "python",
   "pygments_lexer": "ipython3",
   "version": "3.12.1"
  }
 },
 "nbformat": 4,
 "nbformat_minor": 4
}
