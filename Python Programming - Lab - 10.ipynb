{
 "cells": [
  {
   "attachments": {},
   "cell_type": "markdown",
   "metadata": {},
   "source": [
    "<a href='https://www.darshan.ac.in/'> <img src='https://www.darshan.ac.in/Content/media/DU_Logo.svg' width=\"250\" height=\"300\"/></a>\n",
    "<pre>\n",
    "<center><b><h1>Python Programming - 2101CS405</b></center>\n",
    "<center><b><h1>Lab - 10</b></center>    \n",
    "<pre>"
   ]
  },
  {
   "cell_type": "markdown",
   "metadata": {},
   "source": [
    "### Name :Vyas Bhagyesh Y.\n",
    "### Enrollment No : 23010101662\n",
    "### Roll N0 : 23010101662"
   ]
  },
  {
   "cell_type": "markdown",
   "metadata": {},
   "source": [
    "# Modules"
   ]
  },
  {
   "cell_type": "markdown",
   "metadata": {},
   "source": [
    "# A"
   ]
  },
  {
   "cell_type": "markdown",
   "metadata": {},
   "source": [
    "### 01) WAP to create Calculator module which defines functions like add, sub,mul and div. create another file that uses the Calculator module."
   ]
  },
  {
   "cell_type": "code",
   "execution_count": 2,
   "metadata": {},
   "outputs": [
    {
     "name": "stdout",
     "output_type": "stream",
     "text": [
      "Addition= 7\n",
      "Subtraction= -1\n",
      "Multiplication= 12\n",
      "Division= 0.75\n"
     ]
    }
   ],
   "source": [
    "import Calculator as calc\n",
    "\n",
    "print(\"Addition=\",calc.add(3,4))\n",
    "print(\"Subtraction=\",calc.sub(3,4))\n",
    "print(\"Multiplication=\",calc.multi(3,4))\n",
    "print(\"Division=\",calc.div(3,4))"
   ]
  },
  {
   "cell_type": "markdown",
   "metadata": {},
   "source": [
    "### 02) WAP to Pick a random character from a given String."
   ]
  },
  {
   "cell_type": "code",
   "execution_count": 6,
   "metadata": {},
   "outputs": [
    {
     "name": "stdin",
     "output_type": "stream",
     "text": [
      "Enter String :  Bhagyesh\n"
     ]
    },
    {
     "name": "stdout",
     "output_type": "stream",
     "text": [
      "Random Character =  y\n"
     ]
    }
   ],
   "source": [
    "import random\n",
    "str=input(\"Enter String : \")\n",
    "print(\"Random Character = \",random.choice(str))"
   ]
  },
  {
   "cell_type": "markdown",
   "metadata": {},
   "source": [
    "### 03) WAP to Pick a random element from a given list."
   ]
  },
  {
   "cell_type": "code",
   "execution_count": 31,
   "metadata": {},
   "outputs": [
    {
     "name": "stdout",
     "output_type": "stream",
     "text": [
      "Random element from list =  13\n"
     ]
    }
   ],
   "source": [
    "l1=[i for i in range(1,51)]\n",
    "print(\"Random element from list = \",random.choice(l1))"
   ]
  },
  {
   "cell_type": "markdown",
   "metadata": {},
   "source": [
    "### 04) WAP to demonstrate the use of the math module."
   ]
  },
  {
   "cell_type": "code",
   "execution_count": 45,
   "metadata": {},
   "outputs": [
    {
     "name": "stdout",
     "output_type": "stream",
     "text": [
      "e =  2.718281828459045\n",
      "PI =  3.141592653589793\n",
      "Tau =  6.283185307179586\n",
      "infinity =  inf\n",
      "NaN =  nan\n",
      "Ceil =  6\n",
      "Floor =  5\n",
      "Factorial =  120\n",
      "GCD =  15\n",
      "Absolute =  15.0\n",
      "Exp =  2.718281828459045\n",
      "Exp =  125.0\n",
      "Log =  3.3219280948873626\n",
      "Log2 =  3.321928094887362\n",
      "Log10 =  1.0\n",
      "Sqrt =  9.0\n",
      "sin =  1.0  cos =  0.7071067811865476  tan =  -1.2246467991473532e-16\n",
      "Radians =  1.5707963267948966\n",
      "Degree =  85.94366926962348\n",
      "Gamma =  24.0\n",
      "isinf=  False\n",
      "isnan =  True\n",
      "erf =  0.9999999999984626\n"
     ]
    }
   ],
   "source": [
    "import math\n",
    "print(\"e = \", math.e)\n",
    "print(\"PI = \", math.pi)\n",
    "print(\"Tau = \", math.tau)\n",
    "print(\"infinity = \", math.inf)\n",
    "print(\"NaN = \", math.nan)\n",
    "print(\"Ceil = \",math.ceil(5.6))\n",
    "print(\"Floor = \",math.floor(5.6))\n",
    "print(\"Factorial = \",math.factorial(5))\n",
    "print(\"GCD = \",math.gcd(15,30))\n",
    "print(\"Absolute = \",math.fabs(-15))\n",
    "print(\"Exp = \",math.exp(1))\n",
    "print(\"Exp = \", math.pow(5,3))\n",
    "print(\"Log = \",math.log(10,2))\n",
    "print(\"Log2 = \",math.log2(10))\n",
    "print(\"Log10 = \",math.log10(10))\n",
    "print(\"Sqrt = \",math.sqrt(81))\n",
    "print(\"sin = \",math.sin(math.pi/2),\" cos = \",math.cos(math.pi/4),\" tan = \",math.tan(math.pi))\n",
    "print(\"Radians = \",math.radians(90))\n",
    "print(\"Degree = \",math.degrees(1.5))\n",
    "print(\"Gamma = \",math.gamma(5))\n",
    "print(\"isinf= \",math.isinf(math.pi))\n",
    "print(\"isnan = \",math.isnan(float('nan')))\n",
    "print(\"erf = \",math.erf(5))"
   ]
  },
  {
   "cell_type": "markdown",
   "metadata": {},
   "source": [
    "### 05) WAP to demonstrate the use of date time module."
   ]
  },
  {
   "cell_type": "code",
   "execution_count": 48,
   "metadata": {},
   "outputs": [
    {
     "name": "stdout",
     "output_type": "stream",
     "text": [
      "2024-03-31\n",
      "2024-03-31\n",
      "2024\n",
      "3\n",
      "31\n",
      "10:30:05.000001\n",
      "10\n",
      "30\n",
      "5\n",
      "1\n",
      "2024-03-31 00:00:00\n",
      "2024-03-31 17:02:03.693457\n",
      "2024-04-02 17:02:03.693457\n",
      "Sunday\n",
      "Sun\n",
      "02\n",
      "03\n",
      "2024\n",
      "24\n"
     ]
    }
   ],
   "source": [
    "import datetime\n",
    "d = datetime.date(2024,3,31)\n",
    "print(d)\n",
    "t = datetime.date.today()\n",
    "print(t)\n",
    "print(t.year)\n",
    "print(t.month)\n",
    "print(t.day)\n",
    "t = datetime.time(10,30,5,1)\n",
    "print(t)\n",
    "print(t.hour)\n",
    "print(t.minute)\n",
    "print(t.second)\n",
    "print(t.microsecond)\n",
    "dt = datetime.datetime(2024,3,31)\n",
    "print(dt)\n",
    "x = datetime.datetime.now()\n",
    "print(x)\n",
    "y = x+datetime.timedelta(days=2)\n",
    "print(y)\n",
    "print(x.strftime(\"%A\"))\n",
    "print(x.strftime(\"%a\"))\n",
    "print(x.strftime(\"%M\"))\n",
    "print(x.strftime(\"%m\"))\n",
    "print(x.strftime(\"%Y\"))\n",
    "print(x.strftime(\"%y\"))"
   ]
  },
  {
   "cell_type": "markdown",
   "metadata": {},
   "source": [
    "# B"
   ]
  },
  {
   "cell_type": "markdown",
   "metadata": {},
   "source": [
    "### 01) WAP to Roll dice in such a way that every time you get the same number."
   ]
  },
  {
   "cell_type": "code",
   "execution_count": 7,
   "metadata": {},
   "outputs": [
    {
     "data": {
      "text/plain": [
       "5"
      ]
     },
     "execution_count": 7,
     "metadata": {},
     "output_type": "execute_result"
    }
   ],
   "source": [
    "l1=[1,2,3,4,5,6]\n",
    "random.seed(6)\n",
    "random.choice(l1)"
   ]
  },
  {
   "cell_type": "markdown",
   "metadata": {},
   "source": [
    "### 02) WAP to generate 3 random integers between 100 and 999 which is divisible by 5."
   ]
  },
  {
   "cell_type": "code",
   "execution_count": 86,
   "metadata": {},
   "outputs": [
    {
     "name": "stdout",
     "output_type": "stream",
     "text": [
      "620\n",
      "420\n",
      "665\n"
     ]
    }
   ],
   "source": [
    "for i in range(3):\n",
    "    print(random.randrange(100,999,5))"
   ]
  },
  {
   "cell_type": "markdown",
   "metadata": {},
   "source": [
    "### 03) WAP to generate 100 random lottery tickets and pick two lucky tickets from it as a winner."
   ]
  },
  {
   "cell_type": "code",
   "execution_count": 158,
   "metadata": {},
   "outputs": [
    {
     "name": "stdout",
     "output_type": "stream",
     "text": [
      "[7446788, 3017502]\n"
     ]
    }
   ],
   "source": [
    "li = []\n",
    "for i in range(100):\n",
    "    li.append(random.randint(1,10000000))\n",
    "print(random.sample(li,2))"
   ]
  },
  {
   "cell_type": "markdown",
   "metadata": {},
   "source": [
    "### 04) WAP to print current date and time in Python."
   ]
  },
  {
   "cell_type": "code",
   "execution_count": 105,
   "metadata": {},
   "outputs": [
    {
     "name": "stdout",
     "output_type": "stream",
     "text": [
      "2024-03-31 18:32:30.673788\n"
     ]
    }
   ],
   "source": [
    "dt1=datetime.datetime.now()\n",
    "print(dt1)"
   ]
  },
  {
   "cell_type": "markdown",
   "metadata": {},
   "source": [
    "### 05) Subtract a week (7 days) from a given date in Python."
   ]
  },
  {
   "cell_type": "code",
   "execution_count": 112,
   "metadata": {},
   "outputs": [
    {
     "name": "stdout",
     "output_type": "stream",
     "text": [
      "2024-03-24 18:32:30.673788\n"
     ]
    }
   ],
   "source": [
    "dt2=dt1-datetime.timedelta(weeks=1)\n",
    "print(dt2)"
   ]
  },
  {
   "cell_type": "markdown",
   "metadata": {},
   "source": [
    "### 06) WAP to Calculate number of days between two given dates."
   ]
  },
  {
   "cell_type": "code",
   "execution_count": 113,
   "metadata": {},
   "outputs": [
    {
     "name": "stdout",
     "output_type": "stream",
     "text": [
      "7\n"
     ]
    }
   ],
   "source": [
    "print(dt1.day-dt2.day)"
   ]
  },
  {
   "cell_type": "markdown",
   "metadata": {},
   "source": [
    "### 07) WAP to Find the day of the week of a given date."
   ]
  },
  {
   "cell_type": "code",
   "execution_count": 116,
   "metadata": {},
   "outputs": [
    {
     "name": "stdout",
     "output_type": "stream",
     "text": [
      "Sunday\n",
      "Sun\n"
     ]
    }
   ],
   "source": [
    "print(dt1.strftime(\"%A\"))\n",
    "print(dt1.strftime(\"%a\"))"
   ]
  }
 ],
 "metadata": {
  "kernelspec": {
   "display_name": "Python 3 (ipykernel)",
   "language": "python",
   "name": "python3"
  },
  "language_info": {
   "codemirror_mode": {
    "name": "ipython",
    "version": 3
   },
   "file_extension": ".py",
   "mimetype": "text/x-python",
   "name": "python",
   "nbconvert_exporter": "python",
   "pygments_lexer": "ipython3",
   "version": "3.12.1"
  }
 },
 "nbformat": 4,
 "nbformat_minor": 4
}
