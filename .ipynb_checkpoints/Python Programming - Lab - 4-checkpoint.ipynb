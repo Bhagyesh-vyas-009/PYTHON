{
 "cells": [
  {
   "cell_type": "markdown",
   "metadata": {},
   "source": [
    "\n",
    "<a href='https://www.darshan.ac.in/'> <img src='https://www.darshan.ac.in/Content/media/DU_Logo.svg' width=\"250\" height=\"300\"/></a>\n",
    "<pre>\n",
    "<center><b><h1>Python Programming - 2101CS405</b></center>\n",
    "<center><b><h1>Lab - 4</b></center>    \n",
    "<pre>"
   ]
  },
  {
   "cell_type": "markdown",
   "metadata": {},
   "source": [
    "### Name : Vyas Bhagyesh Y\n",
    "### Enrollment No : 23010101662\n",
    "### Roll No :23010101662"
   ]
  },
  {
   "cell_type": "markdown",
   "metadata": {},
   "source": [
    "# String"
   ]
  },
  {
   "cell_type": "code",
   "execution_count": null,
   "metadata": {},
   "outputs": [],
   "source": [
    "01) WAP to check given string is palindrome or not."
   ]
  },
  {
   "cell_type": "code",
   "execution_count": 5,
   "metadata": {},
   "outputs": [
    {
     "name": "stdin",
     "output_type": "stream",
     "text": [
      "Enetr a String :  ababa\n"
     ]
    },
    {
     "name": "stdout",
     "output_type": "stream",
     "text": [
      "String is Palindrome\n"
     ]
    }
   ],
   "source": [
    "s1=input(\"Enetr a String : \")\n",
    "rev=s1[::-1]\n",
    "if rev==s1:\n",
    "    print(\"String is Palindrome\")\n",
    "else:\n",
    "    print(\"String is not Palindrome\")"
   ]
  },
  {
   "cell_type": "markdown",
   "metadata": {},
   "source": [
    "### 02) WAP to reverse the words in given string."
   ]
  },
  {
   "cell_type": "code",
   "execution_count": 4,
   "metadata": {},
   "outputs": [
    {
     "name": "stdin",
     "output_type": "stream",
     "text": [
      "Enter String :  Bhagyesh\n"
     ]
    },
    {
     "name": "stdout",
     "output_type": "stream",
     "text": [
      "hseygahB\n"
     ]
    }
   ],
   "source": [
    "str=input(\"Enter String : \")\n",
    "rev=str[::-1]\n",
    "print(rev)"
   ]
  },
  {
   "cell_type": "markdown",
   "metadata": {},
   "source": [
    "### 03) WAP to remove ith character from given string"
   ]
  },
  {
   "cell_type": "code",
   "execution_count": 1,
   "metadata": {},
   "outputs": [
    {
     "name": "stdin",
     "output_type": "stream",
     "text": [
      "Enter String :  yayayaya\n",
      "Enter index :  2\n"
     ]
    },
    {
     "name": "stdout",
     "output_type": "stream",
     "text": [
      "yyayaya\n"
     ]
    }
   ],
   "source": [
    "str=input(\"Enter String : \")\n",
    "ith=int(input(\"Enter index : \"))\n",
    "if ith>0 and ith<len(str):\n",
    "    print(str[:ith-1]+str[ith:])\n",
    "else:\n",
    "    print(\"Enter appropriate index\")\n",
    "# for i in str:\n",
    "# print(r)"
   ]
  },
  {
   "cell_type": "markdown",
   "metadata": {},
   "source": [
    "### 04) WAP to find length of String without using len function."
   ]
  },
  {
   "cell_type": "code",
   "execution_count": 3,
   "metadata": {},
   "outputs": [
    {
     "name": "stdin",
     "output_type": "stream",
     "text": [
      "Enter String :  Bhagyesh Vyas\n"
     ]
    },
    {
     "name": "stdout",
     "output_type": "stream",
     "text": [
      "Length =  13\n"
     ]
    }
   ],
   "source": [
    "str=input(\"Enter String : \")\n",
    "c=0\n",
    "for i in str:\n",
    "    c+=1\n",
    "print(\"Length = \",c)"
   ]
  },
  {
   "cell_type": "markdown",
   "metadata": {},
   "source": [
    "### 05) WAP to print even length word in string."
   ]
  },
  {
   "cell_type": "code",
   "execution_count": 7,
   "metadata": {},
   "outputs": [
    {
     "name": "stdin",
     "output_type": "stream",
     "text": [
      "Enter String :  Bhagyesh Vyas\n"
     ]
    },
    {
     "name": "stdout",
     "output_type": "stream",
     "text": [
      "Bhagyesh\n",
      "Vyas\n"
     ]
    }
   ],
   "source": [
    "str=input(\"Enter String : \")\n",
    "\n",
    "s1=str.split(\" \")\n",
    "\n",
    "for i in s1:\n",
    "    if len(i)%2==0:\n",
    "        print(i)"
   ]
  },
  {
   "cell_type": "markdown",
   "metadata": {},
   "source": [
    "### 06) WAP to count numbers of vowels in given string."
   ]
  },
  {
   "cell_type": "code",
   "execution_count": 8,
   "metadata": {},
   "outputs": [
    {
     "name": "stdin",
     "output_type": "stream",
     "text": [
      "Enter String :  BHAGYESH\n"
     ]
    },
    {
     "name": "stdout",
     "output_type": "stream",
     "text": [
      "Count =  2\n"
     ]
    }
   ],
   "source": [
    "str=input(\"Enter String : \")\n",
    "vc=0\n",
    "for i in str:\n",
    "    if i=='a' or i=='e' or i=='i' or i=='o' or i=='u' or i=='A' or i=='E' or i=='I' or i=='O' or i=='U':\n",
    "        c+=1\n",
    "print(\"VOWEL COUNT = \",vc)"
   ]
  },
  {
   "cell_type": "markdown",
   "metadata": {},
   "source": [
    "### 07) WAP to convert given array to string."
   ]
  },
  {
   "cell_type": "code",
   "execution_count": 10,
   "metadata": {},
   "outputs": [
    {
     "name": "stdout",
     "output_type": "stream",
     "text": [
      "Array =  ['Bhagyesh', 'Vyas']\n",
      "String =  Bhagyesh Vyas\n"
     ]
    }
   ],
   "source": [
    "a=[\"Bhagyesh\",'Vyas']\n",
    "print(\"Array = \",a)\n",
    "str1=\" \".join(a)\n",
    "print(\"String = \",str1)"
   ]
  },
  {
   "cell_type": "markdown",
   "metadata": {},
   "source": [
    "### 01) WAP to find out duplicate characters in given string."
   ]
  },
  {
   "cell_type": "code",
   "execution_count": 14,
   "metadata": {},
   "outputs": [
    {
     "name": "stdin",
     "output_type": "stream",
     "text": [
      "Enter String :  abba\n"
     ]
    },
    {
     "name": "stdout",
     "output_type": "stream",
     "text": [
      "Duplicate Charcter =  a\n",
      "Duplicate Charcter =  b\n"
     ]
    }
   ],
   "source": [
    "dup=input(\"Enter String : \")\n",
    "for i in dup:\n",
    "    if dup.count(i)>1:\n",
    "        dup=dup.replace(i,'')\n",
    "        print(\"Duplicate Charcter = \",i)"
   ]
  },
  {
   "cell_type": "markdown",
   "metadata": {},
   "source": [
    "### 02) WAP to capitalize the first and last character of each word in a string."
   ]
  },
  {
   "cell_type": "code",
   "execution_count": 23,
   "metadata": {},
   "outputs": [
    {
     "name": "stdin",
     "output_type": "stream",
     "text": [
      "Enter String :  my name is bhagyesh\n"
     ]
    },
    {
     "name": "stdout",
     "output_type": "stream",
     "text": [
      "Original String : my name is bhagyesh\n",
      "['my', 'name', 'is', 'bhagyesh']\n",
      "String after Change : MY NamE IS BhagyesH\n"
     ]
    }
   ],
   "source": [
    "s = input(\"Enter String : \")\n",
    "print(\"Original String :\", s)\n",
    "a = s.split()\n",
    "newstr=[]\n",
    "print(a)\n",
    "for i in a:\n",
    "    if len(i)>1:\n",
    "    \tnew_str = i[0].upper()+i[1:-1]+i[-1].upper()\n",
    "    else:\n",
    "        new_str=i.upper()\n",
    "    newstr.append(new_str)\n",
    "print(\"String after Change :\", \" \".join(newstr))\n"
   ]
  },
  {
   "cell_type": "markdown",
   "metadata": {},
   "source": [
    "### 03) WAP to find Maximum frequency character in String."
   ]
  },
  {
   "cell_type": "code",
   "execution_count": 29,
   "metadata": {},
   "outputs": [
    {
     "name": "stdin",
     "output_type": "stream",
     "text": [
      "Enter String :  bhaaaggggyesssssh\n"
     ]
    },
    {
     "name": "stdout",
     "output_type": "stream",
     "text": [
      "Maximum Frquency Character = s\n"
     ]
    }
   ],
   "source": [
    "str1=input(\"Enter String : \")\n",
    "\n",
    "all_fre={}\n",
    "\n",
    "for i in str1:\n",
    "    if i in all_fre:\n",
    "        all_fre[i] += 1\n",
    "    else:\n",
    "        all_fre[i] = 1\n",
    "\n",
    "res=max(all_fre,key=all_fre.get)\n",
    "\n",
    "print(\"Maximum Frquency Character = \"+res)"
   ]
  },
  {
   "cell_type": "markdown",
   "metadata": {},
   "source": [
    "### 04) WAP to find Minimum frequency character in String."
   ]
  },
  {
   "cell_type": "code",
   "execution_count": 31,
   "metadata": {},
   "outputs": [
    {
     "name": "stdin",
     "output_type": "stream",
     "text": [
      "Enter String :  hhelloo\n"
     ]
    },
    {
     "name": "stdout",
     "output_type": "stream",
     "text": [
      "Maximum Frquency Character = e\n"
     ]
    }
   ],
   "source": [
    "str1=input(\"Enter String : \")\n",
    "\n",
    "all_fre={}\n",
    "\n",
    "for i in str1:\n",
    "    if i in all_fre:\n",
    "        all_fre[i] += 1\n",
    "    else:\n",
    "        all_fre[i] = 1\n",
    "\n",
    "res=min(all_fre,key=all_fre.get)\n",
    "\n",
    "print(\"Maximum Frquency Character = \"+res)"
   ]
  },
  {
   "cell_type": "markdown",
   "metadata": {},
   "source": [
    "### 05) WAP to check if a given string is binary string or not"
   ]
  },
  {
   "cell_type": "code",
   "execution_count": 23,
   "metadata": {},
   "outputs": [
    {
     "name": "stdin",
     "output_type": "stream",
     "text": [
      "Enter String :  10010101\n"
     ]
    },
    {
     "name": "stdout",
     "output_type": "stream",
     "text": [
      "String is binary String\n"
     ]
    }
   ],
   "source": [
    "str1=input(\"Enter String : \")\n",
    "b={'0','1'}\n",
    "t=set(str1)\n",
    "if b==t or t=={'0'} or t=={'1'}:\n",
    "    print(\"String is binary String\")\n",
    "else:\n",
    "    print(\"String is not binary String\")"
   ]
  }
 ],
 "metadata": {
  "kernelspec": {
   "display_name": "Python 3 (ipykernel)",
   "language": "python",
   "name": "python3"
  },
  "language_info": {
   "codemirror_mode": {
    "name": "ipython",
    "version": 3
   },
   "file_extension": ".py",
   "mimetype": "text/x-python",
   "name": "python",
   "nbconvert_exporter": "python",
   "pygments_lexer": "ipython3",
   "version": "3.12.1"
  },
  "vscode": {
   "interpreter": {
    "hash": "31f2aee4e71d21fbe5cf8b01ff0e069b9275f58929596ceb00d14d90e3e16cd6"
   }
  }
 },
 "nbformat": 4,
 "nbformat_minor": 4
}
