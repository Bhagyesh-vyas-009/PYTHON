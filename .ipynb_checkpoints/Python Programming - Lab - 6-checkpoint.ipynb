{
 "cells": [
  {
   "cell_type": "markdown",
   "metadata": {},
   "source": [
    "<a href='https://www.darshan.ac.in/'> <img src='https://www.darshan.ac.in/Content/media/DU_Logo.svg' width=\"250\" height=\"300\"/></a>\n",
    "<pre>\n",
    "<center><b><h1>Python Programming - 2101CS405</b></center>\n",
    "<center><b><h1>Lab - 6</b></center>    \n",
    "<pre>"
   ]
  },
  {
   "cell_type": "markdown",
   "metadata": {},
   "source": [
    "### Name : Vyas Bhagyesh Y\n",
    "### Enrollment No : 23010101662\n",
    "### Roll No :23010101662"
   ]
  },
  {
   "cell_type": "markdown",
   "metadata": {},
   "source": [
    "# Tuples, dictionary, set"
   ]
  },
  {
   "cell_type": "markdown",
   "metadata": {},
   "source": [
    "# A"
   ]
  },
  {
   "cell_type": "markdown",
   "metadata": {},
   "source": [
    "### 01) WAP to sort python dictionary by key or value."
   ]
  },
  {
   "cell_type": "code",
   "execution_count": 5,
   "metadata": {},
   "outputs": [
    {
     "name": "stdin",
     "output_type": "stream",
     "text": [
      "Enter Key :  3\n",
      "Enter Value :  x\n",
      "Enter Key :  5\n",
      "Enter Value :  a\n",
      "Enter Key :  1\n",
      "Enter Value :  z\n",
      "Enter Key :  2\n",
      "Enter Value :  b\n",
      "Enter Key :  4\n",
      "Enter Value :  y\n"
     ]
    },
    {
     "name": "stdout",
     "output_type": "stream",
     "text": [
      "Original Dictionary :  {3: 'x', 5: 'a', 1: 'z', 2: 'b', 4: 'y'}\n",
      "Sorted dictionary by key :  {1: 'z', 2: 'b', 3: 'x', 4: 'y', 5: 'a'}\n",
      "Sorted dictionary by Value :  {5: 'a', 2: 'b', 3: 'x', 4: 'y', 1: 'z'}\n"
     ]
    }
   ],
   "source": [
    "d1=dict()\n",
    "for i in range(5):\n",
    "    i=int(input(\"Enter Key : \"))\n",
    "    d1[i]=input(\"Enter Value : \")\n",
    "\n",
    "key=list(d1.keys())\n",
    "key.sort()\n",
    "k_d={}\n",
    "for i in key:\n",
    "    k_d[i]=d1[i]\n",
    "\n",
    "a=list(d1.values())\n",
    "a.sort()\n",
    "k_dict={}\n",
    "for i in a:\n",
    "    for j in d1:\n",
    "        if(i==d1[j]):\n",
    "            k_dict[j]=i\n",
    "print(\"Original Dictionary : \",d1)\n",
    "print(\"Sorted dictionary by key : \",k_d)\n",
    "print(\"Sorted dictionary by Value : \",k_dict)"
   ]
  },
  {
   "cell_type": "markdown",
   "metadata": {},
   "source": [
    "### 02) WAP to merge two dictionaries given by user."
   ]
  },
  {
   "cell_type": "code",
   "execution_count": 31,
   "metadata": {},
   "outputs": [
    {
     "name": "stdout",
     "output_type": "stream",
     "text": [
      "dictionary-1\n"
     ]
    },
    {
     "name": "stdin",
     "output_type": "stream",
     "text": [
      "Enter Key :  a\n",
      "Enter Value :  1\n",
      "Enter Key :  b\n",
      "Enter Value :  2\n",
      "Enter Key :  c\n",
      "Enter Value :  3\n"
     ]
    },
    {
     "name": "stdout",
     "output_type": "stream",
     "text": [
      "dictionary-2\n"
     ]
    },
    {
     "name": "stdin",
     "output_type": "stream",
     "text": [
      "Enter Key :  d\n",
      "Enter Value :  4\n",
      "Enter Key :  e\n",
      "Enter Value :  5\n",
      "Enter Key :  f\n",
      "Enter Value :  6\n"
     ]
    },
    {
     "name": "stdout",
     "output_type": "stream",
     "text": [
      "Dictionary-1 :  {'a': 1, 'b': 2, 'c': 3, 'd': 4, 'e': 5, 'f': 6}\n",
      "Dictionary-2 :  {'d': 4, 'e': 5, 'f': 6}\n",
      "Merged Dictionary :  {'a': 1, 'b': 2, 'c': 3, 'd': 4, 'e': 5, 'f': 6}\n"
     ]
    }
   ],
   "source": [
    "d1= {}\n",
    "print(\"dictionary-1\")\n",
    "for i in range(3):\n",
    "    i=input(\"Enter Key : \")\n",
    "    d1[i]=int(input(\"Enter Value : \"))\n",
    "\n",
    "d2={}\n",
    "print(\"dictionary-2\")\n",
    "for i in range(3):\n",
    "    i=input(\"Enter Key : \")\n",
    "    d2[i]=int(input(\"Enter Value : \"))\n",
    "\n",
    "d1.update(d2)\n",
    "print(\"Dictionary-1 : \",d1)\n",
    "print(\"Dictionary-2 : \",d2)\n",
    "print(\"Merged Dictionary : \",d1)"
   ]
  },
  {
   "cell_type": "markdown",
   "metadata": {},
   "source": [
    "### 03) WAP to find tuples that have all elements divisible by K from a list of tuples."
   ]
  },
  {
   "cell_type": "code",
   "execution_count": 57,
   "metadata": {},
   "outputs": [
    {
     "name": "stdin",
     "output_type": "stream",
     "text": [
      "Enter k :  3\n"
     ]
    },
    {
     "name": "stdout",
     "output_type": "stream",
     "text": [
      "[(3, 6), (9, 12)]\n"
     ]
    }
   ],
   "source": [
    "t_list=[(1, 2, 3), (4, 5, 6), (7, 8, 9), (3, 6), (9, 12)]\n",
    "k=int(input(\"Enter k : \"))\n",
    "res=[tup for tup in t_list if all(ele%k==0 for ele in tup)]\n",
    "print(res)\n"
   ]
  },
  {
   "cell_type": "markdown",
   "metadata": {},
   "source": [
    "### 04) WAP to find Tuples with positive elements in List of tuples."
   ]
  },
  {
   "cell_type": "code",
   "execution_count": 61,
   "metadata": {},
   "outputs": [
    {
     "name": "stdout",
     "output_type": "stream",
     "text": [
      "Tuples with positive elements in list of tuples :  [(1, 2, 3), (4, 5, 6), (7, 8, 9)]\n"
     ]
    }
   ],
   "source": [
    "t_list=[(1, 2, 3), (4, 5, 6), (7, 8, 9), (0, -1, -2), (-4, -5, -6), (4, -5, 6)]\n",
    "res=[tup for tup in t_list if all(ele>0 for ele in tup)]\n",
    "print(\"Tuples with positive elements in list of tuples : \",res)"
   ]
  },
  {
   "cell_type": "markdown",
   "metadata": {},
   "source": [
    "### 05) WAP which perform union of two sets."
   ]
  },
  {
   "cell_type": "code",
   "execution_count": 63,
   "metadata": {},
   "outputs": [
    {
     "name": "stdout",
     "output_type": "stream",
     "text": [
      "Union :  {1, 2, 3, 4, 5, 6, 7}\n"
     ]
    }
   ],
   "source": [
    "s1={1, 2, 3, 4, 5}\n",
    "s2={3, 4, 5, 6, 7}\n",
    "\n",
    "print(\"Union : \",s1.union(s2))\n"
   ]
  },
  {
   "cell_type": "markdown",
   "metadata": {},
   "source": [
    "# B"
   ]
  },
  {
   "cell_type": "markdown",
   "metadata": {},
   "source": [
    "### 01) WAP to convert binary tuple into integer."
   ]
  },
  {
   "cell_type": "code",
   "execution_count": 16,
   "metadata": {},
   "outputs": [
    {
     "name": "stdin",
     "output_type": "stream",
     "text": [
      "Enter no :  1\n",
      "Enter no :  1\n",
      "Enter no :  1\n",
      "Enter no :  1\n"
     ]
    },
    {
     "name": "stdout",
     "output_type": "stream",
     "text": [
      "Original tuple ::  (1, 1, 1, 1)\n",
      "Integer ::  15\n"
     ]
    }
   ],
   "source": [
    "Tuple=()\n",
    "tmp=[]\n",
    "\n",
    "for i in range(4):\n",
    "    tmp.append(int(input(\"Enter no : \")))\n",
    "Tuple=tuple(tmp)\n",
    "\n",
    "sum=0\n",
    "ind=0\n",
    "\n",
    "for i in Tuple[::-1]:\n",
    "    sum=sum+2**ind*i\n",
    "    ind+=1\n",
    "print(\"Original tuple :: \",Tuple)\n",
    "print(\"Integer :: \",sum)"
   ]
  },
  {
   "cell_type": "markdown",
   "metadata": {},
   "source": [
    "### 02) WAP to count frequency in list by dictionary."
   ]
  },
  {
   "cell_type": "code",
   "execution_count": 13,
   "metadata": {},
   "outputs": [
    {
     "name": "stdin",
     "output_type": "stream",
     "text": [
      "Enter length of list :  5\n",
      "Enter Element :  1\n",
      "Enter Element :  1\n",
      "Enter Element :  1\n",
      "Enter Element :  2\n",
      "Enter Element :  5\n"
     ]
    },
    {
     "name": "stdout",
     "output_type": "stream",
     "text": [
      "List ::  [1, 1, 1, 2, 5]\n",
      "3\n",
      "Dictionary ::  {1: 3, 2: 1, 5: 1}\n"
     ]
    }
   ],
   "source": [
    "list=[]\n",
    "dict2=dict()\n",
    "n=int(input(\"Enter length of list : \"))\n",
    "list=[int(input(\"Enter Element : \")) for i in range(0,n)] \n",
    "input_set=set(list)\n",
    "count1=0\n",
    "for i in input_set: \n",
    "    dict2[i]=list.count(i)\n",
    "print(\"List :: \",list)\n",
    "print(\"Dictionary :: \",dict2)"
   ]
  },
  {
   "cell_type": "markdown",
   "metadata": {},
   "source": [
    "### 03) WAP to remove all the duplicate words from the list using dictionary."
   ]
  },
  {
   "cell_type": "code",
   "execution_count": 20,
   "metadata": {},
   "outputs": [
    {
     "name": "stdin",
     "output_type": "stream",
     "text": [
      "Enter Word :  red\n",
      "Enter Word :  green\n",
      "Enter Word :  yellow\n",
      "Enter Word :  orange\n",
      "Enter Word :  blue\n",
      "Enter Word :  red\n",
      "Enter Word :  orange\n",
      "Enter Word :  yellow\n",
      "Enter Word :  green\n",
      "Enter Word :  blue\n"
     ]
    },
    {
     "name": "stdout",
     "output_type": "stream",
     "text": [
      "Original List ::  ['red', 'green', 'yellow', 'orange', 'blue', 'red', 'orange', 'yellow', 'green', 'blue']\n",
      "List without Duplicate Elements ::  ['red', 'green', 'yellow', 'orange', 'blue']\n"
     ]
    }
   ],
   "source": [
    "l3=[input(\"Enter Word : \") for i in range(10)]\n",
    "l4=[]\n",
    "for i in l3:\n",
    "    d3[i]=l3.count(i)\n",
    "    if i not in l4:\n",
    "        l4.append(i)\n",
    "\n",
    "print(\"Original List :: \",l3)\n",
    "print(\"List without Duplicate Elements :: \",l4)"
   ]
  }
 ],
 "metadata": {
  "kernelspec": {
   "display_name": "Python 3 (ipykernel)",
   "language": "python",
   "name": "python3"
  },
  "language_info": {
   "codemirror_mode": {
    "name": "ipython",
    "version": 3
   },
   "file_extension": ".py",
   "mimetype": "text/x-python",
   "name": "python",
   "nbconvert_exporter": "python",
   "pygments_lexer": "ipython3",
   "version": "3.12.1"
  }
 },
 "nbformat": 4,
 "nbformat_minor": 4
}
