{
 "cells": [
  {
   "cell_type": "markdown",
   "metadata": {
    "id": "I36ZtkY_TPga"
   },
   "source": [
    "<a href='https://www.darshan.ac.in/'> <img src='https://www.darshan.ac.in/Content/media/DU_Logo.svg' width=\"250\" height=\"300\"/></a>\n",
    "<pre>\n",
    "<center><b><h1>Python Programming - 2101CS405</b></center>\n",
    "<center><b><h1>Lab - 8</b></center>    \n",
    "<pre>"
   ]
  },
  {
   "cell_type": "markdown",
   "metadata": {},
   "source": [
    "## Name :: Vyas Bhagyesh Y.\n",
    "## Enrollment :: 2301010662\n",
    "## Date :: { }"
   ]
  },
  {
   "cell_type": "markdown",
   "metadata": {
    "id": "xBdreJBkTPgd"
   },
   "source": [
    "# File handling"
   ]
  },
  {
   "cell_type": "markdown",
   "metadata": {},
   "source": [
    "# f= open(\"abc.txt\",\"r\")\n",
    "### open(\" file_path \" , \" permission \") == open given file with given permisson\n",
    "### \"w\" = write mode (which overwrite file)\n",
    "### \"a\" = write mode (which append at end of  file)\n",
    "### \"r\" = read mode\n",
    "\n",
    "# f.readlines()\n",
    "### read() == return whole file in string\n",
    "### readline() == return first line of file\n",
    "### readlines() == return list of all lines \n",
    "\n",
    "# f.close() to close opened file"
   ]
  },
  {
   "cell_type": "markdown",
   "metadata": {},
   "source": [
    "## Simple Example of Character Encoding and Decoding\n",
    "## use this to encode and decode files"
   ]
  },
  {
   "cell_type": "code",
   "execution_count": 1,
   "metadata": {},
   "outputs": [
    {
     "name": "stdout",
     "output_type": "stream",
     "text": [
      "abcdefghijklmnopqrstuvwxyzABCDEFGHIJKLMNOPQRSTUVWXYZ\n",
      "URXjqYOguKkbANeSiZECMQHPIvGzncBVpmwDhadTsxLWJfrloytF\n",
      "abc encoded :  URX\n",
      "xyz encoded :  PIv\n",
      "hello encoded :  gqbbe\n"
     ]
    }
   ],
   "source": [
    "s = \"abcdefghijklmnopqrstuvwxyzABCDEFGHIJKLMNOPQRSTUVWXYZ\"\n",
    "print(s)\n",
    "b = \"URXjqYOguKkbANeSiZECMQHPIvGzncBVpmwDhadTsxLWJfrloytF\"\n",
    "print(b)\n",
    "\n",
    "def encode(word):\n",
    "    x = \"\"\n",
    "    for i in word:\n",
    "        x += b[s.find(i)]\n",
    "    return x\n",
    "        \n",
    "print(\"abc encoded : \",encode(\"abc\"))\n",
    "print(\"xyz encoded : \",encode(\"xyz\"))\n",
    "print(\"hello encoded : \",encode(\"hello\"))"
   ]
  },
  {
   "cell_type": "code",
   "execution_count": 2,
   "metadata": {},
   "outputs": [
    {
     "name": "stdout",
     "output_type": "stream",
     "text": [
      "abcdefghijklmnopqrstuvwxyzABCDEFGHIJKLMNOPQRSTUVWXYZ\n",
      "URXjqYOguKkbANeSiZECMQHPIvGzncBVpmwDhadTsxLWJfrloytF\n",
      "URX decoded :  abc\n",
      "PIv decoded :  xyz\n",
      "gqbbe decoded :  hello\n"
     ]
    }
   ],
   "source": [
    "s = \"abcdefghijklmnopqrstuvwxyzABCDEFGHIJKLMNOPQRSTUVWXYZ\"\n",
    "print(s)\n",
    "b = \"URXjqYOguKkbANeSiZECMQHPIvGzncBVpmwDhadTsxLWJfrloytF\"\n",
    "print(b)\n",
    "\n",
    "def decode(word):\n",
    "    x = \"\"\n",
    "    for i in word:\n",
    "        x += s[b.find(i)]\n",
    "    return x\n",
    "        \n",
    "print(\"URX decoded : \",decode(\"URX\"))\n",
    "print(\"PIv decoded : \",decode(\"PIv\"))\n",
    "print(\"gqbbe decoded : \",decode(\"gqbbe\"))"
   ]
  },
  {
   "cell_type": "markdown",
   "metadata": {
    "id": "A97RmQaYTPgd"
   },
   "source": [
    "# A"
   ]
  },
  {
   "cell_type": "markdown",
   "metadata": {
    "id": "od-WISIcTPge"
   },
   "source": [
    "### 01) WAP to read entire file named abc.txt"
   ]
  },
  {
   "cell_type": "code",
   "execution_count": 19,
   "metadata": {
    "id": "2THz-NwJTPge",
    "outputId": "9012361b-4976-4566-a06d-9f257d079352"
   },
   "outputs": [
    {
     "name": "stdout",
     "output_type": "stream",
     "text": [
      "Lorem ipsum dolor sit amet, consectetur adipiscing elit, sed do eiusmod tempor incididunt ut labore et dolore magna aliqua. Tristique sollicitudin nibh sit amet. Euismod elementum nisi quis eleifend quam adipiscing vitae. Feugiat in fermentum posuere urna nec tincidunt praesent. Sit amet consectetur adipiscing elit pellentesque habitant. Ut placerat orci nulla pellentesque dignissim. Laoreet id donec ultrices tincidunt arcu non sodales neque. Rhoncus dolor purus non enim. Cursus eget nunc scelerisque viverra. Scelerisque eu ultrices vitae auctor eu augue. Potenti nullam ac tortor vitae purus faucibus. Porttitor massa id neque aliquam vestibulum morbi blandit cursus risus. Dolor morbi non arcu risus quis varius. Lacus vestibulum sed arcu non odio euismod lacinia. Lobortis feugiat vivamus at augue eget arcu dictum varius. Fames ac turpis egestas maecenas. In nisl nisi scelerisque eu ultrices vitae auctor eu. Eget nunc scelerisque viverra mauris. Urna porttitor rhoncus dolor purus.\n"
     ]
    }
   ],
   "source": [
    "f= open(\"abc1.txt\",\"r\")\n",
    "\n",
    "# f.write(\"Lorem ipsum dolor sit amet, consectetur adipiscing elit, sed do eiusmod tempor incididunt ut labore et dolore magna aliqua. Tristique sollicitudin nibh sit amet. Euismod elementum nisi quis eleifend quam adipiscing vitae. Feugiat in fermentum posuere urna nec tincidunt praesent. Sit amet consectetur adipiscing elit pellentesque habitant. Ut placerat orci nulla pellentesque dignissim. Laoreet id donec ultrices tincidunt arcu non sodales neque. Rhoncus dolor purus non enim. Cursus eget nunc scelerisque viverra. Scelerisque eu ultrices vitae auctor eu augue. Potenti nullam ac tortor vitae purus faucibus. Porttitor massa id neque aliquam vestibulum morbi blandit cursus risus. Dolor morbi non arcu risus quis varius. Lacus vestibulum sed arcu non odio euismod lacinia. Lobortis feugiat vivamus at augue eget arcu dictum varius. Fames ac turpis egestas maecenas. In nisl nisi scelerisque eu ultrices vitae auctor eu. Eget nunc scelerisque viverra mauris. Urna porttitor rhoncus dolor purus.\")\n",
    "\n",
    "print(f.read())\n",
    "f.close()"
   ]
  },
  {
   "cell_type": "markdown",
   "metadata": {
    "id": "dw7WR9pyTPgf"
   },
   "source": [
    "### 02) WAP to print program it self on console."
   ]
  },
  {
   "cell_type": "code",
   "execution_count": 2,
   "metadata": {
    "colab": {
     "base_uri": "https://localhost:8080/",
     "height": 192
    },
    "executionInfo": {
     "elapsed": 5,
     "status": "error",
     "timestamp": 1706841915158,
     "user": {
      "displayName": "Tej Patel",
      "userId": "04032777318747107215"
     },
     "user_tz": -330
    },
    "id": "9Lu5xWYGTPgf",
    "outputId": "75fb1079-d9c9-465a-ee43-d57dbf85f143"
   },
   "outputs": [
    {
     "name": "stdout",
     "output_type": "stream",
     "text": [
      "def prime(n):\n",
      "    for i in range(2,n):\n",
      "        if n%i == 0:\n",
      "            return 0\n",
      "    return 1\n"
     ]
    }
   ],
   "source": []
  },
  {
   "cell_type": "markdown",
   "metadata": {
    "id": "TZgCdZrCTPgg"
   },
   "source": [
    "### 03) WAP to read first 5 lines from the file named abc.txt"
   ]
  },
  {
   "cell_type": "code",
   "execution_count": 10,
   "metadata": {
    "id": "PaMKPMlETPgg",
    "outputId": "df4daab5-8a4f-4efb-fc05-d869df22fcb7"
   },
   "outputs": [
    {
     "name": "stdout",
     "output_type": "stream",
     "text": [
      "Lorem ipsum dolor sit amet, consectetur adipiscing elit, sed do eiusmod tempor incididunt ut labore et dolore magna aliqua. Tristique sollicitudin nibh sit amet. Euismod elementum nisi quis eleifend quam adipiscing vitae. Feugiat in fermentum posuere urna nec tincidunt praesent. Sit amet consectetur adipiscing elit pellentesque habitant. Ut placerat orci nulla pellentesque dignissim. Laoreet id donec ultrices tincidunt arcu non sodales neque. Rhoncus dolor purus non enim. Cursus eget nunc scelerisque viverra. Scelerisque eu ultrices vitae auctor eu augue. Potenti nullam ac tortor vitae purus faucibus. Porttitor massa id neque aliquam vestibulum morbi blandit cursus risus. Dolor morbi non arcu risus quis varius. Lacus vestibulum sed arcu non odio euismod lacinia. Lobortis feugiat vivamus at augue eget arcu dictum varius. Fames ac turpis egestas maecenas. In nisl nisi scelerisque eu ultrices vitae auctor eu. Eget nunc scelerisque viverra mauris. Urna porttitor rhoncus dolor purus.\n",
      "\n",
      "\n",
      "\n",
      "\n"
     ]
    }
   ],
   "source": [
    "f= open(\"abc.txt\",\"r\")\n",
    "f.seek(0)\n",
    "for i in range(5):\n",
    "    print(f.readline())\n",
    "f.close() "
   ]
  },
  {
   "cell_type": "markdown",
   "metadata": {
    "id": "q-YevoPZTPgg"
   },
   "source": [
    "### 04) WAP to find the longest word in a file named abc.txt"
   ]
  },
  {
   "cell_type": "code",
   "execution_count": 1,
   "metadata": {
    "id": "-nFvgaoRTPgg",
    "outputId": "5e80bbfe-c20a-4ccd-b5f3-7f76e9b5461f"
   },
   "outputs": [
    {
     "name": "stdout",
     "output_type": "stream",
     "text": [
      "sollicitudin\n"
     ]
    }
   ],
   "source": [
    "file = open(\"abc.txt\",\"r\")\n",
    "words = file.read().split()\n",
    "print(max(words,key=len))"
   ]
  },
  {
   "cell_type": "markdown",
   "metadata": {
    "id": "DvMAEtYiTPgh"
   },
   "source": [
    "### 05) WAP to find the size of the file named abc.txt"
   ]
  },
  {
   "cell_type": "code",
   "execution_count": 13,
   "metadata": {
    "id": "qzFSYd-5TPgh",
    "outputId": "f474b5d3-fb48-4fa8-b22d-93c562fe3daf"
   },
   "outputs": [
    {
     "name": "stdout",
     "output_type": "stream",
     "text": [
      "993\n"
     ]
    }
   ],
   "source": [
    "f= open(\"abc.txt\",\"r\")\n",
    "f.seek(0)\n",
    "print(len(f.read()))"
   ]
  },
  {
   "cell_type": "markdown",
   "metadata": {
    "id": "kJLGBHk1TPgh"
   },
   "source": [
    "### 06) WAP to implement search function to search specific occurance of word in a given text file."
   ]
  },
  {
   "cell_type": "markdown",
   "metadata": {},
   "source": [
    "## find for case sensitive and case insensitive"
   ]
  },
  {
   "cell_type": "code",
   "execution_count": 22,
   "metadata": {
    "id": "tD4lzsmnTPgh",
    "outputId": "6b14f7eb-70e4-4810-fa16-eedfab8d7a56"
   },
   "outputs": [
    {
     "name": "stdin",
     "output_type": "stream",
     "text": [
      "Enter word :  scelerisque\n"
     ]
    },
    {
     "name": "stdout",
     "output_type": "stream",
     "text": [
      "4 time occurance\n"
     ]
    }
   ],
   "source": [
    "f= open(\"abc.txt\",\"r\")\n",
    "f.seek(0)\n",
    "l1=f.read().lower().split(\" \")\n",
    "str1=input(\"Enter word : \")\n",
    "wc=0\n",
    "wc=l1.count(str1)\n",
    "\n",
    "if wc==0:\n",
    "    print(\"Word dose not Exist\")\n",
    "else:\n",
    "    print(wc,\"time occurance\")"
   ]
  },
  {
   "cell_type": "code",
   "execution_count": 21,
   "metadata": {},
   "outputs": [
    {
     "name": "stdin",
     "output_type": "stream",
     "text": [
      "Enter word :  scelerisque\n"
     ]
    },
    {
     "name": "stdout",
     "output_type": "stream",
     "text": [
      "3 time occurance\n"
     ]
    }
   ],
   "source": [
    "f= open(\"abc.txt\",\"r\")\n",
    "f.seek(0)\n",
    "l1=f.read().split(\" \")\n",
    "str1=input(\"Enter word : \")\n",
    "wc=0\n",
    "wc=l1.count(str1)\n",
    "if wc==0:\n",
    "    print(\"Word dose not Exist\")\n",
    "else:\n",
    "    print(wc,\"time occurance\")"
   ]
  },
  {
   "cell_type": "markdown",
   "metadata": {
    "id": "L6REsnDATPgi"
   },
   "source": [
    "# B"
   ]
  },
  {
   "cell_type": "markdown",
   "metadata": {
    "id": "kHJlC4Y6TPgi"
   },
   "source": [
    "### 01) WAP to write first 100 prime numbers to a file named primenumbers.txt\n",
    "(Note: each number should be in new line)"
   ]
  },
  {
   "cell_type": "code",
   "execution_count": 2,
   "metadata": {
    "id": "Exuwt3LUTPgi"
   },
   "outputs": [],
   "source": [
    "file = open(\"Prime Numbers.txt\", \"w\")\n",
    "for i in range(2, 101):\n",
    "    for j in range(2, i//2+1):\n",
    "        if i % j == 0:\n",
    "            break\n",
    "    else:\n",
    "        file.write(str(i)+'\\n')\n",
    "file.close()"
   ]
  },
  {
   "cell_type": "markdown",
   "metadata": {
    "id": "RiwS7zu9TPgi"
   },
   "source": [
    "### 02) WAP to merge two files and write it in a new file."
   ]
  },
  {
   "cell_type": "code",
   "execution_count": 3,
   "metadata": {
    "id": "mbJst57RTPgi"
   },
   "outputs": [
    {
     "data": {
      "text/plain": [
       "'Lorem ipsum dolor sit amet, consectetur adipiscing elit, sed do eiusmod tempor incididunt ut labore et dolore magna aliqua. Tristique sollicitudin nibh sit amet. Euismod elementum nisi quis eleifend quam adipiscing vitae. Feugiat in fermentum posuere urna nec tincidunt praesent. Sit amet consectetur adipiscing elit pellentesque habitant. Ut placerat orci nulla pellentesque dignissim. Laoreet id donec ultrices tincidunt arcu non sodales neque. Rhoncus dolor purus non enim. Cursus eget nunc scelerisque viverra. Scelerisque eu ultrices vitae auctor eu augue. Potenti nullam ac tortor vitae purus faucibus. Porttitor massa id neque aliquam vestibulum morbi blandit cursus risus. Dolor morbi non arcu risus quis varius. Lacus vestibulum sed arcu non odio euismod lacinia. Lobortis feugiat vivamus at augue eget arcu dictum varius. Fames ac turpis egestas maecenas. In nisl nisi scelerisque eu ultrices vitae auctor eu. Eget nunc scelerisque viverra mauris. Urna porttitor rhoncus dolor purus.\\nI am Bhagyesh Vyas'"
      ]
     },
     "execution_count": 3,
     "metadata": {},
     "output_type": "execute_result"
    }
   ],
   "source": [
    "d1=d2=\"\"\n",
    "f=open(\"abc.txt\",\"r\")\n",
    "d1+=f.read();\n",
    "f1=open(\"hello.txt\",\"r\")\n",
    "d2+=f1.read();\n",
    "d1+=\"\\n\"\n",
    "d1+=d2\n",
    "f3=open(\"output.txt\",\"w+\")\n",
    "f3.write(d1)\n",
    "f3=open(\"output.txt\",\"r\")\n",
    "f3.read()"
   ]
  },
  {
   "cell_type": "markdown",
   "metadata": {
    "id": "rvUXdk_HTPgj"
   },
   "source": [
    "### 03) WAP to encrypt a text file."
   ]
  },
  {
   "cell_type": "code",
   "execution_count": 24,
   "metadata": {
    "colab": {
     "base_uri": "https://localhost:8080/",
     "height": 290
    },
    "executionInfo": {
     "elapsed": 810346,
     "status": "error",
     "timestamp": 1704252480254,
     "user": {
      "displayName": "Javiya Hit",
      "userId": "07658258706577815819"
     },
     "user_tz": -330
    },
    "id": "VzWMkuX5TPgj",
    "outputId": "0533eb74-4d4d-4001-ac6d-12b4183ff656"
   },
   "outputs": [
    {
     "name": "stdout",
     "output_type": "stream",
     "text": [
      "I am Bhagyesh Vyas\n"
     ]
    }
   ],
   "source": [
    "f= open(\"hello.txt\",\"r+\")\n",
    "\n",
    "# f.write(\"I am Bhagyesh Vyas\")\n",
    "\n",
    "print(f.read())\n",
    "f.close()"
   ]
  },
  {
   "cell_type": "markdown",
   "metadata": {
    "id": "tH0WQ_KWTPgj"
   },
   "source": [
    "### 04) WAP to decrypt a previously encrypted file."
   ]
  },
  {
   "cell_type": "code",
   "execution_count": 4,
   "metadata": {
    "id": "xMBZQxZ-TPgj",
    "outputId": "51bd33ea-d1fd-4d8e-c421-8a69fe715e1f"
   },
   "outputs": [
    {
     "name": "stdout",
     "output_type": "stream",
     "text": [
      "Enter Key :  23\n"
     ]
    }
   ],
   "source": []
  },
  {
   "cell_type": "markdown",
   "metadata": {
    "id": "LDiFjfv5TPgj"
   },
   "source": [
    "### 05) WAP to remove a word from text file."
   ]
  },
  {
   "cell_type": "code",
   "execution_count": 5,
   "metadata": {
    "id": "IeL9KPTLTPgk",
    "outputId": "961c121c-c3ac-4fa9-d599-23374dac4292"
   },
   "outputs": [
    {
     "name": "stdin",
     "output_type": "stream",
     "text": [
      "Enter word to remove: donor\n"
     ]
    },
    {
     "ename": "TypeError",
     "evalue": "'str' object is not callable",
     "output_type": "error",
     "traceback": [
      "\u001b[1;31m---------------------------------------------------------------------------\u001b[0m",
      "\u001b[1;31mTypeError\u001b[0m                                 Traceback (most recent call last)",
      "Cell \u001b[1;32mIn[5], line 8\u001b[0m\n\u001b[0;32m      6\u001b[0m             list1\u001b[38;5;241m.\u001b[39mappend(word)\n\u001b[0;32m      7\u001b[0m list1\u001b[38;5;241m.\u001b[39mremove(word)\n\u001b[1;32m----> 8\u001b[0m list1\u001b[38;5;241m=\u001b[39m\u001b[38;5;28;43mlist\u001b[39;49m\u001b[43m(\u001b[49m\u001b[38;5;28;43mfilter\u001b[39;49m\u001b[43m(\u001b[49m\u001b[43m(\u001b[49m\u001b[43mwords\u001b[49m\u001b[43m)\u001b[49m\u001b[43m,\u001b[49m\u001b[43mlist1\u001b[49m\u001b[43m)\u001b[49m\u001b[43m)\u001b[49m\n\u001b[0;32m      9\u001b[0m \u001b[38;5;28mprint\u001b[39m(list1)\n",
      "\u001b[1;31mTypeError\u001b[0m: 'str' object is not callable"
     ]
    }
   ],
   "source": [
    "# words=input(\"Enter word to remove:\")\n",
    "# list1 = []\n",
    "# with open(\"abc.txt\", \"r\") as abc:\n",
    "#     for line in abc.readlines():\n",
    "#         for word in line.split(\" \"):\n",
    "#             list1.append(word)\n",
    "# list1.remove(words)\n",
    "# list1=list(filter((words),list1))\n",
    "# print(list1)"
   ]
  }
 ],
 "metadata": {
  "colab": {
   "provenance": []
  },
  "kernelspec": {
   "display_name": "Python 3 (ipykernel)",
   "language": "python",
   "name": "python3"
  },
  "language_info": {
   "codemirror_mode": {
    "name": "ipython",
    "version": 3
   },
   "file_extension": ".py",
   "mimetype": "text/x-python",
   "name": "python",
   "nbconvert_exporter": "python",
   "pygments_lexer": "ipython3",
   "version": "3.12.1"
  },
  "vscode": {
   "interpreter": {
    "hash": "5238573367df39f7286bb46f9ff5f08f63a01a80960060ce41e3c79b190280fa"
   }
  }
 },
 "nbformat": 4,
 "nbformat_minor": 4
}
