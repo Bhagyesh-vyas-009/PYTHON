{
 "cells": [
  {
   "cell_type": "markdown",
   "metadata": {
    "id": "L2n4e3NKacEy"
   },
   "source": [
    "<a href='https://www.darshan.ac.in/'> <img src='https://www.darshan.ac.in/Content/media/DU_Logo.svg' width=\"250\" height=\"300\"/></a>\n",
    "<pre>\n",
    "<center><b><h1>Python Programming - 2101CS405</b></center>\n",
    "<center><b><h1>Lab - 6</b></center>    \n",
    "<pre>"
   ]
  },
  {
   "cell_type": "markdown",
   "metadata": {},
   "source": [
    "# Patil Krunal\n",
    "# 23010101639\n",
    "# 13-2-2024"
   ]
  },
  {
   "cell_type": "markdown",
   "metadata": {
    "id": "IEuvkJjAacE0"
   },
   "source": [
    "# Tuples, dictionary, set"
   ]
  },
  {
   "cell_type": "code",
   "execution_count": 3,
   "metadata": {
    "id": "8By5u7WQg1Tg"
   },
   "outputs": [
    {
     "name": "stdout",
     "output_type": "stream",
     "text": [
      "Enter Key : 2\n",
      "Enter Value : hi\n",
      "Enter Key : 3\n",
      "Enter Value : bye\n",
      "{'2': 'hi', '3': 'bye'}\n"
     ]
    }
   ],
   "source": [
    "# cretae custom dictionary\n",
    "my_dict = {}\n",
    "n = 2\n",
    "for i in range(n):\n",
    "    a = input(\"Enter Key : \")\n",
    "    my_dict[a] = input(\"Enter Value : \")\n",
    "print(my_dict)"
   ]
  },
  {
   "cell_type": "code",
   "execution_count": 1,
   "metadata": {},
   "outputs": [
    {
     "name": "stdout",
     "output_type": "stream",
     "text": [
      "Key :  3  Value :  x\n",
      "Key :  5  Value :  a\n",
      "Key :  1  Value :  z\n",
      "Key :  4  Value :  b\n",
      "Key :  2  Value :  y\n"
     ]
    }
   ],
   "source": [
    "# looping through dictionary\n",
    "my_dict = {3: 'x', 5: 'a', 1: 'z', 4: 'b', 2: 'y'}\n",
    "for i in my_dict:\n",
    "    print(\"Key : \", i , \" Value : \", my_dict[i] )"
   ]
  },
  {
   "cell_type": "code",
   "execution_count": 9,
   "metadata": {},
   "outputs": [
    {
     "name": "stdout",
     "output_type": "stream",
     "text": [
      "Found val at key :  4\n",
      "Val Not Found\n"
     ]
    }
   ],
   "source": [
    "# finding a value in dictionary\n",
    "my_dict = {3: 'x', 5: 'a', 1: 'z', 4: 'b', 2: 'y'}\n",
    "\n",
    "def find_val(find_val):\n",
    "    global my_dict\n",
    "    for i in my_dict:\n",
    "        if(my_dict[i] == find_val):\n",
    "            print(\"Found val at key : \", i)\n",
    "            break\n",
    "    else:\n",
    "        print(\"Val Not Found\")\n",
    "        \n",
    "find_val('b')\n",
    "find_val('f')\n",
    "\n"
   ]
  },
  {
   "cell_type": "code",
   "execution_count": 10,
   "metadata": {},
   "outputs": [
    {
     "name": "stdout",
     "output_type": "stream",
     "text": [
      "Key Exists\n",
      "No key found\n"
     ]
    }
   ],
   "source": [
    "# check if a key is there or not in a dictionary\n",
    "my_dict = {3: 'x', 5: 'a', 1: 'z', 4: 'b', 2: 'y'}\n",
    "\n",
    "def find_key(find_key):\n",
    "    global my_dict\n",
    "    if find_key in my_dict:\n",
    "        print(\"Key Exists\")\n",
    "    else:\n",
    "        print(\"No key found\")\n",
    "\n",
    "find_key(2) \n",
    "find_key('2')"
   ]
  },
  {
   "cell_type": "markdown",
   "metadata": {
    "id": "DzI2g-45acE0"
   },
   "source": [
    "# A"
   ]
  },
  {
   "cell_type": "markdown",
   "metadata": {
    "id": "oRvJWdRFacE1"
   },
   "source": [
    "### 01) WAP to sort python dictionary by key or value."
   ]
  },
  {
   "cell_type": "code",
   "execution_count": 25,
   "metadata": {
    "colab": {
     "base_uri": "https://localhost:8080/"
    },
    "executionInfo": {
     "elapsed": 1160,
     "status": "ok",
     "timestamp": 1705931181381,
     "user": {
      "displayName": "Tej Patel",
      "userId": "04032777318747107215"
     },
     "user_tz": -330
    },
    "id": "P3j8SHGNacE1",
    "outputId": "98c1c4ab-335e-478d-fd83-2eaa067c80bf"
   },
   "outputs": [
    {
     "name": "stdout",
     "output_type": "stream",
     "text": [
      "Enter Key : 1\n",
      "Enter Value : a\n",
      "Enter Key : 4\n",
      "Enter Value : d\n",
      "Enter Key : 3\n",
      "Enter Value : s\n",
      "Enter Key : 2\n",
      "Enter Value : f\n",
      "Enter Key : 5\n",
      "Enter Value : g\n",
      "{1: 'a', 2: 'f', 3: 's', 4: 'd', 5: 'g'}\n"
     ]
    }
   ],
   "source": [
    "d={}\n",
    "for i in range(5):\n",
    "    i=int(input(\"Enter Key : \"))\n",
    "    v=input(\"Enter Value : \")\n",
    "    d[i]=v\n",
    "    \n",
    "key=list(d.keys())\n",
    "key.sort()\n",
    "k_d={}\n",
    "for i in key:\n",
    "    k_d[i]=d[i]\n",
    "print(k_d)"
   ]
  },
  {
   "cell_type": "markdown",
   "metadata": {
    "id": "mMLPyMi5acE1"
   },
   "source": [
    "### 02) WAP to merge two dictionaries given by user."
   ]
  },
  {
   "cell_type": "code",
   "execution_count": 61,
   "metadata": {
    "colab": {
     "base_uri": "https://localhost:8080/"
    },
    "executionInfo": {
     "elapsed": 548,
     "status": "ok",
     "timestamp": 1705931268956,
     "user": {
      "displayName": "Tej Patel",
      "userId": "04032777318747107215"
     },
     "user_tz": -330
    },
    "id": "yeU1mhEmacE2",
    "outputId": "b63bbd22-868d-43e9-de42-a18b4a6ab6c9"
   },
   "outputs": [
    {
     "name": "stdout",
     "output_type": "stream",
     "text": [
      "Enter Key : 1\n",
      "Enter Value : 2\n",
      "Enter Key : 3\n",
      "Enter Value : 4\n",
      "Enter Key : 5\n",
      "Enter Value : 6\n",
      "Enter Key : 7\n",
      "Enter Value : 8\n",
      "{1: '2', 3: '4', 5: '6', 7: '8'}\n"
     ]
    }
   ],
   "source": [
    "d1={}\n",
    "for i in range(2):\n",
    "    i=int(input(\"Enter Key : \"))\n",
    "    v=input(\"Enter Value : \")\n",
    "    d1[i]=v\n",
    "    \n",
    "d2={}\n",
    "for i in range(2):\n",
    "    i=int(input(\"Enter Key : \"))\n",
    "    v=input(\"Enter Value : \")\n",
    "    d2[i]=v    \n",
    "    \n",
    "d3=(d1|d2)\n",
    "print(d3)"
   ]
  },
  {
   "cell_type": "markdown",
   "metadata": {
    "id": "5AImqCgGacE2"
   },
   "source": [
    "### 03) WAP to find tuples that have all elements divisible by K from a list of tuples."
   ]
  },
  {
   "cell_type": "code",
   "execution_count": 35,
   "metadata": {
    "colab": {
     "base_uri": "https://localhost:8080/"
    },
    "executionInfo": {
     "elapsed": 421,
     "status": "ok",
     "timestamp": 1705931599896,
     "user": {
      "displayName": "Tej Patel",
      "userId": "04032777318747107215"
     },
     "user_tz": -330
    },
    "id": "HHotF0v_acE2",
    "outputId": "5c4a2c74-8792-45de-c87c-0d6f6d3f7e3c"
   },
   "outputs": [
    {
     "name": "stdout",
     "output_type": "stream",
     "text": [
      "Enter Number : 1\n",
      "Enter Number : 2\n",
      "Enter Number : 3\n",
      "Enter Number : 4\n",
      "Enter Number : 5\n",
      "Enter Number : 6\n",
      "Enter Number : 7\n",
      "Enter Number : 8\n",
      "Enter Number : 9\n",
      "Enter Number : 10\n",
      "Enter divider : 1\n",
      "[(1, 2), (3, 4), (5, 6), (7, 8), (9, 10)]\n"
     ]
    }
   ],
   "source": [
    "List=[]\n",
    "temp=[]\n",
    "for i in range(5):\n",
    "    for j in range(2):\n",
    "        temp.append(int(input(\"Enter Number : \")))\n",
    "    List.append(tuple(temp))\n",
    "    temp.clear()\n",
    "new_list=[]\n",
    "k=int(input(\"Enter divider : \"))\n",
    "flag=True\n",
    "for i in List:\n",
    "    for j in i:\n",
    "        if j%k!=0:\n",
    "            flag=False\n",
    "    if(flag):\n",
    "        new_list.append(i)\n",
    "    flag=True\n",
    "    \n",
    "print(new_list)"
   ]
  },
  {
   "cell_type": "markdown",
   "metadata": {
    "id": "kNGjSwE3acE2"
   },
   "source": [
    "### 04) WAP to find Tuples with positive elements in List of tuples."
   ]
  },
  {
   "cell_type": "code",
   "execution_count": 36,
   "metadata": {
    "colab": {
     "base_uri": "https://localhost:8080/"
    },
    "executionInfo": {
     "elapsed": 432,
     "status": "ok",
     "timestamp": 1705931660495,
     "user": {
      "displayName": "Tej Patel",
      "userId": "04032777318747107215"
     },
     "user_tz": -330
    },
    "id": "libV1_wkacE2",
    "outputId": "1afdd8d2-e040-4bd9-b263-e664007c5fd1"
   },
   "outputs": [
    {
     "name": "stdout",
     "output_type": "stream",
     "text": [
      "Enter Number : 1\n",
      "Enter Number : 2\n",
      "Enter Number : -1\n",
      "Enter Number : 3\n",
      "Enter Number : -1\n",
      "Enter Number : -1\n",
      "Enter Number : 1\n",
      "Enter Number : 5\n",
      "Enter Number : 6\n",
      "Enter Number : 7\n",
      "[(1, 2), (1, 5), (6, 7)]\n"
     ]
    }
   ],
   "source": [
    "List=[]\n",
    "temp=[]\n",
    "for i in range(5):\n",
    "    for j in range(2):\n",
    "        temp.append(int(input(\"Enter Number : \")))\n",
    "    List.append(tuple(temp))\n",
    "    temp.clear()\n",
    "    \n",
    "new_list=[]\n",
    "flag=True\n",
    "for i in List:\n",
    "    for j in i:\n",
    "        if j<0:\n",
    "            flag=False\n",
    "    if(flag):\n",
    "        new_list.append(i)\n",
    "    flag=True\n",
    "    \n",
    "print(new_list)"
   ]
  },
  {
   "cell_type": "markdown",
   "metadata": {
    "id": "J2xzeHfSacE3"
   },
   "source": [
    "### 05) WAP which perform union of two sets."
   ]
  },
  {
   "cell_type": "code",
   "execution_count": 40,
   "metadata": {
    "colab": {
     "base_uri": "https://localhost:8080/"
    },
    "executionInfo": {
     "elapsed": 533,
     "status": "ok",
     "timestamp": 1705931729355,
     "user": {
      "displayName": "Tej Patel",
      "userId": "04032777318747107215"
     },
     "user_tz": -330
    },
    "id": "3y79pYxkacE3",
    "outputId": "7f2dc816-d3b8-447b-88fc-a124b6eaafe9"
   },
   "outputs": [
    {
     "name": "stdout",
     "output_type": "stream",
     "text": [
      "1\n",
      "2\n",
      "3\n",
      "3\n",
      "4\n",
      "5\n"
     ]
    },
    {
     "data": {
      "text/plain": [
       "{1, 2, 3}"
      ]
     },
     "execution_count": 40,
     "metadata": {},
     "output_type": "execute_result"
    }
   ],
   "source": [
    "set1=set()\n",
    "set2=set()\n",
    "\n",
    "for i in range(3):\n",
    "    set1.add(int(input()))\n",
    "\n",
    "for i in range(3):\n",
    "    set2.add(int(input()))\n",
    "\n",
    "set1.union(set2)\n",
    "print(set1)"
   ]
  },
  {
   "cell_type": "markdown",
   "metadata": {
    "id": "mrhAYJAKacE3"
   },
   "source": [
    "# B"
   ]
  },
  {
   "cell_type": "markdown",
   "metadata": {
    "id": "tF2YrUZ0acE3"
   },
   "source": [
    "### 01) WAP to convert binary tuple into integer."
   ]
  },
  {
   "cell_type": "markdown",
   "metadata": {
    "id": "5dyAy0pad03M"
   },
   "source": [
    "<img src=\"https://media.geeksforgeeks.org/wp-content/uploads/20211220193034/binary2.PNG\">"
   ]
  },
  {
   "cell_type": "code",
   "execution_count": 44,
   "metadata": {
    "colab": {
     "base_uri": "https://localhost:8080/"
    },
    "executionInfo": {
     "elapsed": 6,
     "status": "ok",
     "timestamp": 1705931823761,
     "user": {
      "displayName": "Tej Patel",
      "userId": "04032777318747107215"
     },
     "user_tz": -330
    },
    "id": "kpMB4HC8acE3",
    "outputId": "a61a5d36-94eb-4378-fc0d-ae158b49009b"
   },
   "outputs": [
    {
     "name": "stdout",
     "output_type": "stream",
     "text": [
      "Enter Number : 1\n",
      "Enter Number : 0\n",
      "Enter Number : 1\n",
      "Enter Number : 0\n",
      "Enter Number : 1\n",
      "Enter Number : 0\n",
      "42\n"
     ]
    }
   ],
   "source": [
    " Tuple=()\n",
    "temp=[]\n",
    "for j in range(6):\n",
    "        temp.append(int(input(\"Enter Number : \")))\n",
    "Tuple=tuple(temp)\n",
    "\n",
    "sum=0\n",
    "index=0\n",
    "for i in Tuple[::-1]:\n",
    "    sum+=2**index*i\n",
    "    index=index+1\n",
    "    \n",
    "print(sum)"
   ]
  },
  {
   "cell_type": "markdown",
   "metadata": {
    "id": "T36eCyrOacE4"
   },
   "source": [
    "### 02) WAP to count frequency in list by dictionary."
   ]
  },
  {
   "cell_type": "code",
   "execution_count": 52,
   "metadata": {
    "colab": {
     "base_uri": "https://localhost:8080/"
    },
    "executionInfo": {
     "elapsed": 425,
     "status": "ok",
     "timestamp": 1705932030300,
     "user": {
      "displayName": "Tej Patel",
      "userId": "04032777318747107215"
     },
     "user_tz": -330
    },
    "id": "zMlxOGmyacE4",
    "outputId": "4b1e2d8a-167f-483c-f2c5-0d79049fb37d"
   },
   "outputs": [
    {
     "name": "stdout",
     "output_type": "stream",
     "text": [
      "1\n",
      "1\n",
      "2\n",
      "2\n",
      "3\n",
      "{1: 2, 2: 2, 3: 1}\n"
     ]
    }
   ],
   "source": [
    "List=[]\n",
    "Dict=dict()\n",
    "\n",
    "for i in range(5):\n",
    "    List.append(int(input()))  \n",
    "for i in List: \n",
    "    c=List.count(i)\n",
    "    Dict[i]=c\n",
    "print(Dict)\n"
   ]
  },
  {
   "cell_type": "markdown",
   "metadata": {
    "id": "8ppOXcImacE4"
   },
   "source": [
    "### 03) WAP to remove all the duplicate words from the list using dictionary."
   ]
  },
  {
   "cell_type": "code",
   "execution_count": 57,
   "metadata": {
    "colab": {
     "base_uri": "https://localhost:8080/"
    },
    "executionInfo": {
     "elapsed": 432,
     "status": "ok",
     "timestamp": 1705932434055,
     "user": {
      "displayName": "Tej Patel",
      "userId": "04032777318747107215"
     },
     "user_tz": -330
    },
    "id": "3gQJNASGacE4",
    "outputId": "89afc49a-f780-4fd3-bf5c-b79941a4eb7b"
   },
   "outputs": [
    {
     "name": "stdout",
     "output_type": "stream",
     "text": [
      "red\n",
      "blue\n",
      "orange\n",
      "yellow\n",
      "green\n",
      "red\n",
      "blue\n",
      "orange\n",
      "yellow\n",
      "green\n",
      "['yellow', 'blue', 'orange', 'red', 'green']\n",
      "{'red': 2, 'blue': 2, 'orange': 2, 'yellow': 2, 'green': 2}\n"
     ]
    }
   ],
   "source": [
    " List=[]\n",
    "Dict=dict()\n",
    "\n",
    "for i in range(10):\n",
    "    List.append((input()))  \n",
    "for i in List: \n",
    "    c=List.count(i)\n",
    "    Dict[i]=c\n",
    "List=list(set(List))\n",
    "\n",
    "print(List)\n",
    "print(Dict)"
   ]
  },
  {
   "cell_type": "code",
   "execution_count": null,
   "metadata": {},
   "outputs": [],
   "source": []
  }
 ],
 "metadata": {
  "colab": {
   "provenance": []
  },
  "kernelspec": {
   "display_name": "Python 3 (ipykernel)",
   "language": "python",
   "name": "python3"
  },
  "language_info": {
   "codemirror_mode": {
    "name": "ipython",
    "version": 3
   },
   "file_extension": ".py",
   "mimetype": "text/x-python",
   "name": "python",
   "nbconvert_exporter": "python",
   "pygments_lexer": "ipython3",
   "version": "3.9.13"
  }
 },
 "nbformat": 4,
 "nbformat_minor": 1
}
