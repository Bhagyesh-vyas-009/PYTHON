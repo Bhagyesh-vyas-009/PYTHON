{
 "cells": [
  {
   "cell_type": "markdown",
   "metadata": {},
   "source": [
    "<a href='https://www.darshan.ac.in/'> <img src='https://www.darshan.ac.in/Content/media/DU_Logo.svg' width=\"250\" height=\"300\"/></a>\n",
    "<pre>\n",
    "<center><b><h1>Python Programming - 2101CS405</b></center>\n",
    "<center><b><h1>Lab - 1</b></center>    \n",
    "<pre>"
   ]
  },
  {
   "cell_type": "markdown",
   "metadata": {},
   "source": [
    "### 01) WAP to print “Hello World”"
   ]
  },
  {
   "cell_type": "code",
   "execution_count": 1,
   "metadata": {},
   "outputs": [
    {
     "name": "stdout",
     "output_type": "stream",
     "text": [
      "Hello World\n"
     ]
    }
   ],
   "source": [
    "print (\"Hello World\")\n",
    "\n"
   ]
  },
  {
   "cell_type": "markdown",
   "metadata": {},
   "source": [
    "### 02) WAP to print your address i) using single print ii) using multiple print"
   ]
  },
  {
   "cell_type": "code",
   "execution_count": 8,
   "metadata": {},
   "outputs": [
    {
     "name": "stdout",
     "output_type": "stream",
     "text": [
      "Prgteshwar Krupa, Gandhinagar street no-3,Gandhigram,Rajkot-360007\n"
     ]
    }
   ],
   "source": [
    "print (\"Prgteshwar Krupa, Gandhinagar street no-3,Gandhigram,Rajkot-360007\")\n",
    "\n"
   ]
  },
  {
   "cell_type": "code",
   "execution_count": 7,
   "metadata": {},
   "outputs": [
    {
     "name": "stdout",
     "output_type": "stream",
     "text": [
      "Prgteshwar Krupa\n",
      "Gandhinagar street no-3\n",
      "Gandhigram\n",
      "Rajkot-360007\n"
     ]
    }
   ],
   "source": [
    "print (\"Prgteshwar Krupa\")\n",
    "print (\"Gandhinagar street no-3\")\n",
    "print (\"Gandhigram\")\n",
    "print(\"Rajkot-360007\")"
   ]
  },
  {
   "cell_type": "markdown",
   "metadata": {},
   "source": [
    "### 03) WAP to print addition of 2 numbers (without input function)"
   ]
  },
  {
   "cell_type": "code",
   "execution_count": 5,
   "metadata": {},
   "outputs": [
    {
     "name": "stdout",
     "output_type": "stream",
     "text": [
      "10.5\n"
     ]
    }
   ],
   "source": [
    "a=10\n",
    "b=0.5\n",
    "\n",
    "print((a+b))"
   ]
  },
  {
   "cell_type": "markdown",
   "metadata": {},
   "source": [
    "### 04) WAP to calculate and print average of 2 numbers (without input function)"
   ]
  },
  {
   "cell_type": "code",
   "execution_count": 6,
   "metadata": {},
   "outputs": [
    {
     "name": "stdout",
     "output_type": "stream",
     "text": [
      "5.25\n"
     ]
    }
   ],
   "source": [
    "a=10\n",
    "b=0.5\n",
    "\n",
    "print((a+b)/2)"
   ]
  },
  {
   "cell_type": "markdown",
   "metadata": {},
   "source": [
    "### 05) WAP to add two number entered by user."
   ]
  },
  {
   "cell_type": "code",
   "execution_count": 1,
   "metadata": {},
   "outputs": [
    {
     "name": "stdin",
     "output_type": "stream",
     "text": [
      "Enter No-1 :  10\n",
      "Enter No-2 :  0.5\n"
     ]
    },
    {
     "name": "stdout",
     "output_type": "stream",
     "text": [
      "10.5\n"
     ]
    }
   ],
   "source": [
    "a=int(input(\"Enter No-1 : \"))\n",
    "b=float(input(\"Enter No-2 : \"))\n",
    "\n",
    "print ((a+b))"
   ]
  },
  {
   "cell_type": "code",
   "execution_count": null,
   "metadata": {},
   "outputs": [],
   "source": []
  },
  {
   "cell_type": "markdown",
   "metadata": {},
   "source": [
    "### 06) WAP to calculate simple interest."
   ]
  },
  {
   "cell_type": "code",
   "execution_count": 16,
   "metadata": {},
   "outputs": [
    {
     "name": "stdout",
     "output_type": "stream",
     "text": [
      "Enter Principle : 1000\n",
      "Enter Rate of Interest : 10\n",
      "Enter Duration : 1\n",
      "100.0\n"
     ]
    }
   ],
   "source": [
    "p=int(input(\"Enter Principle : \"))\n",
    "r=float(input(\"Enter Rate of Interest : \"))\n",
    "n=float(input(\"Enter Duration : \"))\n",
    "\n",
    "i=p*r*n/100\n",
    "\n",
    "print(i)"
   ]
  },
  {
   "cell_type": "markdown",
   "metadata": {},
   "source": [
    "### 07) WAP Calculate Area and Circumfrence of Circle"
   ]
  },
  {
   "cell_type": "code",
   "execution_count": 15,
   "metadata": {},
   "outputs": [
    {
     "name": "stdout",
     "output_type": "stream",
     "text": [
      "Enter Radius : 5\n",
      "Area of Circle =  78.5\n",
      "Circumfrence of Circle =  31.400000000000002\n"
     ]
    }
   ],
   "source": [
    "r=float(input(\"Enter Radius : \"))\n",
    "\n",
    "pi=3.14\n",
    "\n",
    "area=pi*r*r\n",
    "\n",
    "circum=2*pi*r\n",
    "\n",
    "print(\"Area of Circle = \",area)\n",
    "print(\"Circumfrence of Circle = \",circum)"
   ]
  },
  {
   "cell_type": "markdown",
   "metadata": {},
   "source": [
    "### 08) WAP to print Multiplication table of given number without using loops."
   ]
  },
  {
   "cell_type": "code",
   "execution_count": 18,
   "metadata": {},
   "outputs": [
    {
     "name": "stdout",
     "output_type": "stream",
     "text": [
      "Enter Number : 10\n",
      "10\n",
      "20\n",
      "30\n",
      "40\n",
      "50\n",
      "60\n",
      "70\n",
      "80\n",
      "90\n",
      "100\n"
     ]
    }
   ],
   "source": [
    "n=int(input(\"Enter Number : \"))\n",
    "\n",
    "print(n*1)\n",
    "print(n*2)\n",
    "print(n*3)\n",
    "print(n*4)\n",
    "print(n*5)\n",
    "print(n*6)\n",
    "print(n*7)\n",
    "print(n*8)\n",
    "print(n*9)\n",
    "print(n*10)"
   ]
  },
  {
   "cell_type": "markdown",
   "metadata": {},
   "source": [
    "### 09) WAP to calculate Area of Triangle (hint: a = h * b * 0.5)"
   ]
  },
  {
   "cell_type": "code",
   "execution_count": 20,
   "metadata": {},
   "outputs": [
    {
     "name": "stdout",
     "output_type": "stream",
     "text": [
      "Enter Height : 10\n",
      "Enter Base : 2\n",
      "10.0\n"
     ]
    }
   ],
   "source": [
    "h=int(input(\"Enter Height : \"))\n",
    "b=int(input(\"Enter Base : \"))\n",
    "\n",
    "area=1/2*h*b\n",
    "\n",
    "# area=h*b*0.5\n",
    "\n",
    "print(area)"
   ]
  },
  {
   "cell_type": "markdown",
   "metadata": {},
   "source": [
    "### 10) WAP to convert degree to Fahrenheit and vice versa."
   ]
  },
  {
   "cell_type": "code",
   "execution_count": 5,
   "metadata": {},
   "outputs": [
    {
     "name": "stdin",
     "output_type": "stream",
     "text": [
      "Enter Fahrenhit :  50\n",
      "Enter Calcius :  50\n"
     ]
    },
    {
     "name": "stdout",
     "output_type": "stream",
     "text": [
      "Fahrenhit in celcius :  32.22222222222222\n",
      "Celcuis in Fahrenhit :  122.0\n"
     ]
    }
   ],
   "source": [
    "f=int(input(\"Enter Fahrenhit : \"))\n",
    "c=int(input(\"Enter Calcius : \"))\n",
    "\n",
    "c1=f-32*(5/9)\n",
    "\n",
    "f1=c*(9/5)+32\n",
    "\n",
    "print(\"Fahrenhit in celcius : \",c1)\n",
    "print(\"Celcuis in Fahrenhit : \",f1)"
   ]
  },
  {
   "cell_type": "markdown",
   "metadata": {},
   "source": [
    "### 11) WAP to calculate total marks and Percentage."
   ]
  },
  {
   "cell_type": "code",
   "execution_count": null,
   "metadata": {},
   "outputs": [],
   "source": []
  },
  {
   "cell_type": "code",
   "execution_count": 23,
   "metadata": {},
   "outputs": [
    {
     "name": "stdout",
     "output_type": "stream",
     "text": [
      "Enter Mark-1 : 10\n",
      "Enter Mark-2 : 2\n",
      "Enter Mark-3 : 3\n",
      "Enter Mark-4 : 4\n",
      "Enter Mark-5 : 5\n",
      "Total Marks =  24\n",
      "Percentage :  4.8\n"
     ]
    }
   ],
   "source": [
    "m1=int(input(\"Enter Mark-1 : \"))\n",
    "m2=int(input(\"Enter Mark-2 : \"))\n",
    "m3=int(input(\"Enter Mark-3 : \"))\n",
    "m4=int(input(\"Enter Mark-4 : \"))\n",
    "m5=int(input(\"Enter Mark-5 : \"))\n",
    "\n",
    "t=m1+m2+m3+m4+m5\n",
    "\n",
    "avg=t/5\n",
    "\n",
    "print(\"Total Marks = \",t)\n",
    "print(\"Percentage : \",avg)\n"
   ]
  },
  {
   "cell_type": "markdown",
   "metadata": {},
   "source": [
    "### 12) Compute distance between two points taking input from the user (Pythagorean Theorem)."
   ]
  },
  {
   "cell_type": "code",
   "execution_count": 4,
   "metadata": {},
   "outputs": [
    {
     "name": "stdin",
     "output_type": "stream",
     "text": [
      "Enter Point x0 :  10\n",
      "Enter Point x1 :  2\n",
      "Enter Point y0 :  3\n",
      "Enter Point y1 :  4\n"
     ]
    },
    {
     "name": "stdout",
     "output_type": "stream",
     "text": [
      "8.06225774829855\n"
     ]
    }
   ],
   "source": [
    "x0=int(input(\"Enter Point x0 : \"))\n",
    "x1=int(input(\"Enter Point x1 : \"))\n",
    "y0=int(input(\"Enter Point y0 : \"))\n",
    "y1=int(input(\"Enter Point y1 : \"))\n",
    "\n",
    "d=(x1-x0)**2+(y1-y0)**2\n",
    "\n",
    "dist=d**(1/2)\n",
    "\n",
    "print(dist)"
   ]
  },
  {
   "cell_type": "markdown",
   "metadata": {},
   "source": [
    "### 13) WAP to convert seconds into hours, minutes & seconds and print in HH:MM:SS\n",
    "[e.g. 10000 seconds mean 2:46:40 (2 Hours, 46 Minutes, 40Seconds)]"
   ]
  },
  {
   "cell_type": "code",
   "execution_count": 45,
   "metadata": {},
   "outputs": [
    {
     "name": "stdout",
     "output_type": "stream",
     "text": [
      "Enter Second : 10000\n",
      "2 : 46 : 40\n",
      "4.0\n"
     ]
    }
   ],
   "source": [
    "s=int(input(\"Enter Second : \"))\n",
    "\n",
    "m1=s/60\n",
    "\n",
    "m=int((s/60)%60)\n",
    "h=int(m1/60)\n",
    "s1=int(s%60)\n",
    "\n",
    "\n",
    "\n",
    "print(h,\":\",m,\":\",s1)\n",
    "\n",
    "# print(16**(1/2))"
   ]
  },
  {
   "cell_type": "markdown",
   "metadata": {},
   "source": [
    "### 14) WAP to enter distance into kilometer and convert it into meter, feet,inches, and centimeter"
   ]
  },
  {
   "cell_type": "code",
   "execution_count": 7,
   "metadata": {},
   "outputs": [
    {
     "name": "stdin",
     "output_type": "stream",
     "text": [
      "Enter Distance in Kilometer :  1\n"
     ]
    },
    {
     "name": "stdout",
     "output_type": "stream",
     "text": [
      "1000 meter\n",
      "3393.7 Feet\n",
      "282.80833333333334 Inch\n",
      "100000 Centimeter\n"
     ]
    }
   ],
   "source": [
    "km=int(input(\"Enter Distance in Kilometer : \"))\n",
    "\n",
    "meter=int(km*1000)\n",
    "\n",
    "feet=meter*3.39370\n",
    "\n",
    "inch=feet/12\n",
    "\n",
    "centimeter=meter*100\n",
    "\n",
    "print(meter,\"meter\")\n",
    "print(feet,\"Feet\")\n",
    "print(inch,\"Inch\")\n",
    "print(centimeter,\"Centimeter\")"
   ]
  },
  {
   "cell_type": "code",
   "execution_count": null,
   "metadata": {},
   "outputs": [],
   "source": []
  }
 ],
 "metadata": {
  "kernelspec": {
   "display_name": "Python 3 (ipykernel)",
   "language": "python",
   "name": "python3"
  },
  "language_info": {
   "codemirror_mode": {
    "name": "ipython",
    "version": 3
   },
   "file_extension": ".py",
   "mimetype": "text/x-python",
   "name": "python",
   "nbconvert_exporter": "python",
   "pygments_lexer": "ipython3",
   "version": "3.12.1"
  },
  "vscode": {
   "interpreter": {
    "hash": "31f2aee4e71d21fbe5cf8b01ff0e069b9275f58929596ceb00d14d90e3e16cd6"
   }
  }
 },
 "nbformat": 4,
 "nbformat_minor": 4
}
