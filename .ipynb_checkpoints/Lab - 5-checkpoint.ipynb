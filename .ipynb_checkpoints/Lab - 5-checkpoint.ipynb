{
 "cells": [
  {
   "cell_type": "markdown",
   "metadata": {},
   "source": [
    "\n",
    "<a href='https://www.darshan.ac.in/'> <img src='https://www.darshan.ac.in/Content/media/DU_Logo.svg' width=\"250\" height=\"300\"/></a>\n",
    "<pre>\n",
    "<center><b><h1>Python Programming - 2101CS405</b></center>\n",
    "<center><b><h1>Lab - 5</b></center>    \n",
    "<pre>"
   ]
  },
  {
   "cell_type": "markdown",
   "metadata": {},
   "source": [
    "### Krunal Patil\n",
    "### 23010101639\n",
    "### 30-01-2024"
   ]
  },
  {
   "cell_type": "markdown",
   "metadata": {},
   "source": [
    "# list"
   ]
  },
  {
   "cell_type": "markdown",
   "metadata": {},
   "source": [
    "### 01) WAP to find sum of all the elements in List."
   ]
  },
  {
   "cell_type": "code",
   "execution_count": 6,
   "metadata": {},
   "outputs": [
    {
     "name": "stdout",
     "output_type": "stream",
     "text": [
      "Enter list Elements :\n",
      "1\n",
      "1\n",
      "1\n",
      "1\n",
      "1\n",
      "1\n",
      "1\n",
      "1\n",
      "1\n",
      "1\n",
      "1\n",
      "Sum =  11\n"
     ]
    }
   ],
   "source": [
    "list=[]\n",
    "val=0\n",
    "print(\"Enter list Elements :\")\n",
    "for i in range(10):\n",
    "    val=int(input())\n",
    "    list.append(val)\n",
    "sum=0\n",
    "for i in list:\n",
    "    sum+=i\n",
    "\n",
    "print(\"Sum = \",sum)\n"
   ]
  },
  {
   "cell_type": "markdown",
   "metadata": {},
   "source": [
    "### 02) WAP to find largest element in a List."
   ]
  },
  {
   "cell_type": "code",
   "execution_count": 7,
   "metadata": {},
   "outputs": [
    {
     "name": "stdout",
     "output_type": "stream",
     "text": [
      "Enter list Elements :\n",
      "1\n",
      "2\n",
      "9\n",
      "8\n",
      "7\n",
      "5\n",
      "6\n",
      "4\n",
      "3\n",
      "0\n",
      "Largest =  9\n"
     ]
    }
   ],
   "source": [
    "list=[]\n",
    "val=0\n",
    "print(\"Enter list Elements :\")\n",
    "for i in range(10):\n",
    "    val=int(input())\n",
    "    list.append(val)\n",
    "largest=list[0]\n",
    "for i in list:\n",
    "    if i>largest:\n",
    "        largest=i\n",
    "print(\"Largest = \",largest)"
   ]
  },
  {
   "cell_type": "markdown",
   "metadata": {},
   "source": [
    "### 03) WAP to split the List into two and append the first part to the end."
   ]
  },
  {
   "cell_type": "code",
   "execution_count": 16,
   "metadata": {},
   "outputs": [
    {
     "name": "stdout",
     "output_type": "stream",
     "text": [
      "Enter list Elements :\n",
      "1\n",
      "2\n",
      "3\n",
      "4\n",
      "5\n",
      "Splite By : 3\n"
     ]
    },
    {
     "ename": "TypeError",
     "evalue": "'builtin_function_or_method' object cannot be interpreted as an integer",
     "output_type": "error",
     "traceback": [
      "\u001b[0;31m---------------------------------------------------------------------------\u001b[0m",
      "\u001b[0;31mTypeError\u001b[0m                                 Traceback (most recent call last)",
      "\u001b[0;32m/tmp/ipykernel_2553/1207278547.py\u001b[0m in \u001b[0;36m<module>\u001b[0;34m\u001b[0m\n\u001b[1;32m     13\u001b[0m     \u001b[0mlist1\u001b[0m\u001b[0;34m.\u001b[0m\u001b[0mappend\u001b[0m\u001b[0;34m(\u001b[0m\u001b[0mlist\u001b[0m\u001b[0;34m[\u001b[0m\u001b[0mi\u001b[0m\u001b[0;34m]\u001b[0m\u001b[0;34m)\u001b[0m\u001b[0;34m\u001b[0m\u001b[0;34m\u001b[0m\u001b[0m\n\u001b[1;32m     14\u001b[0m \u001b[0;34m\u001b[0m\u001b[0m\n\u001b[0;32m---> 15\u001b[0;31m \u001b[0;32mfor\u001b[0m \u001b[0mi\u001b[0m \u001b[0;32min\u001b[0m \u001b[0mrange\u001b[0m\u001b[0;34m(\u001b[0m\u001b[0mi\u001b[0m\u001b[0;34m,\u001b[0m\u001b[0mlist\u001b[0m\u001b[0;34m.\u001b[0m\u001b[0mcount\u001b[0m\u001b[0;34m)\u001b[0m\u001b[0;34m:\u001b[0m\u001b[0;34m\u001b[0m\u001b[0;34m\u001b[0m\u001b[0m\n\u001b[0m\u001b[1;32m     16\u001b[0m     \u001b[0mlist1\u001b[0m\u001b[0;34m.\u001b[0m\u001b[0mappend\u001b[0m\u001b[0;34m(\u001b[0m\u001b[0mlist\u001b[0m\u001b[0;34m[\u001b[0m\u001b[0mi\u001b[0m\u001b[0;34m]\u001b[0m\u001b[0;34m)\u001b[0m\u001b[0;34m\u001b[0m\u001b[0;34m\u001b[0m\u001b[0m\n\u001b[1;32m     17\u001b[0m \u001b[0;34m\u001b[0m\u001b[0m\n",
      "\u001b[0;31mTypeError\u001b[0m: 'builtin_function_or_method' object cannot be interpreted as an integer"
     ]
    }
   ],
   "source": [
    "list=[]\n",
    "val=0\n",
    "print(\"Enter list Elements :\")\n",
    "for i in range(5):\n",
    "    val=int(input())\n",
    "    list.append(val)\n",
    "\n",
    "s=int(input(\"Splite By : \"))\n",
    "list1=[]\n",
    "list2=[]\n",
    "i=0\n",
    "for i in range((list.index(s))):\n",
    "    list1.append(list[i])\n",
    "    \n",
    "for i in range(i,list.count):\n",
    "    list1.append(list[i])\n",
    "\n",
    "list=list2,list1\n",
    "print(list)"
   ]
  },
  {
   "cell_type": "code",
   "execution_count": null,
   "metadata": {},
   "outputs": [],
   "source": []
  },
  {
   "cell_type": "markdown",
   "metadata": {},
   "source": [
    "### 04) WAP to interchange first and last elements in list entered by a user."
   ]
  },
  {
   "cell_type": "code",
   "execution_count": 17,
   "metadata": {},
   "outputs": [
    {
     "name": "stdout",
     "output_type": "stream",
     "text": [
      "Enter list Elements :\n",
      "1\n",
      "2\n",
      "3\n",
      "4\n",
      "5\n",
      "5\n"
     ]
    }
   ],
   "source": [
    "list=[]\n",
    "val=0\n",
    "print(\"Enter list Elements :\")\n",
    "for i in range(5):\n",
    "    val=int(input())\n",
    "    list.append(val)\n",
    "    \n",
    "x=list[0]\n",
    "list[0]=list[-1]\n",
    "list[-1]=x\n",
    "\n",
    "print(list)"
   ]
  },
  {
   "cell_type": "markdown",
   "metadata": {},
   "source": [
    "### 05) WAP to interchange the elements on two positions entered by a user."
   ]
  },
  {
   "cell_type": "code",
   "execution_count": 2,
   "metadata": {},
   "outputs": [
    {
     "name": "stdout",
     "output_type": "stream",
     "text": [
      "Enter list Elements :\n",
      "1\n",
      "2\n",
      "3\n",
      "4\n",
      "5\n",
      "Enter Index 1 \n",
      "2\n",
      "4\n",
      "[1, 2, 5, 4, 3]\n"
     ]
    }
   ],
   "source": [
    "list=[]\n",
    "val=0\n",
    "print(\"Enter list Elements :\")\n",
    "for i in range(5):\n",
    "    val=int(input())\n",
    "    list.append(val)\n",
    "    \n",
    "print(\"Enter position : \")\n",
    "i1=int(input())\n",
    "i2=int(input())\n",
    "\n",
    "x=list[i1]\n",
    "list[i1]=list[i2]\n",
    "list[i2]=x\n",
    "print(list)"
   ]
  },
  {
   "cell_type": "markdown",
   "metadata": {},
   "source": [
    "### 06) WAP to reverses the list entered by user."
   ]
  },
  {
   "cell_type": "code",
   "execution_count": 5,
   "metadata": {},
   "outputs": [
    {
     "name": "stdout",
     "output_type": "stream",
     "text": [
      "Enter list Elements :\n",
      "1\n",
      "2\n",
      "3\n",
      "4\n",
      "5\n",
      "[5, 4, 3, 2, 1]\n"
     ]
    }
   ],
   "source": [
    "list=[]\n",
    "val=0\n",
    "print(\"Enter list Elements :\")\n",
    "for i in range(5):\n",
    "    val=int(input())\n",
    "    list.append(val)\n",
    "    \n",
    "list.reverse()\n",
    "\n",
    "print(list)"
   ]
  },
  {
   "cell_type": "markdown",
   "metadata": {},
   "source": [
    "### 07) Python program to remove multiple elements from a list using list comprehension"
   ]
  },
  {
   "cell_type": "code",
   "execution_count": 13,
   "metadata": {},
   "outputs": [
    {
     "name": "stdout",
     "output_type": "stream",
     "text": [
      "Enter list Elements :\n",
      "1\n",
      "2\n",
      "3\n",
      "4\n",
      "5\n",
      "Enter Index of Element :1\n",
      "Enter Index of Element :2\n",
      "Enter Index of Element :-1\n",
      "[1, 4, 5]\n"
     ]
    }
   ],
   "source": [
    "list=[]\n",
    "val=0\n",
    "print(\"Enter list Elements :\")\n",
    "for i in range(5):\n",
    "    val=int(input())\n",
    "    list.append(val)\n",
    "\n",
    "list2=[]\n",
    "while True:\n",
    "    i=int(input(\"Enter Index of Element :\"))\n",
    "    if i>=0:\n",
    "        list2.append(list[i])\n",
    "    else: break\n",
    "        \n",
    "newlist=[i for i in list if i not in list2]\n",
    "print(newlist)"
   ]
  },
  {
   "cell_type": "markdown",
   "metadata": {},
   "source": [
    "### 08) Create a list from the specified start to end index of another list."
   ]
  },
  {
   "cell_type": "code",
   "execution_count": 16,
   "metadata": {},
   "outputs": [
    {
     "name": "stdout",
     "output_type": "stream",
     "text": [
      "Enter list Elements :\n",
      "1\n",
      "2\n",
      "3\n",
      "4\n",
      "5\n",
      "Enter Strat & end Index : \n",
      "1\n",
      "3\n",
      "[2, 3, 4]\n"
     ]
    }
   ],
   "source": [
    "list=[]\n",
    "val=0\n",
    "print(\"Enter list Elements :\")\n",
    "for i in range(5):\n",
    "    val=int(input())\n",
    "    list.append(val)\n",
    "\n",
    "\n",
    "print(\"Enter Strat & end Index : \")\n",
    "i=int(input())\n",
    "e=int(input())\n",
    "\n",
    "list2=[list[i] for i in range(i,e+1)]\n",
    "print(list2)"
   ]
  },
  {
   "cell_type": "markdown",
   "metadata": {},
   "source": [
    "### 09) Input comma separated elements, convert into list and print."
   ]
  },
  {
   "cell_type": "code",
   "execution_count": 17,
   "metadata": {},
   "outputs": [
    {
     "name": "stdout",
     "output_type": "stream",
     "text": [
      "Enter number comma separated :10,20,30,40,50\n",
      "['10', '20', '30', '40', '50']\n"
     ]
    }
   ],
   "source": [
    "\n",
    "str=input(\"Enter number comma separated :\")\n",
    "list = str.split(',')\n",
    "print(list)\n"
   ]
  },
  {
   "cell_type": "markdown",
   "metadata": {},
   "source": [
    "### 01) WAP to count Even and Odd numbers in a List."
   ]
  },
  {
   "cell_type": "code",
   "execution_count": 20,
   "metadata": {},
   "outputs": [
    {
     "name": "stdout",
     "output_type": "stream",
     "text": [
      "Enter list Elements :\n",
      "1\n",
      "2\n",
      "3\n",
      "4\n",
      "5\n",
      "even =  2  odd =  3\n"
     ]
    }
   ],
   "source": [
    "list=[]\n",
    "\n",
    "print(\"Enter list Elements :\")\n",
    "for i in range(5):\n",
    "    val=int(input())\n",
    "    list.append(val)\n",
    "even=[i for i in list if i%2==0 ]\n",
    "odd=[i for i in list if i%2!=0 ]\n",
    "print(\"even = \", len(even) ,\" odd = \",len(odd))"
   ]
  },
  {
   "cell_type": "markdown",
   "metadata": {},
   "source": [
    "### 02) Python program to find N largest and smallest elements from the list"
   ]
  },
  {
   "cell_type": "code",
   "execution_count": 28,
   "metadata": {},
   "outputs": [
    {
     "name": "stdout",
     "output_type": "stream",
     "text": [
      "Enter list Elements :\n",
      "1\n",
      "2\n",
      "3\n",
      "4\n",
      "5\n",
      "Enter number of largest elements you want : 2\n",
      "Enter number of smallest elements you want : 2\n",
      "[]\n"
     ]
    }
   ],
   "source": [
    "list=[]\n",
    "\n",
    "print(\"Enter list Elements :\")\n",
    "for i in range(5):\n",
    "    val=int(input())\n",
    "    list.append(val)\n",
    "\n",
    "large=int(input(\"Enter number of largest elements you want : \"))\n",
    "small=int(input(\"Enter number of smallest elements you want : \"))\n",
    "largelist=[]\n",
    "temp=list\n",
    "smalllist=[]\n",
    "for i in range(large):\n",
    "    l=0\n",
    "    for i in range(len(list)):\n",
    "        if temp[i]>temp[l]:\n",
    "            l=i\n",
    "    smalllist.append(list[l])\n",
    "    temp.remove(list[l])\n",
    "\n",
    "temp=list\n",
    "for i in range(large):\n",
    "    l=0\n",
    "    for i in range(len(list)):\n",
    "        if temp[i]<temp[l]:\n",
    "            l=i\n",
    "    smalllist.append(list[l])\n",
    "    temp.remove(list[l])\n",
    "\n",
    "print(largelist)\n",
    "        "
   ]
  },
  {
   "cell_type": "markdown",
   "metadata": {},
   "source": [
    "### 03) WAP to print duplicates from a list of integers"
   ]
  },
  {
   "cell_type": "code",
   "execution_count": null,
   "metadata": {},
   "outputs": [],
   "source": [
    "List=[]\n",
    "for i in range(10):\n",
    "    List.append(int(input()))  \n",
    "for i in List: \n",
    "    c=List.count(i)\n",
    "    if(c==1):\n",
    "        List.remove(i)\n",
    "        \n",
    "print(List)"
   ]
  }
 ],
 "metadata": {
  "kernelspec": {
   "display_name": "Python 3 (ipykernel)",
   "language": "python",
   "name": "python3"
  },
  "language_info": {
   "codemirror_mode": {
    "name": "ipython",
    "version": 3
   },
   "file_extension": ".py",
   "mimetype": "text/x-python",
   "name": "python",
   "nbconvert_exporter": "python",
   "pygments_lexer": "ipython3",
   "version": "3.9.13"
  }
 },
 "nbformat": 4,
 "nbformat_minor": 4
}
