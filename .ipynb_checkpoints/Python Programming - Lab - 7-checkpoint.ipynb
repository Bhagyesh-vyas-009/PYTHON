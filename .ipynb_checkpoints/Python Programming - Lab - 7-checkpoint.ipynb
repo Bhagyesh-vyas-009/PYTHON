{
 "cells": [
  {
   "cell_type": "markdown",
   "metadata": {},
   "source": [
    "<a href='https://www.darshan.ac.in/'> <img src='https://www.darshan.ac.in/Content/media/DU_Logo.svg' width=\"250\" height=\"300\"/></a>\n",
    "<pre>\n",
    "<center><b><h1>Python Programming - 2101CS405</b></center>\n",
    "<center><b><h1>Lab - 7</b></center>    \n",
    "<pre>"
   ]
  },
  {
   "cell_type": "markdown",
   "metadata": {},
   "source": [
    "### Name :Vyas Bhagyesh Y.\n",
    "### Enrollment No : 23010101662\n",
    "### Roll N0 : 23010101662"
   ]
  },
  {
   "cell_type": "markdown",
   "metadata": {},
   "source": [
    "# Functions"
   ]
  },
  {
   "cell_type": "markdown",
   "metadata": {},
   "source": [
    "### 01) WAP to count simple interest using function."
   ]
  },
  {
   "cell_type": "code",
   "execution_count": 1,
   "metadata": {},
   "outputs": [
    {
     "name": "stdin",
     "output_type": "stream",
     "text": [
      "Enter Principle :  1000\n",
      "Enter Rate of Interest :  10.2\n",
      "Enter Time :  1\n"
     ]
    },
    {
     "name": "stdout",
     "output_type": "stream",
     "text": [
      "Simple Interest ::  102.0\n"
     ]
    }
   ],
   "source": [
    "p=float(input(\"Enter Principle : \"));\n",
    "r=float(input(\"Enter Rate of Interest : \"));\n",
    "n=float(input(\"Enter Time : \"));\n",
    "\n",
    "def simpleI(p,r,n):\n",
    "    return p*r*n/100\n",
    "print(\"Simple Interest :: \",simpleI(p,r,n))"
   ]
  },
  {
   "cell_type": "markdown",
   "metadata": {},
   "source": [
    "### 02) WAP that defines a function to add first n numbers."
   ]
  },
  {
   "cell_type": "code",
   "execution_count": 2,
   "metadata": {},
   "outputs": [
    {
     "name": "stdin",
     "output_type": "stream",
     "text": [
      "Enter n : 100\n"
     ]
    },
    {
     "name": "stdout",
     "output_type": "stream",
     "text": [
      "Sum =  5050\n"
     ]
    }
   ],
   "source": [
    "def add(n):\n",
    "    sum=0\n",
    "    for i in range(1,n+1):\n",
    "        sum+=i\n",
    "    return sum\n",
    "n=int(input(\"Enter n :\"))\n",
    "print(\"Sum = \",add(n))"
   ]
  },
  {
   "cell_type": "markdown",
   "metadata": {},
   "source": [
    "### 03) WAP to find maximum number from given two numbers using function."
   ]
  },
  {
   "cell_type": "code",
   "execution_count": 3,
   "metadata": {},
   "outputs": [
    {
     "name": "stdin",
     "output_type": "stream",
     "text": [
      "Enter number-1 :  3\n",
      "Enter number-2 :  57\n"
     ]
    },
    {
     "name": "stdout",
     "output_type": "stream",
     "text": [
      "Max =  57\n"
     ]
    }
   ],
   "source": [
    "def maxn(a,b):\n",
    "    return a if a>b else b\n",
    "a=int(input(\"Enter number-1 : \"))\n",
    "b=int(input(\"Enter number-2 : \"))\n",
    "print(\"Max = \",maxn(a,b))"
   ]
  },
  {
   "cell_type": "markdown",
   "metadata": {},
   "source": [
    "### 04) WAP that defines a function which returns 1 if the number is prime otherwise return 0."
   ]
  },
  {
   "cell_type": "code",
   "execution_count": 5,
   "metadata": {},
   "outputs": [
    {
     "name": "stdin",
     "output_type": "stream",
     "text": [
      "Enter number :  9973\n"
     ]
    },
    {
     "data": {
      "text/plain": [
       "1"
      ]
     },
     "execution_count": 5,
     "metadata": {},
     "output_type": "execute_result"
    }
   ],
   "source": [
    "def isprime(n):\n",
    "    for i in range(2,int(n**0.5)):\n",
    "        if n%i==0:\n",
    "            return 0\n",
    "    return 1\n",
    "n=int(input(\"Enter number : \"))\n",
    "isprime(n)"
   ]
  },
  {
   "cell_type": "markdown",
   "metadata": {},
   "source": [
    "### 05) Write a function called primes that takes an integer value as an argument and returns a list of all prime numbers up to that number."
   ]
  },
  {
   "cell_type": "code",
   "execution_count": null,
   "metadata": {},
   "outputs": [],
   "source": [
    "def primeList(n):\n",
    "    l2=[]\n",
    "    c=0\n",
    "    for i in range(2,n+1):\n",
    "        flag=True\n",
    "        for j in range(2,i):\n",
    "            # c+=1\n",
    "            if i%j==0:\n",
    "                flag=False\n",
    "        if flag==True:\n",
    "            l2.append(i)\n",
    "    return l2\n",
    "l=primeList(1000)\n",
    "print(l)"
   ]
  },
  {
   "cell_type": "markdown",
   "metadata": {},
   "source": [
    "### 06) WAP to generate Fibonacci series of N given number using function name fibbo. (e.g. 0 1 1 2 3 5 8...)"
   ]
  },
  {
   "cell_type": "code",
   "execution_count": 6,
   "metadata": {},
   "outputs": [
    {
     "name": "stdin",
     "output_type": "stream",
     "text": [
      "Enter Size:  21\n"
     ]
    },
    {
     "name": "stdout",
     "output_type": "stream",
     "text": [
      "[0, 1, 1, 2, 3, 5, 8, 13, 21, 34, 55, 89, 144, 233, 377, 610, 987, 1597, 2584, 4181, 6765]\n"
     ]
    }
   ],
   "source": [
    "def fibbo(n):\n",
    "    li=[0,1]\n",
    "    n1=0\n",
    "    n2=1\n",
    "    n3=0\n",
    "    for i in range(2,n):\n",
    "        n3=n1+n2\n",
    "        li.append(n3)\n",
    "        n1=n2\n",
    "        n2=n3\n",
    "    return li\n",
    "\n",
    "n=int(input(\"Enter Size: \"))\n",
    "print(fibbo(n))"
   ]
  },
  {
   "cell_type": "markdown",
   "metadata": {},
   "source": [
    "### 07) WAP to find the factorial of a given number using recursion."
   ]
  },
  {
   "cell_type": "code",
   "execution_count": 7,
   "metadata": {},
   "outputs": [
    {
     "name": "stdin",
     "output_type": "stream",
     "text": [
      "Enter number :  10\n"
     ]
    },
    {
     "name": "stdout",
     "output_type": "stream",
     "text": [
      "Factorial of  10 =  3628800\n"
     ]
    }
   ],
   "source": [
    "n=int(input(\"Enter number : \"))\n",
    "\n",
    "def fact(n):\n",
    "    if n==1:\n",
    "        return 1\n",
    "    return n*fact(n-1)\n",
    "\n",
    "print(\"Factorial of \",n,\"= \",fact(n))"
   ]
  },
  {
   "cell_type": "markdown",
   "metadata": {},
   "source": [
    "### 08) WAP to implement simple calculator using lamda function."
   ]
  },
  {
   "cell_type": "code",
   "execution_count": 8,
   "metadata": {},
   "outputs": [
    {
     "name": "stdin",
     "output_type": "stream",
     "text": [
      "Enter number-1 :  2\n",
      "Enter number-2 :  3\n",
      "Enter Operator :  *\n"
     ]
    },
    {
     "name": "stdout",
     "output_type": "stream",
     "text": [
      "6\n"
     ]
    }
   ],
   "source": [
    "a=int(input(\"Enter number-1 : \"))\n",
    "b=int(input(\"Enter number-2 : \"))\n",
    "op=input(\"Enter Operator : \")\n",
    "\n",
    "if op=='+':\n",
    "    print((lambda a,b:a+b)(a,b))\n",
    "elif op=='-':\n",
    "    print((lambda a,b:a-b)(a,b))\n",
    "elif op=='*':\n",
    "    print((lambda a,b:a*b)(a,b))\n",
    "elif op=='/':\n",
    "    print((lambda a,b:a/b)(a,b))\n",
    "else:\n",
    "    print((lambda a,b:a//b)(a,b))"
   ]
  },
  {
   "cell_type": "markdown",
   "metadata": {},
   "source": [
    "### 09)Write a Python program that accepts a hyphen-separated sequence of words as input and prints the words in a hyphen-separated sequence after sorting them alphabetically\n",
    "Sample Items : green-red-yellow-black-white <br>\n",
    "Expected Result : black-green-red-white-yellow"
   ]
  },
  {
   "cell_type": "code",
   "execution_count": 9,
   "metadata": {},
   "outputs": [
    {
     "name": "stdin",
     "output_type": "stream",
     "text": [
      "Enter hyphen-separated sequence of words :  green-red-yellow-black-white\n"
     ]
    },
    {
     "name": "stdout",
     "output_type": "stream",
     "text": [
      "green-red-yellow-black-white\n",
      "black-green-red-white-yellow\n"
     ]
    }
   ],
   "source": [
    "str=input(\"Enter hyphen-separated sequence of words : \")\n",
    "print(str)\n",
    "l1=str.split('-')\n",
    "l1=sorted(l1)\n",
    "print('-'.join(l1)) "
   ]
  },
  {
   "cell_type": "markdown",
   "metadata": {},
   "source": [
    "### 10) Write a python program to implement all function arguments type\n",
    "Positional arguments <Br>\n",
    "Default argument <Br>\n",
    "Keyword arguments (named arguments) <Br>\n",
    "Arbitrary arguments (variable-length arguments args and kwargs)"
   ]
  },
  {
   "cell_type": "code",
   "execution_count": 18,
   "metadata": {},
   "outputs": [
    {
     "name": "stdout",
     "output_type": "stream",
     "text": [
      "40\n"
     ]
    }
   ],
   "source": [
    "# Positional argument\n",
    "def positionalArgument (a,b) :\n",
    "    print(a+b)\n",
    "\n",
    "defaultArgument(10,30)"
   ]
  },
  {
   "cell_type": "code",
   "execution_count": null,
   "metadata": {},
   "outputs": [],
   "source": [
    "# Default argument\n",
    "def defaultArgument (a,b=10) :\n",
    "    print(a+b)\n",
    "\n",
    "defaultArgument(10)"
   ]
  },
  {
   "cell_type": "code",
   "execution_count": 15,
   "metadata": {},
   "outputs": [
    {
     "name": "stdout",
     "output_type": "stream",
     "text": [
      "30\n"
     ]
    }
   ],
   "source": [
    "# Keyword Argument\n",
    "def keywordArgument (a,b) :\n",
    "    print(a+b)\n",
    "\n",
    "defaultArgument(a=10,b=20)"
   ]
  },
  {
   "cell_type": "code",
   "execution_count": 16,
   "metadata": {},
   "outputs": [
    {
     "name": "stdout",
     "output_type": "stream",
     "text": [
      "Sum =  40\n"
     ]
    }
   ],
   "source": [
    "# Arbitary argument\n",
    "def add_number(n1,*n):\n",
    "    sum=n1\n",
    "    for i in n:\n",
    "        sum=sum+i\n",
    "    print(\"Sum = \",sum)\n",
    "\n",
    "add_number(10,10,10,10)"
   ]
  },
  {
   "cell_type": "code",
   "execution_count": 17,
   "metadata": {},
   "outputs": [
    {
     "name": "stdout",
     "output_type": "stream",
     "text": [
      "Sum =  7\n",
      "('a', 4)\n",
      "('b', 3)\n",
      "('c', 4)\n",
      "{'a': 4, 'b': 3, 'c': 4}\n"
     ]
    }
   ],
   "source": [
    "# Arbitary keyword argument\n",
    "def add_number(**a):\n",
    "    sum=0\n",
    "    sum=a['a']+a['b']\n",
    "    print(\"Sum = \",sum)\n",
    "    for i in a.items():\n",
    "        print(i)\n",
    "    print(a)\n",
    "add_number(a=4,b=3,c=4)"
   ]
  },
  {
   "cell_type": "markdown",
   "metadata": {},
   "source": [
    "### 01) WAP to calculate power of a number using recursion."
   ]
  },
  {
   "cell_type": "code",
   "execution_count": 10,
   "metadata": {},
   "outputs": [
    {
     "name": "stdin",
     "output_type": "stream",
     "text": [
      "Enter Number:  2\n",
      "Enter power:  3\n"
     ]
    },
    {
     "name": "stdout",
     "output_type": "stream",
     "text": [
      "Answer =  8\n"
     ]
    }
   ],
   "source": [
    "def power(n,p):\n",
    "    if p>0:\n",
    "        return n*power(n,p-1)\n",
    "    else:\n",
    "        return 1\n",
    "    \n",
    "n=int(input(\"Enter Number: \"))\n",
    "p=int(input(\"Enter power: \"))\n",
    "print(\"Answer = \",power(n,p))"
   ]
  },
  {
   "cell_type": "markdown",
   "metadata": {},
   "source": [
    "### 02) WAP to count digits of a number using recursion."
   ]
  },
  {
   "cell_type": "code",
   "execution_count": 11,
   "metadata": {},
   "outputs": [
    {
     "name": "stdin",
     "output_type": "stream",
     "text": [
      "Enter Number:  1234567\n"
     ]
    },
    {
     "name": "stdout",
     "output_type": "stream",
     "text": [
      "Digits =  7\n"
     ]
    }
   ],
   "source": [
    "def digit(n):\n",
    "    if n//10==0:\n",
    "        return 1\n",
    "    else:\n",
    "        return 1+digit(n//10)\n",
    "n1=int(input(\"Enter Number: \"))\n",
    "print(\"Digits = \",digit(n1))"
   ]
  },
  {
   "cell_type": "markdown",
   "metadata": {},
   "source": [
    "### 03) WAP to reverse an integer number using recursion."
   ]
  },
  {
   "cell_type": "code",
   "execution_count": 12,
   "metadata": {},
   "outputs": [
    {
     "name": "stdin",
     "output_type": "stream",
     "text": [
      "Enter Number:  1234\n"
     ]
    },
    {
     "data": {
      "text/plain": [
       "4321"
      ]
     },
     "execution_count": 12,
     "metadata": {},
     "output_type": "execute_result"
    }
   ],
   "source": [
    "n=int(input(\"Enter Number: \"))\n",
    "\n",
    "def r_n(n,rev_n=0):\n",
    "    if n==0:\n",
    "        return rev_n\n",
    "    else:\n",
    "        lsdigit=n%10\n",
    "        rev_n=rev_n*10+lsdigit\n",
    "        return r_n(n//10,rev_n)\n",
    "r_n(n)"
   ]
  },
  {
   "cell_type": "markdown",
   "metadata": {},
   "source": [
    "### 04) WAP to convert decimal number into binary using recursion."
   ]
  },
  {
   "cell_type": "code",
   "execution_count": 13,
   "metadata": {},
   "outputs": [
    {
     "name": "stdin",
     "output_type": "stream",
     "text": [
      "Enter Decimal Number:  22\n"
     ]
    },
    {
     "data": {
      "text/plain": [
       "10110"
      ]
     },
     "execution_count": 13,
     "metadata": {},
     "output_type": "execute_result"
    }
   ],
   "source": [
    "def d_b(dec):\n",
    "    if dec == 0:\n",
    "        return 0\n",
    "    else:\n",
    "        return(dec % 2 + 10 * d_b(int(dec // 2)))\n",
    "    \n",
    "dec=int(input(\"Enter Decimal Number: \"))\n",
    "d_b(dec)"
   ]
  }
 ],
 "metadata": {
  "kernelspec": {
   "display_name": "Python 3 (ipykernel)",
   "language": "python",
   "name": "python3"
  },
  "language_info": {
   "codemirror_mode": {
    "name": "ipython",
    "version": 3
   },
   "file_extension": ".py",
   "mimetype": "text/x-python",
   "name": "python",
   "nbconvert_exporter": "python",
   "pygments_lexer": "ipython3",
   "version": "3.12.1"
  }
 },
 "nbformat": 4,
 "nbformat_minor": 4
}
