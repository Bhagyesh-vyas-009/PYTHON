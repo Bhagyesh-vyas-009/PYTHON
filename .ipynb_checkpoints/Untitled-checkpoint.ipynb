{
 "cells": [
  {
   "cell_type": "code",
   "execution_count": 2,
   "id": "e829c47b-844a-41e7-b4e6-25e195ac6886",
   "metadata": {},
   "outputs": [
    {
     "name": "stdout",
     "output_type": "stream",
     "text": [
      "Sum =  55\n"
     ]
    }
   ],
   "source": [
    "a=[1,2,3,4,5,6,7,8,9,10]\n",
    "sum=0\n",
    "for i in a:\n",
    "    sum+=i\n",
    "print(\"Sum = \",sum)"
   ]
  },
  {
   "cell_type": "code",
   "execution_count": 7,
   "id": "d6cc960f-c16d-42a8-84b4-022ea25194ce",
   "metadata": {},
   "outputs": [
    {
     "name": "stdout",
     "output_type": "stream",
     "text": [
      "Max =  61\n"
     ]
    }
   ],
   "source": [
    "a=[1,2,3,4,5,61,7,8,9,10]\n",
    "\n",
    "m=max(a)\n",
    "\n",
    "print(\"Max = \",m)"
   ]
  },
  {
   "cell_type": "code",
   "execution_count": 13,
   "id": "88172148-55f4-418f-afaa-b54418a09a90",
   "metadata": {},
   "outputs": [
    {
     "data": {
      "text/plain": [
       "[]"
      ]
     },
     "execution_count": 13,
     "metadata": {},
     "output_type": "execute_result"
    }
   ],
   "source": [
    "a=[1,2,3,4,5,61,7,8,9,10]\n",
    "\n",
    "half=a[1:5:-1]\n",
    "half\n",
    "# a.append(half)"
   ]
  },
  {
   "cell_type": "code",
   "execution_count": 17,
   "id": "8475f601-27ae-4db6-8dd6-52d3ec87097e",
   "metadata": {},
   "outputs": [
    {
     "name": "stdin",
     "output_type": "stream",
     "text": [
      "Enter first element :  b\n",
      "Enter last element :  h\n"
     ]
    },
    {
     "data": {
      "text/plain": [
       "['h', 2, 3, 4, 5, 61, 7, 8, 9, 'b']"
      ]
     },
     "execution_count": 17,
     "metadata": {},
     "output_type": "execute_result"
    }
   ],
   "source": [
    "a=[1,2,3,4,5,61,7,8,9,10]\n",
    "\n",
    "f=input(\"Enter first element : \")\n",
    "l=input(\"Enter last element : \")\n",
    "\n",
    "a[-1]=f\n",
    "a[0]=l\n",
    "a"
   ]
  },
  {
   "cell_type": "code",
   "execution_count": 21,
   "id": "620ac5b5-569e-496a-b16b-6785815e5abb",
   "metadata": {},
   "outputs": [
    {
     "name": "stdin",
     "output_type": "stream",
     "text": [
      "Enter first index :  1\n",
      "Enter second index :  2\n"
     ]
    }
   ],
   "source": [
    "a=[1,2,3,4,5,61,7,8,9,10]\n",
    "\n",
    "i1=int(input(\"Enter first index : \"))\n",
    "i2=int(input(\"Enter second index : \"))\n",
    "\n"
   ]
  },
  {
   "cell_type": "code",
   "execution_count": 27,
   "id": "a8f1eb90-7065-4fe8-88f0-560d99eabc07",
   "metadata": {},
   "outputs": [
    {
     "name": "stdin",
     "output_type": "stream",
     "text": [
      "Enter length of list :  5\n",
      "Enter length of data :  1\n",
      "Enter length of data :  2\n",
      "Enter length of data :  3\n",
      "Enter length of data :  4\n",
      "Enter length of data :  5\n"
     ]
    },
    {
     "name": "stdout",
     "output_type": "stream",
     "text": [
      "Even numbers = 2,4,"
     ]
    }
   ],
   "source": [
    "list=[]\n",
    "n=int(input(\"Enter length of list : \"))\n",
    "\n",
    "list=[int(input(\"Enter length of data : \")) for i in range(1,n+1)]\n",
    "list\n",
    "print(\"Even numbers = \",end=\"\")\n",
    "for i in list:\n",
    "    if i%2==0:\n",
    "        print(i,end=\",\")\n",
    "    "
   ]
  },
  {
   "cell_type": "code",
   "execution_count": 4,
   "id": "511155e0-5f1f-4a59-b6d5-50bbdb215271",
   "metadata": {},
   "outputs": [],
   "source": [
    "l1=[1,2,3,4,5,6,7,8,9,10]\n",
    "l2=[]\n",
    "pivot=2\n"
   ]
  }
 ],
 "metadata": {
  "kernelspec": {
   "display_name": "Python 3 (ipykernel)",
   "language": "python",
   "name": "python3"
  },
  "language_info": {
   "codemirror_mode": {
    "name": "ipython",
    "version": 3
   },
   "file_extension": ".py",
   "mimetype": "text/x-python",
   "name": "python",
   "nbconvert_exporter": "python",
   "pygments_lexer": "ipython3",
   "version": "3.12.1"
  }
 },
 "nbformat": 4,
 "nbformat_minor": 5
}
