{
 "cells": [
  {
   "cell_type": "markdown",
   "metadata": {},
   "source": [
    "<a href='https://www.darshan.ac.in/'> <img src='https://www.darshan.ac.in/Content/media/DU_Logo.svg' width=\"250\" height=\"300\"/></a>\n",
    "<pre>\n",
    "<center><b><h1>Python Programming - 2101CS405</b></center>\n",
    "<center><b><h1>Lab - 1</b></center>    \n",
    "<pre>"
   ]
  },
  {
   "cell_type": "code",
   "execution_count": null,
   "metadata": {},
   "outputs": [],
   "source": [
    "Name : VYAS BHAGYESH Y.\n",
    "Roll no : 23010101662\n",
    "Enrollment No : 23010101662"
   ]
  },
  {
   "cell_type": "markdown",
   "metadata": {},
   "source": [
    "### 01) WAP to print “Hello World”"
   ]
  },
  {
   "cell_type": "code",
   "execution_count": 1,
   "metadata": {},
   "outputs": [
    {
     "name": "stdout",
     "output_type": "stream",
     "text": [
      "Hello World\n"
     ]
    }
   ],
   "source": [
    "print (\"Hello World\")"
   ]
  },
  {
   "cell_type": "markdown",
   "metadata": {},
   "source": [
    "### 02) WAP to print your address i) using single print ii) using multiple print"
   ]
  },
  {
   "cell_type": "code",
   "execution_count": 2,
   "metadata": {},
   "outputs": [
    {
     "name": "stdout",
     "output_type": "stream",
     "text": [
      "Prgteshwar Krupa, Gandhinagar street no-3,Gandhigram,Rajkot-360007\n"
     ]
    }
   ],
   "source": [
    "print (\"Prgteshwar Krupa, Gandhinagar street no-3,Gandhigram,Rajkot-360007\")"
   ]
  },
  {
   "cell_type": "code",
   "execution_count": 7,
   "metadata": {},
   "outputs": [
    {
     "name": "stdout",
     "output_type": "stream",
     "text": [
      "Prgteshwar Krupa\n",
      "Gandhinagar street no-3\n",
      "Gandhigram\n",
      "Rajkot-360007\n"
     ]
    }
   ],
   "source": [
    "print (\"Prgteshwar Krupa\")\n",
    "print (\"Gandhinagar street no-3\")\n",
    "print (\"Gandhigram\")\n",
    "print(\"Rajkot-360007\")"
   ]
  },
  {
   "cell_type": "markdown",
   "metadata": {},
   "source": [
    "### 03) WAP to print addition of 2 numbers (without input function)"
   ]
  },
  {
   "cell_type": "code",
   "execution_count": 5,
   "metadata": {},
   "outputs": [
    {
     "name": "stdout",
     "output_type": "stream",
     "text": [
      "10.5\n"
     ]
    }
   ],
   "source": [
    "a=10\n",
    "b=0.5\n",
    "\n",
    "print((a+b))"
   ]
  },
  {
   "cell_type": "markdown",
   "metadata": {},
   "source": [
    "### 04) WAP to calculate and print average of 2 numbers (without input function)"
   ]
  },
  {
   "cell_type": "code",
   "execution_count": 6,
   "metadata": {},
   "outputs": [
    {
     "name": "stdout",
     "output_type": "stream",
     "text": [
      "5.25\n"
     ]
    }
   ],
   "source": [
    "a=10\n",
    "b=0.5\n",
    "\n",
    "print((a+b)/2)"
   ]
  },
  {
   "cell_type": "markdown",
   "metadata": {},
   "source": [
    "### 05) WAP to add two number entered by user."
   ]
  },
  {
   "cell_type": "code",
   "execution_count": 12,
   "metadata": {},
   "outputs": [
    {
     "name": "stdout",
     "output_type": "stream",
     "text": [
      "Enter No-1 : 10\n",
      "Enter No-2 : 0.5\n",
      "10.5\n"
     ]
    }
   ],
   "source": [
    "a=int(input(\"Enter No-1 : \"))\n",
    "b=float(input(\"Enter No-2 : \"))\n",
    "\n",
    "print ((a+b))"
   ]
  },
  {
   "cell_type": "markdown",
   "metadata": {},
   "source": [
    "### 06) WAP to calculate simple interest."
   ]
  },
  {
   "cell_type": "code",
   "execution_count": 16,
   "metadata": {},
   "outputs": [
    {
     "name": "stdout",
     "output_type": "stream",
     "text": [
      "Enter Principle : 1000\n",
      "Enter Rate of Interest : 10\n",
      "Enter Duration : 1\n",
      "100.0\n"
     ]
    }
   ],
   "source": [
    "p=int(input(\"Enter Principle : \"))\n",
    "r=float(input(\"Enter Rate of Interest : \"))\n",
    "n=float(input(\"Enter Duration : \"))\n",
    "\n",
    "i=p*r*n/100\n",
    "\n",
    "print(i)"
   ]
  },
  {
   "cell_type": "markdown",
   "metadata": {},
   "source": [
    "### 07) WAP Calculate Area and Circumfrence of Circle"
   ]
  },
  {
   "cell_type": "code",
   "execution_count": 15,
   "metadata": {},
   "outputs": [
    {
     "name": "stdout",
     "output_type": "stream",
     "text": [
      "Enter Radius : 5\n",
      "Area of Circle =  78.5\n",
      "Circumfrence of Circle =  31.400000000000002\n"
     ]
    }
   ],
   "source": [
    "r=float(input(\"Enter Radius : \"))\n",
    "\n",
    "pi=3.14\n",
    "\n",
    "area=pi*r*r\n",
    "\n",
    "circum=2*pi*r\n",
    "\n",
    "print(\"Area of Circle = \",area)\n",
    "print(\"Circumfrence of Circle = \",circum)"
   ]
  },
  {
   "cell_type": "markdown",
   "metadata": {},
   "source": [
    "### 08) WAP to print Multiplication table of given number without using loops."
   ]
  },
  {
   "cell_type": "code",
   "execution_count": 7,
   "metadata": {},
   "outputs": [
    {
     "name": "stdin",
     "output_type": "stream",
     "text": [
      "Enter Number :  9\n"
     ]
    },
    {
     "name": "stdout",
     "output_type": "stream",
     "text": [
      "9 X 1 = 9\n",
      "9 X 2 = 18\n",
      "9 X 3 = 27\n",
      "9 X 4 = 36\n",
      "9 X 5 = 45\n",
      "9 X 6 = 54\n",
      "9 X 7 = 63\n",
      "9 X 8 = 72\n",
      "9 X 9 = 81\n",
      "9 X 10 = 90\n"
     ]
    }
   ],
   "source": [
    "n=int(input(\"Enter Number : \"))\n",
    "\n",
    "print(n,\"X 1 =\",n*1)\n",
    "print(n,\"X 2 =\",n*2)\n",
    "print(n,\"X 3 =\",n*3)\n",
    "print(n,\"X 4 =\",n*4)\n",
    "print(n,\"X 5 =\",n*5)\n",
    "print(n,\"X 6 =\",n*6)\n",
    "print(n,\"X 7 =\",n*7)\n",
    "print(n,\"X 8 =\",n*8)\n",
    "print(n,\"X 9 =\",n*9)\n",
    "print(n,\"X 10 =\",n*10)"
   ]
  },
  {
   "cell_type": "markdown",
   "metadata": {},
   "source": [
    "### 09) WAP to calculate Area of Triangle (hint: a = h * b * 0.5)"
   ]
  },
  {
   "cell_type": "code",
   "execution_count": 20,
   "metadata": {},
   "outputs": [
    {
     "name": "stdout",
     "output_type": "stream",
     "text": [
      "Enter Height : 10\n",
      "Enter Base : 2\n",
      "10.0\n"
     ]
    }
   ],
   "source": [
    "h=int(input(\"Enter Height : \"))\n",
    "b=int(input(\"Enter Base : \"))\n",
    "\n",
    "area=1/2*h*b\n",
    "\n",
    "# area=h*b*0.5\n",
    "\n",
    "print(area)"
   ]
  },
  {
   "cell_type": "markdown",
   "metadata": {},
   "source": [
    "### 10) WAP to convert degree to Fahrenheit and vice versa."
   ]
  },
  {
   "cell_type": "code",
   "execution_count": 10,
   "metadata": {},
   "outputs": [
    {
     "name": "stdin",
     "output_type": "stream",
     "text": [
      "Enter Degree :  50\n"
     ]
    },
    {
     "name": "stdout",
     "output_type": "stream",
     "text": [
      "Fahrenheit =  122.0\n"
     ]
    },
    {
     "name": "stdin",
     "output_type": "stream",
     "text": [
      "Enter Fahrenhit :  50\n"
     ]
    },
    {
     "name": "stdout",
     "output_type": "stream",
     "text": [
      "Celcuis =  10.0\n"
     ]
    }
   ],
   "source": [
    "c=float(input(\"Enter Degree : \"))\n",
    "f=(c*9/5)+32\n",
    "print(\"Fahrenheit = \",f)\n",
    "\n",
    "f1=float(input(\"Enter Fahrenhit : \"))\n",
    "c1=((f1-32)*5)/9\n",
    "print(\"Celcuis = \",c1)"
   ]
  },
  {
   "cell_type": "markdown",
   "metadata": {},
   "source": [
    "### 11) WAP to calculate total marks and Percentage."
   ]
  },
  {
   "cell_type": "code",
   "execution_count": 23,
   "metadata": {},
   "outputs": [
    {
     "name": "stdout",
     "output_type": "stream",
     "text": [
      "Enter Mark-1 : 10\n",
      "Enter Mark-2 : 2\n",
      "Enter Mark-3 : 3\n",
      "Enter Mark-4 : 4\n",
      "Enter Mark-5 : 5\n",
      "Total Marks =  24\n",
      "Percentage :  4.8\n"
     ]
    }
   ],
   "source": [
    "m1=int(input(\"Enter Mark-1 : \"))\n",
    "m2=int(input(\"Enter Mark-2 : \"))\n",
    "m3=int(input(\"Enter Mark-3 : \"))\n",
    "m4=int(input(\"Enter Mark-4 : \"))\n",
    "m5=int(input(\"Enter Mark-5 : \"))\n",
    "\n",
    "t=m1+m2+m3+m4+m5\n",
    "\n",
    "avg=t/5\n",
    "\n",
    "print(\"Total Marks = \",t)\n",
    "print(\"Percentage : \",avg)\n"
   ]
  },
  {
   "cell_type": "markdown",
   "metadata": {},
   "source": [
    "### 12) Compute distance between two points taking input from the user (Pythagorean Theorem)."
   ]
  },
  {
   "cell_type": "code",
   "execution_count": 19,
   "metadata": {},
   "outputs": [
    {
     "name": "stdin",
     "output_type": "stream",
     "text": [
      "Enter x1 :  3\n",
      "Enter x0 :  4\n",
      "Enter y1 :  4\n",
      "Enter y0 :  3\n"
     ]
    },
    {
     "name": "stdout",
     "output_type": "stream",
     "text": [
      "1.4142135623730951\n"
     ]
    }
   ],
   "source": [
    "x1=int(input(\"Enter x1 : \"));\n",
    "x0=int(input(\"Enter x0 : \"));\n",
    "y1=int(input(\"Enter y1 : \"));\n",
    "y0=int(input(\"Enter y0 : \"));\n",
    "\n",
    "d=(((x1-x0)**2+(y1-y0)**2)**0.5)\n",
    "\n",
    "print(d)"
   ]
  },
  {
   "cell_type": "markdown",
   "metadata": {},
   "source": [
    "### 13) WAP to convert seconds into hours, minutes & seconds and print in HH:MM:SS\n",
    "[e.g. 10000 seconds mean 2:46:40 (2 Hours, 46 Minutes, 40Seconds)]"
   ]
  },
  {
   "cell_type": "code",
   "execution_count": 45,
   "metadata": {},
   "outputs": [
    {
     "name": "stdout",
     "output_type": "stream",
     "text": [
      "Enter Second : 10000\n",
      "2 : 46 : 40\n",
      "4.0\n"
     ]
    }
   ],
   "source": [
    "s=int(input(\"Enter Second : \"))\n",
    "\n",
    "m1=s/60\n",
    "\n",
    "m=int((s/60)%60)\n",
    "h=int(m1/60)\n",
    "s1=int(s%60)\n",
    "\n",
    "\n",
    "\n",
    "print(h,\":\",m,\":\",s1)\n",
    "\n",
    "# print(16**(1/2))"
   ]
  },
  {
   "cell_type": "markdown",
   "metadata": {},
   "source": [
    "### 14) WAP to enter distance into kilometer and convert it into meter, feet,inches, and centimeter"
   ]
  },
  {
   "cell_type": "code",
   "execution_count": 13,
   "metadata": {},
   "outputs": [
    {
     "name": "stdin",
     "output_type": "stream",
     "text": [
      "Enter Distance in Kilometer :  1\n"
     ]
    },
    {
     "name": "stdout",
     "output_type": "stream",
     "text": [
      "1000\n",
      "3280.8\n",
      "39370.1\n",
      "100000\n"
     ]
    }
   ],
   "source": [
    "km=int(input(\"Enter Distance in Kilometer : \"))\n",
    "\n",
    "meter=int(km*1000)\n",
    "\n",
    "feet=km*3280.8\n",
    "\n",
    "inch=km*39370.1\n",
    "\n",
    "centimeter=meter*100\n",
    "\n",
    "print(meter)\n",
    "print(feet)\n",
    "print(inch)\n",
    "print(centimeter)"
   ]
  }
 ],
 "metadata": {
  "kernelspec": {
   "display_name": "Python 3 (ipykernel)",
   "language": "python",
   "name": "python3"
  },
  "language_info": {
   "codemirror_mode": {
    "name": "ipython",
    "version": 3
   },
   "file_extension": ".py",
   "mimetype": "text/x-python",
   "name": "python",
   "nbconvert_exporter": "python",
   "pygments_lexer": "ipython3",
   "version": "3.12.1"
  },
  "vscode": {
   "interpreter": {
    "hash": "31f2aee4e71d21fbe5cf8b01ff0e069b9275f58929596ceb00d14d90e3e16cd6"
   }
  }
 },
 "nbformat": 4,
 "nbformat_minor": 4
}
