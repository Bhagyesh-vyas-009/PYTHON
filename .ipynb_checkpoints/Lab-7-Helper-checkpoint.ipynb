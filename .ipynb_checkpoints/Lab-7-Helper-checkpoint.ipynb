{
 "cells": [
  {
   "cell_type": "markdown",
   "metadata": {
    "id": "SPoD_ceReiT1"
   },
   "source": [
    "<a href='https://www.darshan.ac.in/'> <img src='https://www.darshan.ac.in/Content/media/DU_Logo.svg' width=\"250\" height=\"300\"/></a>\n",
    "<pre>\n",
    "<center><b><h1>Python Programming - 2101CS405</b></center>\n",
    "<center><b><h1>Lab - 7</b></center>    \n",
    "<pre>"
   ]
  },
  {
   "cell_type": "markdown",
   "metadata": {},
   "source": [
    "### Name :Vyas Bhagyesh Y.\n",
    "### Enrollment No : 23010101662\n",
    "### Roll N0 : 23010101662"
   ]
  },
  {
   "cell_type": "markdown",
   "metadata": {
    "id": "UqpqbpZEeiT4"
   },
   "source": [
    "# Functions"
   ]
  },
  {
   "cell_type": "code",
   "execution_count": null,
   "metadata": {},
   "outputs": [],
   "source": [
    "# will throw an error\n",
    "## UnboundLocalError: local variable 'a' referenced before assignment\n",
    "a = 15\n",
    "def change():\n",
    "    a = a + 5\n",
    "    print(a) \n",
    "change()"
   ]
  },
  {
   "cell_type": "code",
   "execution_count": 4,
   "metadata": {},
   "outputs": [
    {
     "name": "stdout",
     "output_type": "stream",
     "text": [
      "20\n"
     ]
    }
   ],
   "source": [
    "# when to use global\n",
    "a = 15\n",
    "def change():\n",
    "    global a\n",
    "    a = a + 5\n",
    "    print(a) \n",
    "change()"
   ]
  },
  {
   "cell_type": "markdown",
   "metadata": {
    "id": "q3sib5cSeiT5"
   },
   "source": [
    "### 01) WAP to count simple interest using function."
   ]
  },
  {
   "cell_type": "markdown",
   "metadata": {
    "id": "_xUNh9ppem9g"
   },
   "source": [
    "# SI =( principle(amount) * rate of interest * time )/ 100"
   ]
  },
  {
   "cell_type": "code",
   "execution_count": 1,
   "metadata": {
    "colab": {
     "base_uri": "https://localhost:8080/"
    },
    "executionInfo": {
     "elapsed": 13031,
     "status": "ok",
     "timestamp": 1706267778231,
     "user": {
      "displayName": "Tej Patel",
      "userId": "04032777318747107215"
     },
     "user_tz": -330
    },
    "id": "W9GVhnjIeiT5",
    "outputId": "3e96c306-2add-47a8-b96e-657d73467886"
   },
   "outputs": [
    {
     "name": "stdin",
     "output_type": "stream",
     "text": [
      "Enter Principle :  1000\n",
      "Enter Rate of Interest :  10.2\n",
      "Enter Time :  1\n"
     ]
    },
    {
     "name": "stdout",
     "output_type": "stream",
     "text": [
      "Simple Interest ::  102.0\n"
     ]
    }
   ],
   "source": [
    "p=float(input(\"Enter Principle : \"));\n",
    "r=float(input(\"Enter Rate of Interest : \"));\n",
    "n=float(input(\"Enter Time : \"));\n",
    "\n",
    "def simpleI(p,r,n):\n",
    "    return p*r*n/100\n",
    "print(\"Simple Interest :: \",simpleI(p,r,n))\n"
   ]
  },
  {
   "cell_type": "markdown",
   "metadata": {
    "id": "tE0vZRZdeiT6"
   },
   "source": [
    "### 02) WAP that defines a function to add first n numbers."
   ]
  },
  {
   "cell_type": "code",
   "execution_count": 6,
   "metadata": {
    "colab": {
     "base_uri": "https://localhost:8080/"
    },
    "executionInfo": {
     "elapsed": 2459,
     "status": "ok",
     "timestamp": 1706268095305,
     "user": {
      "displayName": "Tej Patel",
      "userId": "04032777318747107215"
     },
     "user_tz": -330
    },
    "id": "Vsrn_objeiT6",
    "outputId": "921291b9-afab-4c58-a622-5895c1cdb7ff"
   },
   "outputs": [
    {
     "name": "stdin",
     "output_type": "stream",
     "text": [
      "Enter n : 100\n"
     ]
    },
    {
     "name": "stdout",
     "output_type": "stream",
     "text": [
      "Sum =  5050\n"
     ]
    }
   ],
   "source": [
    "def add(n):\n",
    "    sum=0\n",
    "    for i in range(1,n+1):\n",
    "        sum+=i\n",
    "    return sum\n",
    "n=int(input(\"Enter n :\"))\n",
    "print(\"Sum = \",add(n))"
   ]
  },
  {
   "cell_type": "markdown",
   "metadata": {
    "id": "CS0YQzxyeiT6"
   },
   "source": [
    "### 03) WAP to find maximum number from given two numbers using function."
   ]
  },
  {
   "cell_type": "code",
   "execution_count": 13,
   "metadata": {
    "executionInfo": {
     "elapsed": 448,
     "status": "ok",
     "timestamp": 1706268076097,
     "user": {
      "displayName": "Tej Patel",
      "userId": "04032777318747107215"
     },
     "user_tz": -330
    },
    "id": "zlo56PLZeiT6"
   },
   "outputs": [
    {
     "name": "stdin",
     "output_type": "stream",
     "text": [
      "Enter number-1 :  3\n",
      "Enter number-2 :  4\n"
     ]
    },
    {
     "name": "stdout",
     "output_type": "stream",
     "text": [
      "Max =  4\n"
     ]
    }
   ],
   "source": [
    "def maxn(a,b):\n",
    "    return a if a>b else b\n",
    "a=int(input(\"Enter number-1 : \"))\n",
    "b=int(input(\"Enter number-2 : \"))\n",
    "print(\"Max = \",maxn(a,b))"
   ]
  },
  {
   "cell_type": "markdown",
   "metadata": {
    "id": "7AaoGClieiT7"
   },
   "source": [
    "### 04) WAP that defines a function which returns 1 if the number is prime otherwise return 0."
   ]
  },
  {
   "cell_type": "code",
   "execution_count": 9,
   "metadata": {
    "colab": {
     "base_uri": "https://localhost:8080/"
    },
    "executionInfo": {
     "elapsed": 1388,
     "status": "ok",
     "timestamp": 1706269570666,
     "user": {
      "displayName": "Tej Patel",
      "userId": "04032777318747107215"
     },
     "user_tz": -330
    },
    "id": "dbUnipZieiT7",
    "outputId": "49ebc139-27c4-413c-9645-beaa283ff670"
   },
   "outputs": [
    {
     "name": "stdin",
     "output_type": "stream",
     "text": [
      "Enter number :  9973\n"
     ]
    },
    {
     "name": "stdout",
     "output_type": "stream",
     "text": [
      "No of Iteration =  97\n",
      "1\n"
     ]
    }
   ],
   "source": [
    "def isprime(n):\n",
    "    c=0\n",
    "    for i in range(2,int(n**0.5)):\n",
    "        if n%i==0:\n",
    "            return 0,c\n",
    "        c+=1\n",
    "    return 1,c\n",
    "n=int(input(\"Enter number : \"))\n",
    "prime,c=isprime(n)\n",
    "print(\"No of Iteration = \",c)\n",
    "print(prime)"
   ]
  },
  {
   "cell_type": "markdown",
   "metadata": {},
   "source": [
    "<h2> optional task : optimization</h2>\n",
    "complete basic task first then try to optimize"
   ]
  },
  {
   "cell_type": "code",
   "execution_count": 1,
   "metadata": {},
   "outputs": [
    {
     "name": "stdout",
     "output_type": "stream",
     "text": [
      "        * \n",
      "      * * \n",
      "    * * * \n",
      "  * * * * \n",
      "* * * * * \n",
      "Total Iterations :  30\n"
     ]
    }
   ],
   "source": [
    "# Example on how iterations are calculated\n",
    "# Only iteration in loops are counted\n",
    "iteration_count= 0\n",
    "n = 5\n",
    "for i in range(n):\n",
    "    iteration_count += 1\n",
    "    \n",
    "    for j in range(n-i-1):\n",
    "        iteration_count += 1\n",
    "        print(\" \", end = \" \")\n",
    "    for j in range(i+1):\n",
    "        iteration_count += 1\n",
    "        print(\"*\", end = \" \")\n",
    "    print()\n",
    "print(\"Total Iterations : \", iteration_count)"
   ]
  },
  {
   "cell_type": "code",
   "execution_count": 20,
   "metadata": {
    "colab": {
     "base_uri": "https://localhost:8080/"
    },
    "executionInfo": {
     "elapsed": 500,
     "status": "ok",
     "timestamp": 1706269613131,
     "user": {
      "displayName": "Tej Patel",
      "userId": "04032777318747107215"
     },
     "user_tz": -330
    },
    "id": "5fjH6SJjiJVE",
    "outputId": "caabfe33-c385-4056-ad0d-f6e3d7e9f6b6"
   },
   "outputs": [
    {
     "name": "stdout",
     "output_type": "stream",
     "text": [
      "Enter Number :  9973\n",
      "No. of iteration :  16\n",
      "1\n"
     ]
    }
   ],
   "source": []
  },
  {
   "cell_type": "markdown",
   "metadata": {
    "id": "oPj8eEN7eiT7"
   },
   "source": [
    "### 05) Write a function called primes that takes an integer value as an argument and returns a list of all prime numbers up to that number."
   ]
  },
  {
   "cell_type": "code",
   "execution_count": 29,
   "metadata": {
    "colab": {
     "base_uri": "https://localhost:8080/"
    },
    "executionInfo": {
     "elapsed": 3432,
     "status": "ok",
     "timestamp": 1706272524988,
     "user": {
      "displayName": "Tej Patel",
      "userId": "04032777318747107215"
     },
     "user_tz": -330
    },
    "id": "iehHfb8kr84x",
    "outputId": "04864106-0c36-4118-c1ef-ff7d9e04d23b"
   },
   "outputs": [
    {
     "name": "stdout",
     "output_type": "stream",
     "text": [
      "[2, 3, 5, 7, 11, 13, 17, 19, 23, 29, 31, 37, 41, 43, 47, 53, 59, 61, 67, 71, 73, 79, 83, 89, 97, 101, 103, 107, 109, 113, 127, 131, 137, 139, 149, 151, 157, 163, 167, 173, 179, 181, 191, 193, 197, 199, 211, 223, 227, 229, 233, 239, 241, 251, 257, 263, 269, 271, 277, 281, 283, 293, 307, 311, 313, 317, 331, 337, 347, 349, 353, 359, 367, 373, 379, 383, 389, 397, 401, 409, 419, 421, 431, 433, 439, 443, 449, 457, 461, 463, 467, 479, 487, 491, 499, 503, 509, 521, 523, 541, 547, 557, 563, 569, 571, 577, 587, 593, 599, 601, 607, 613, 617, 619, 631, 641, 643, 647, 653, 659, 661, 673, 677, 683, 691, 701, 709, 719, 727, 733, 739, 743, 751, 757, 761, 769, 773, 787, 797, 809, 811, 821, 823, 827, 829, 839, 853, 857, 859, 863, 877, 881, 883, 887, 907, 911, 919, 929, 937, 941, 947, 953, 967, 971, 977, 983, 991, 997]\n"
     ]
    }
   ],
   "source": [
    "def primeList(n):\n",
    "    l2=[]\n",
    "    c=0\n",
    "    for i in range(2,n+1):\n",
    "        flag=True\n",
    "        for j in range(2,i):\n",
    "            # c+=1\n",
    "            if i%j==0:\n",
    "                flag=False\n",
    "        if flag==True:\n",
    "            l2.append(i)\n",
    "    return l2\n",
    "l=primeList(1000)\n",
    "print(l)"
   ]
  },
  {
   "cell_type": "markdown",
   "metadata": {},
   "source": [
    "<h2> optional task : optimization</h2>\n",
    "if basic task completed then try to optimize"
   ]
  },
  {
   "cell_type": "code",
   "execution_count": 56,
   "metadata": {
    "colab": {
     "base_uri": "https://localhost:8080/"
    },
    "executionInfo": {
     "elapsed": 2906,
     "status": "ok",
     "timestamp": 1706274806898,
     "user": {
      "displayName": "Tej Patel",
      "userId": "04032777318747107215"
     },
     "user_tz": -330
    },
    "id": "JjUrnvXPwVWa",
    "outputId": "89f84fec-65d0-44f1-fa68-534726e7220e"
   },
   "outputs": [
    {
     "name": "stdout",
     "output_type": "stream",
     "text": [
      "Enter Number: 1000\n",
      "[2, 3, 5, 7, 11, 13, 17, 19, 23, 29, 31, 37, 41, 43, 47, 53, 59, 61, 67, 71, 73, 79, 83, 89, 97, 101, 103, 107, 109, 113, 127, 131, 137, 139, 149, 151, 157, 163, 167, 173, 179, 181, 191, 193, 197, 199, 211, 223, 227, 229, 233, 239, 241, 251, 257, 263, 269, 271, 277, 281, 283, 293, 307, 311, 313, 317, 331, 337, 347, 349, 353, 359, 367, 373, 379, 383, 389, 397, 401, 409, 419, 421, 431, 433, 439, 443, 449, 457, 461, 463, 467, 479, 487, 491, 499, 503, 509, 521, 523, 541, 547, 557, 563, 569, 571, 577, 587, 593, 599, 601, 607, 613, 617, 619, 631, 641, 643, 647, 653, 659, 661, 673, 677, 683, 691, 701, 709, 719, 727, 733, 739, 743, 751, 757, 761, 769, 773, 787, 797, 809, 811, 821, 823, 827, 829, 839, 853, 857, 859, 863, 877, 881, 883, 887, 907, 911, 919, 929, 937, 941, 947, 953, 967, 971, 977, 983, 991, 997]\n",
      "No of primes :  168\n",
      "No. of iteration :  1764\n"
     ]
    }
   ],
   "source": []
  },
  {
   "cell_type": "code",
   "execution_count": 55,
   "metadata": {
    "colab": {
     "base_uri": "https://localhost:8080/"
    },
    "executionInfo": {
     "elapsed": 3008,
     "status": "ok",
     "timestamp": 1706274774591,
     "user": {
      "displayName": "Tej Patel",
      "userId": "04032777318747107215"
     },
     "user_tz": -330
    },
    "id": "dA2fNk3I5sUa",
    "outputId": "9c4849d2-be3c-4fc6-d474-c7bbfd2ca385"
   },
   "outputs": [
    {
     "name": "stdout",
     "output_type": "stream",
     "text": [
      "Enter Number: 1000\n",
      "[2, 3, 5, 7, 11, 13, 17, 19, 23, 29, 31, 37, 41, 43, 47, 53, 59, 61, 67, 71, 73, 79, 83, 89, 97, 101, 103, 107, 109, 113, 127, 131, 137, 139, 149, 151, 157, 163, 167, 173, 179, 181, 191, 193, 197, 199, 211, 223, 227, 229, 233, 239, 241, 251, 257, 263, 269, 271, 277, 281, 283, 293, 307, 311, 313, 317, 331, 337, 347, 349, 353, 359, 367, 373, 379, 383, 389, 397, 401, 409, 419, 421, 431, 433, 439, 443, 449, 457, 461, 463, 467, 479, 487, 491, 499, 503, 509, 521, 523, 541, 547, 557, 563, 569, 571, 577, 587, 593, 599, 601, 607, 613, 617, 619, 631, 641, 643, 647, 653, 659, 661, 673, 677, 683, 691, 701, 709, 719, 727, 733, 739, 743, 751, 757, 761, 769, 773, 787, 797, 809, 811, 821, 823, 827, 829, 839, 853, 857, 859, 863, 877, 881, 883, 887, 907, 911, 919, 929, 937, 941, 947, 953, 967, 971, 977, 983, 991, 997]\n",
      "No of primes: 168\n",
      "No. of iteration: 929\n"
     ]
    }
   ],
   "source": []
  },
  {
   "cell_type": "markdown",
   "metadata": {
    "id": "VNUFmkgDeiT8"
   },
   "source": [
    "### 06) WAP to generate Fibonacci series of N given number using function name fibbo. (e.g. 0 1 1 2 3 5 8...)"
   ]
  },
  {
   "cell_type": "markdown",
   "metadata": {
    "id": "dycp5zkoob33"
   },
   "source": [
    "<img src=\"https://www.freecodecamp.org/news/content/images/size/w1000/2022/06/calculate-the-Fibonacci-number-we-have-basic-2-approaches.png\" height=\"600px\" width=\"600px\">"
   ]
  },
  {
   "cell_type": "code",
   "execution_count": 10,
   "metadata": {
    "colab": {
     "base_uri": "https://localhost:8080/"
    },
    "executionInfo": {
     "elapsed": 3062,
     "status": "ok",
     "timestamp": 1706269953723,
     "user": {
      "displayName": "Tej Patel",
      "userId": "04032777318747107215"
     },
     "user_tz": -330
    },
    "id": "MkhS3eE_eiT8",
    "outputId": "9e69cc26-225d-40ca-aab0-b3201e6f8a93"
   },
   "outputs": [
    {
     "name": "stdin",
     "output_type": "stream",
     "text": [
      "Enter Size:  21\n"
     ]
    },
    {
     "name": "stdout",
     "output_type": "stream",
     "text": [
      "[0, 1, 1, 2, 3, 5, 8, 13, 21, 34, 55, 89, 144, 233, 377, 610, 987, 1597, 2584, 4181, 6765]\n"
     ]
    }
   ],
   "source": [
    "def fibbo(n):\n",
    "    li=[0,1]\n",
    "    n1=0\n",
    "    n2=1\n",
    "    n3=0\n",
    "    for i in range(2,n):\n",
    "        n3=n1+n2\n",
    "        li.append(n3)\n",
    "        n1=n2\n",
    "        n2=n3\n",
    "    return li\n",
    "\n",
    "n=int(input(\"Enter Size: \"))\n",
    "print(fibbo(n))"
   ]
  },
  {
   "cell_type": "markdown",
   "metadata": {
    "id": "tNM173u-eiT8"
   },
   "source": [
    "### 07) WAP to find the factorial of a given number using recursion."
   ]
  },
  {
   "cell_type": "code",
   "execution_count": 40,
   "metadata": {
    "executionInfo": {
     "elapsed": 509,
     "status": "ok",
     "timestamp": 1706274925498,
     "user": {
      "displayName": "Tej Patel",
      "userId": "04032777318747107215"
     },
     "user_tz": -330
    },
    "id": "NA7X_-HTeiT8"
   },
   "outputs": [
    {
     "name": "stdin",
     "output_type": "stream",
     "text": [
      "Enter number :  10\n"
     ]
    },
    {
     "name": "stdout",
     "output_type": "stream",
     "text": [
      "Factorial of  10 =  3628800\n"
     ]
    }
   ],
   "source": [
    "n=int(input(\"Enter number : \"))\n",
    "\n",
    "def fact(n):\n",
    "    if n==1:\n",
    "        return 1\n",
    "    return n*fact(n-1)\n",
    "\n",
    "print(\"Factorial of \",n,\"= \",fact(n))"
   ]
  },
  {
   "cell_type": "markdown",
   "metadata": {
    "id": "Hvo07_GIeiT8"
   },
   "source": [
    "### 08) WAP to implement simple calculator using lamda function."
   ]
  },
  {
   "cell_type": "code",
   "execution_count": 16,
   "metadata": {},
   "outputs": [
    {
     "name": "stdin",
     "output_type": "stream",
     "text": [
      "Enter number-1 :  2\n",
      "Enter number-2 :  3\n",
      "Enter Operator :  *\n"
     ]
    },
    {
     "name": "stdout",
     "output_type": "stream",
     "text": [
      "6\n"
     ]
    }
   ],
   "source": [
    "a=int(input(\"Enter number-1 : \"))\n",
    "b=int(input(\"Enter number-2 : \"))\n",
    "op=input(\"Enter Operator : \")\n",
    "\n",
    "if op=='+':\n",
    "    print((lambda a,b:a+b)(a,b))\n",
    "elif op=='-':\n",
    "    print((lambda a,b:a-b)(a,b))\n",
    "elif op=='*':\n",
    "    print((lambda a,b:a*b)(a,b))\n",
    "elif op=='/':\n",
    "    print((lambda a,b:a/b)(a,b))\n",
    "else:\n",
    "    print((lambda a,b:a//b)(a,b))\n"
   ]
  },
  {
   "cell_type": "markdown",
   "metadata": {
    "id": "uDWxOJP0eiT9"
   },
   "source": [
    "### 09)Write a Python program that accepts a hyphen-separated sequence of words as input and prints the words in a hyphen-separated sequence after sorting them alphabetically\n",
    "Sample Items : green-red-yellow-black-white <br>\n",
    "Expected Result : black-green-red-white-yellow"
   ]
  },
  {
   "cell_type": "code",
   "execution_count": 55,
   "metadata": {
    "id": "53ECGGEDeiT9"
   },
   "outputs": [
    {
     "name": "stdin",
     "output_type": "stream",
     "text": [
      "Enter hyphen-separated sequence of words :  red-green-yellow-black-white\n"
     ]
    },
    {
     "name": "stdout",
     "output_type": "stream",
     "text": [
      "red-green-yellow-black-white\n",
      "black-green-red-white-yellow\n"
     ]
    }
   ],
   "source": [
    "str=input(\"Enter hyphen-separated sequence of words : \")\n",
    "print(str)\n",
    "l1=str.split('-')\n",
    "l1=sorted(l1)\n",
    "print('-'.join(l1)) "
   ]
  },
  {
   "cell_type": "markdown",
   "metadata": {
    "id": "aw3g6zMReiT9"
   },
   "source": [
    "### 10) Write a python program to implement all function arguments type\n",
    "Positional arguments <Br>\n",
    "Default argument <Br>\n",
    "Keyword arguments (named arguments) <Br>\n",
    "Arbitrary arguments (variable-length arguments args and kwargs)"
   ]
  },
  {
   "cell_type": "code",
   "execution_count": null,
   "metadata": {
    "id": "vWQLyY3feiT9"
   },
   "outputs": [],
   "source": [
    "# Positional argument"
   ]
  },
  {
   "cell_type": "code",
   "execution_count": 14,
   "metadata": {
    "executionInfo": {
     "elapsed": 616,
     "status": "ok",
     "timestamp": 1706275233845,
     "user": {
      "displayName": "Tej Patel",
      "userId": "04032777318747107215"
     },
     "user_tz": -330
    },
    "id": "SHrIzUAgeiT-"
   },
   "outputs": [
    {
     "name": "stdout",
     "output_type": "stream",
     "text": [
      "20\n"
     ]
    }
   ],
   "source": [
    "# Default argument\n",
    "def defaultArgument (a,b=10) :\n",
    "    print(a+b)\n",
    "\n",
    "defaultArgument(10)"
   ]
  },
  {
   "cell_type": "code",
   "execution_count": null,
   "metadata": {
    "id": "V25yOCnE6pFK"
   },
   "outputs": [],
   "source": [
    "# Keyword argument\n",
    "def keywordArgument (a,b) :\n",
    "    print(a+b)\n",
    "\n",
    "defaultArgument(a=10,)"
   ]
  },
  {
   "cell_type": "code",
   "execution_count": null,
   "metadata": {
    "id": "eV_se_cy6pPy"
   },
   "outputs": [],
   "source": [
    "# Arbitrary arguments awrgs\n",
    "def arbitraryArguments(*b):"
   ]
  },
  {
   "cell_type": "code",
   "execution_count": null,
   "metadata": {
    "id": "vlyhFzmo7Dxw"
   },
   "outputs": [],
   "source": [
    "# Arbitrary arguments kwargs\n",
    "def arbitraryArguments(**b):"
   ]
  },
  {
   "cell_type": "markdown",
   "metadata": {
    "id": "wCmmY35leiT-"
   },
   "source": [
    "### 01) WAP to calculate power of a number using recursion."
   ]
  },
  {
   "cell_type": "code",
   "execution_count": 18,
   "metadata": {
    "id": "mMqjz6pieiT-"
   },
   "outputs": [
    {
     "name": "stdin",
     "output_type": "stream",
     "text": [
      "Enter Number:  2\n",
      "Enter power:  3\n"
     ]
    },
    {
     "name": "stdout",
     "output_type": "stream",
     "text": [
      "Answer =  8\n"
     ]
    }
   ],
   "source": [
    "def power(n,p):\n",
    "    if p>0:\n",
    "        return n*power(n,p-1)\n",
    "    else:\n",
    "        return 1\n",
    "    \n",
    "n=int(input(\"Enter Number: \"))\n",
    "p=int(input(\"Enter power: \"))\n",
    "print(\"Answer = \",power(n,p))"
   ]
  },
  {
   "cell_type": "markdown",
   "metadata": {
    "id": "BFPNH7RjeiT-"
   },
   "source": [
    "### 02) WAP to count digits of a number using recursion."
   ]
  },
  {
   "cell_type": "code",
   "execution_count": 17,
   "metadata": {
    "id": "9fcXXE2DeiT-"
   },
   "outputs": [
    {
     "name": "stdin",
     "output_type": "stream",
     "text": [
      "Enter Number:  123\n"
     ]
    },
    {
     "name": "stdout",
     "output_type": "stream",
     "text": [
      "3\n"
     ]
    }
   ],
   "source": [
    "def digit(n):\n",
    "    if n//10==0:\n",
    "        return 1\n",
    "    else:\n",
    "        return 1+digit(n//10)\n",
    "n1=int(input(\"Enter Number: \"))\n",
    "print(\"Digits = \",digit(n1))"
   ]
  },
  {
   "cell_type": "markdown",
   "metadata": {
    "id": "5NAJC3WCeiT-"
   },
   "source": [
    "### 03) WAP to reverse an integer number using recursion."
   ]
  },
  {
   "cell_type": "code",
   "execution_count": 21,
   "metadata": {
    "id": "ahqG8K85eiT_"
   },
   "outputs": [
    {
     "name": "stdin",
     "output_type": "stream",
     "text": [
      "Enter Number:  1234\n"
     ]
    },
    {
     "data": {
      "text/plain": [
       "4321"
      ]
     },
     "execution_count": 21,
     "metadata": {},
     "output_type": "execute_result"
    }
   ],
   "source": [
    "n=int(input(\"Enter Number: \"))\n",
    "\n",
    "def r_n(n,rev_n=0):\n",
    "    if n==0:\n",
    "        return rev_n\n",
    "    else:\n",
    "        lsdigit=n%10\n",
    "        rev_n=rev_n*10+lsdigit\n",
    "        return r_n(n//10,rev_n)\n",
    "\n",
    "r_n(n)"
   ]
  },
  {
   "cell_type": "markdown",
   "metadata": {
    "id": "aWmK4lQaeiT_"
   },
   "source": [
    "### 04) WAP to convert decimal number into binary using recursion."
   ]
  },
  {
   "cell_type": "markdown",
   "metadata": {
    "id": "ye8jKivs8w-4"
   },
   "source": [
    "<img src=\"https://runestone.academy/ns/books/published/pythonds/_images/dectobin.png\">\n",
    "<img src=\"https://www.tutorialstonight.com/assets/decimal-to-binary-conversion.png\">"
   ]
  },
  {
   "cell_type": "code",
   "execution_count": 33,
   "metadata": {},
   "outputs": [
    {
     "name": "stdin",
     "output_type": "stream",
     "text": [
      "Enter Decimal Number:  22\n"
     ]
    },
    {
     "data": {
      "text/plain": [
       "10110"
      ]
     },
     "execution_count": 33,
     "metadata": {},
     "output_type": "execute_result"
    }
   ],
   "source": [
    "def d_b(dec):\n",
    "    if dec == 0:\n",
    "        return 0\n",
    "    else:\n",
    "        return(dec % 2 + 10 * d_b(int(dec // 2)))\n",
    "    \n",
    "dec=int(input(\"Enter Decimal Number: \"))\n",
    "d_b(dec)"
   ]
  },
  {
   "cell_type": "markdown",
   "metadata": {},
   "source": [
    "\n",
    "# Map , Filter , Reduce"
   ]
  },
  {
   "cell_type": "markdown",
   "metadata": {},
   "source": [
    "### map() function returns a map object(which is an iterator) of the results after applying the given function to each item of a given iterable (list, tuple etc.)"
   ]
  },
  {
   "cell_type": "code",
   "execution_count": 3,
   "metadata": {},
   "outputs": [
    {
     "name": "stdout",
     "output_type": "stream",
     "text": [
      "[1, 4, 9, 16, 25]\n"
     ]
    }
   ],
   "source": [
    "numbers = [1, 2, 3, 4, 5]\n",
    "\n",
    "squared_numbers = list(map(lambda x: x * x, numbers))\n",
    "\n",
    "print(squared_numbers)"
   ]
  },
  {
   "cell_type": "markdown",
   "metadata": {},
   "source": [
    "### The filter() method filters the given sequence with the help of a function that tests each element in the sequence to be true or not."
   ]
  },
  {
   "cell_type": "code",
   "execution_count": 4,
   "metadata": {},
   "outputs": [
    {
     "name": "stdout",
     "output_type": "stream",
     "text": [
      "[1, 3, 5, 13]\n",
      "[0, 2, 8]\n"
     ]
    }
   ],
   "source": [
    "# a list contains both even and odd numbers. \n",
    "seq = [0, 1, 2, 3, 5, 8, 13]\n",
    " \n",
    "# result contains odd numbers of the list\n",
    "result = filter(lambda x: x % 2 != 0, seq)\n",
    "print(list(result))\n",
    " \n",
    "# result contains even numbers of the list\n",
    "result = filter(lambda x: x % 2 == 0, seq)\n",
    "print(list(result))"
   ]
  },
  {
   "cell_type": "markdown",
   "metadata": {},
   "source": [
    "### The reduce(fun,seq) function is used to apply a particular function passed in its argument to all of the list elements mentioned in the sequence passed along.This function is defined in “functools” module."
   ]
  },
  {
   "cell_type": "code",
   "execution_count": 5,
   "metadata": {},
   "outputs": [
    {
     "name": "stdout",
     "output_type": "stream",
     "text": [
      "The sum of the list elements is : 17\n",
      "The maximum element of the list is : 6\n"
     ]
    }
   ],
   "source": [
    " # importing functools for reduce() \n",
    "import functools \n",
    "\n",
    "# initializing list \n",
    "lis = [1, 3, 5, 6, 2] \n",
    "\n",
    "# using reduce to compute sum of list \n",
    "print(\"The sum of the list elements is : \", end=\"\") \n",
    "print(functools.reduce(lambda a, b: a+b, lis)) \n",
    "\n",
    "# using reduce to compute maximum element from list \n",
    "print(\"The maximum element of the list is : \", end=\"\") \n",
    "print(functools.reduce(lambda a, b: a if a > b else b, lis)) \n"
   ]
  }
 ],
 "metadata": {
  "colab": {
   "provenance": []
  },
  "kernelspec": {
   "display_name": "Python 3 (ipykernel)",
   "language": "python",
   "name": "python3"
  },
  "language_info": {
   "codemirror_mode": {
    "name": "ipython",
    "version": 3
   },
   "file_extension": ".py",
   "mimetype": "text/x-python",
   "name": "python",
   "nbconvert_exporter": "python",
   "pygments_lexer": "ipython3",
   "version": "3.12.1"
  }
 },
 "nbformat": 4,
 "nbformat_minor": 4
}
